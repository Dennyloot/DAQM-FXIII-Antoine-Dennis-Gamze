{
 "cells": [
  {
   "cell_type": "markdown",
   "metadata": {},
   "source": [
    "# <center>AQM FS 2021</center>"
   ]
  },
  {
   "attachments": {},
   "cell_type": "markdown",
   "metadata": {},
   "source": [
    "<h2 align=\"center\"> FX III: Building stable and robust models. Identify the relationships with most stable coefficients over time</h2> "
   ]
  },
  {
   "attachments": {},
   "cell_type": "markdown",
   "metadata": {},
   "source": [
    "### Submitted By:\n",
    "**Antoine Mettler** 15-712-110\n",
    "\n",
    "**Dennis Leutwiler** 20-641-676\n",
    "\n",
    "**Gamze Kozan** 12-467-809"
   ]
  },
  {
   "cell_type": "markdown",
   "metadata": {},
   "source": [
    "## <center>Assignment Description</center>\n",
    "\n",
    "III. Building stable and robust models. Identify the relationships with most stable coefficients over time\n",
    "- Download monthly data for asset prices for at least 10 assets and at least 10 macroeconomic variables\n",
    "\n",
    "- Split the data into 4 sub-periods and calculate the descriptive statistics for each of them, as it was the case in AQM Class 1\n",
    "\n",
    "- For each asset, run the stationarity test and decide which variable is stationary\n",
    "\n",
    "- For each asset price or return (as dependent variable), create a loop where you:\n",
    "\n",
    "        - Test at least 5 multivariate OLS models using different combinations of macroeconomic variables. \n",
    "          Save all the results into a table.\n",
    "          \n",
    "        - Choose the most promising regressions and\n",
    "        \n",
    "        - For each regression run the Chow test in the middle of the sample and verify \n",
    "          whether the model is stable or not. Save all the results into a table.\n",
    "          \n",
    "        - Run the rolling window regressions to see whether the Betas are stable over time. Analyze\n",
    "        \n",
    "- Summarize which models are most stable over time.\n"
   ]
  },
  {
   "cell_type": "markdown",
   "metadata": {},
   "source": [
    "## <center>Imports</center>"
   ]
  },
  {
   "cell_type": "code",
   "execution_count": 89,
   "metadata": {},
   "outputs": [],
   "source": [
    "import eikon as ek\n",
    "import pandas as pd\n",
    "import numpy as np\n",
    "import matplotlib.pylab as plt\n",
    "import dataframe_image as dfi\n",
    "import math\n",
    "import matplotlib.pyplot as plt\n",
    "from mpl_toolkits.mplot3d import Axes3D\n",
    "import scipy\n",
    "import scipy.stats\n",
    "import scipy as sp\n",
    "import seaborn as sns\n",
    "import xlsxwriter\n",
    "from math import exp, sqrt, log\n",
    "%matplotlib inline\n",
    "from scipy import stats\n",
    "import statsmodels.api as sm\n",
    "from statsmodels.regression.linear_model import OLS\n",
    "from statsmodels.tsa.stattools import adfuller\n",
    "from statsmodels.stats.stattools import jarque_bera\n",
    "from statsmodels.stats.stattools import durbin_watson\n",
    "import statsmodels.formula.api as smf\n",
    "import statsmodels.stats.api as sms\n",
    "import xlsxwriter\n",
    "import dataframe_image as dfi\n",
    "from termcolor import colored\n",
    "import sys"
   ]
  },
  {
   "cell_type": "markdown",
   "metadata": {},
   "source": [
    "## <center>Download monthly data for asset prices (10) assets, (10) macroeconomic variables</center>"
   ]
  },
  {
   "cell_type": "markdown",
   "metadata": {},
   "source": [
    "### <center>Excel Extraction via Refintiv Workspace</center>\n",
    "<center>Refer to Word document regarding the extraction of data from Refinitiv in Excel</center>"
   ]
  },
  {
   "cell_type": "markdown",
   "metadata": {},
   "source": [
    "### <center>Read in Excel Files - Y-Data (Currencies) & X-Data (Macroeconomic Indicators)</center>"
   ]
  },
  {
   "cell_type": "markdown",
   "metadata": {},
   "source": [
    "#### Reading in Y-Data (Currencies)"
   ]
  },
  {
   "cell_type": "code",
   "execution_count": 65,
   "metadata": {},
   "outputs": [
    {
     "data": {
      "text/html": [
       "<div>\n",
       "<style scoped>\n",
       "    .dataframe tbody tr th:only-of-type {\n",
       "        vertical-align: middle;\n",
       "    }\n",
       "\n",
       "    .dataframe tbody tr th {\n",
       "        vertical-align: top;\n",
       "    }\n",
       "\n",
       "    .dataframe thead th {\n",
       "        text-align: right;\n",
       "    }\n",
       "</style>\n",
       "<table border=\"1\" class=\"dataframe\">\n",
       "  <thead>\n",
       "    <tr style=\"text-align: right;\">\n",
       "      <th></th>\n",
       "      <th>Unnamed: 0</th>\n",
       "      <th>Date</th>\n",
       "      <th>EUR</th>\n",
       "      <th>GBP</th>\n",
       "      <th>JPY</th>\n",
       "      <th>CHF</th>\n",
       "      <th>AUD</th>\n",
       "      <th>CAD</th>\n",
       "      <th>CNY</th>\n",
       "      <th>NZD</th>\n",
       "      <th>SEK</th>\n",
       "      <th>HKD</th>\n",
       "    </tr>\n",
       "  </thead>\n",
       "  <tbody>\n",
       "    <tr>\n",
       "      <th>239</th>\n",
       "      <td>251</td>\n",
       "      <td>2000-01-31</td>\n",
       "      <td>1.031460</td>\n",
       "      <td>0.618888</td>\n",
       "      <td>107.40</td>\n",
       "      <td>1.65660</td>\n",
       "      <td>1.570228</td>\n",
       "      <td>1.44585</td>\n",
       "      <td>8.2786</td>\n",
       "      <td>2.017960</td>\n",
       "      <td>8.86625</td>\n",
       "      <td>7.78035</td>\n",
       "    </tr>\n",
       "    <tr>\n",
       "      <th>238</th>\n",
       "      <td>250</td>\n",
       "      <td>2000-02-29</td>\n",
       "      <td>1.036592</td>\n",
       "      <td>0.633392</td>\n",
       "      <td>110.23</td>\n",
       "      <td>1.66450</td>\n",
       "      <td>1.615900</td>\n",
       "      <td>1.44890</td>\n",
       "      <td>8.2787</td>\n",
       "      <td>2.038944</td>\n",
       "      <td>8.75025</td>\n",
       "      <td>7.78280</td>\n",
       "    </tr>\n",
       "    <tr>\n",
       "      <th>237</th>\n",
       "      <td>249</td>\n",
       "      <td>2000-03-31</td>\n",
       "      <td>1.045861</td>\n",
       "      <td>0.628101</td>\n",
       "      <td>102.80</td>\n",
       "      <td>1.66465</td>\n",
       "      <td>1.645955</td>\n",
       "      <td>1.44910</td>\n",
       "      <td>8.2799</td>\n",
       "      <td>2.014302</td>\n",
       "      <td>8.64000</td>\n",
       "      <td>7.78665</td>\n",
       "    </tr>\n",
       "    <tr>\n",
       "      <th>236</th>\n",
       "      <td>248</td>\n",
       "      <td>2000-04-30</td>\n",
       "      <td>1.096191</td>\n",
       "      <td>0.644330</td>\n",
       "      <td>108.20</td>\n",
       "      <td>1.71720</td>\n",
       "      <td>1.712769</td>\n",
       "      <td>1.48100</td>\n",
       "      <td>8.2773</td>\n",
       "      <td>2.060793</td>\n",
       "      <td>8.91825</td>\n",
       "      <td>7.78910</td>\n",
       "    </tr>\n",
       "    <tr>\n",
       "      <th>235</th>\n",
       "      <td>247</td>\n",
       "      <td>2000-05-31</td>\n",
       "      <td>1.066212</td>\n",
       "      <td>0.666045</td>\n",
       "      <td>107.65</td>\n",
       "      <td>1.68100</td>\n",
       "      <td>1.746877</td>\n",
       "      <td>1.49680</td>\n",
       "      <td>8.2782</td>\n",
       "      <td>2.183645</td>\n",
       "      <td>8.94125</td>\n",
       "      <td>7.79215</td>\n",
       "    </tr>\n",
       "  </tbody>\n",
       "</table>\n",
       "</div>"
      ],
      "text/plain": [
       "     Unnamed: 0       Date       EUR       GBP     JPY      CHF       AUD  \\\n",
       "239         251 2000-01-31  1.031460  0.618888  107.40  1.65660  1.570228   \n",
       "238         250 2000-02-29  1.036592  0.633392  110.23  1.66450  1.615900   \n",
       "237         249 2000-03-31  1.045861  0.628101  102.80  1.66465  1.645955   \n",
       "236         248 2000-04-30  1.096191  0.644330  108.20  1.71720  1.712769   \n",
       "235         247 2000-05-31  1.066212  0.666045  107.65  1.68100  1.746877   \n",
       "\n",
       "         CAD     CNY       NZD      SEK      HKD  \n",
       "239  1.44585  8.2786  2.017960  8.86625  7.78035  \n",
       "238  1.44890  8.2787  2.038944  8.75025  7.78280  \n",
       "237  1.44910  8.2799  2.014302  8.64000  7.78665  \n",
       "236  1.48100  8.2773  2.060793  8.91825  7.78910  \n",
       "235  1.49680  8.2782  2.183645  8.94125  7.79215  "
      ]
     },
     "execution_count": 65,
     "metadata": {},
     "output_type": "execute_result"
    }
   ],
   "source": [
    "path = r\"Currencies - Final.xlsx\"\n",
    "y_var = pd.read_excel(path, dtype=None)\n",
    "\n",
    "y_data = y_var.iloc[::-1]\n",
    "\n",
    "y_data.head()"
   ]
  },
  {
   "cell_type": "markdown",
   "metadata": {},
   "source": [
    "#### Reading in X-Data (Macroeconomic Indicators)"
   ]
  },
  {
   "cell_type": "code",
   "execution_count": 104,
   "metadata": {},
   "outputs": [
    {
     "data": {
      "text/html": [
       "<div>\n",
       "<style scoped>\n",
       "    .dataframe tbody tr th:only-of-type {\n",
       "        vertical-align: middle;\n",
       "    }\n",
       "\n",
       "    .dataframe tbody tr th {\n",
       "        vertical-align: top;\n",
       "    }\n",
       "\n",
       "    .dataframe thead th {\n",
       "        text-align: right;\n",
       "    }\n",
       "</style>\n",
       "<table border=\"1\" class=\"dataframe\">\n",
       "  <thead>\n",
       "    <tr style=\"text-align: right;\">\n",
       "      <th></th>\n",
       "      <th>Unnamed: 0</th>\n",
       "      <th>Date</th>\n",
       "      <th>10Y US Bond Yield</th>\n",
       "      <th>CPI</th>\n",
       "      <th>Fed Funds Rate</th>\n",
       "      <th>GDP Growth Monthly</th>\n",
       "      <th>New_Home_Sales</th>\n",
       "      <th>Non-Farm Payrolls</th>\n",
       "      <th>Oil Prices</th>\n",
       "      <th>PMI</th>\n",
       "      <th>Unemployment Rate</th>\n",
       "      <th>US Trade Balance</th>\n",
       "    </tr>\n",
       "  </thead>\n",
       "  <tbody>\n",
       "    <tr>\n",
       "      <th>239</th>\n",
       "      <td>240</td>\n",
       "      <td>2000-01-01</td>\n",
       "      <td>7.642</td>\n",
       "      <td>0.3</td>\n",
       "      <td>5.87</td>\n",
       "      <td>-0.01</td>\n",
       "      <td>873000</td>\n",
       "      <td>233000</td>\n",
       "      <td>27.65</td>\n",
       "      <td>56.3</td>\n",
       "      <td>4.0</td>\n",
       "      <td>-26506000000</td>\n",
       "    </tr>\n",
       "    <tr>\n",
       "      <th>238</th>\n",
       "      <td>239</td>\n",
       "      <td>2000-02-01</td>\n",
       "      <td>7.602</td>\n",
       "      <td>0.4</td>\n",
       "      <td>5.85</td>\n",
       "      <td>0.01</td>\n",
       "      <td>856000</td>\n",
       "      <td>119000</td>\n",
       "      <td>30.57</td>\n",
       "      <td>56.9</td>\n",
       "      <td>4.1</td>\n",
       "      <td>-28640000000</td>\n",
       "    </tr>\n",
       "    <tr>\n",
       "      <th>237</th>\n",
       "      <td>238</td>\n",
       "      <td>2000-03-01</td>\n",
       "      <td>7.441</td>\n",
       "      <td>0.6</td>\n",
       "      <td>6.17</td>\n",
       "      <td>0.08</td>\n",
       "      <td>900000</td>\n",
       "      <td>472000</td>\n",
       "      <td>26.86</td>\n",
       "      <td>55.8</td>\n",
       "      <td>4.0</td>\n",
       "      <td>-30115000000</td>\n",
       "    </tr>\n",
       "    <tr>\n",
       "      <th>236</th>\n",
       "      <td>237</td>\n",
       "      <td>2000-04-01</td>\n",
       "      <td>7.601</td>\n",
       "      <td>-0.1</td>\n",
       "      <td>6.17</td>\n",
       "      <td>0.11</td>\n",
       "      <td>841000</td>\n",
       "      <td>292000</td>\n",
       "      <td>25.71</td>\n",
       "      <td>54.9</td>\n",
       "      <td>3.8</td>\n",
       "      <td>-28741000000</td>\n",
       "    </tr>\n",
       "    <tr>\n",
       "      <th>235</th>\n",
       "      <td>236</td>\n",
       "      <td>2000-05-01</td>\n",
       "      <td>7.649</td>\n",
       "      <td>0.2</td>\n",
       "      <td>6.83</td>\n",
       "      <td>0.07</td>\n",
       "      <td>857000</td>\n",
       "      <td>217000</td>\n",
       "      <td>29.03</td>\n",
       "      <td>53.2</td>\n",
       "      <td>4.0</td>\n",
       "      <td>-29906000000</td>\n",
       "    </tr>\n",
       "  </tbody>\n",
       "</table>\n",
       "</div>"
      ],
      "text/plain": [
       "     Unnamed: 0       Date  10Y US Bond Yield  CPI  Fed Funds Rate  \\\n",
       "239         240 2000-01-01              7.642  0.3            5.87   \n",
       "238         239 2000-02-01              7.602  0.4            5.85   \n",
       "237         238 2000-03-01              7.441  0.6            6.17   \n",
       "236         237 2000-04-01              7.601 -0.1            6.17   \n",
       "235         236 2000-05-01              7.649  0.2            6.83   \n",
       "\n",
       "     GDP Growth Monthly  New_Home_Sales  Non-Farm Payrolls  Oil Prices   PMI  \\\n",
       "239               -0.01          873000             233000       27.65  56.3   \n",
       "238                0.01          856000             119000       30.57  56.9   \n",
       "237                0.08          900000             472000       26.86  55.8   \n",
       "236                0.11          841000             292000       25.71  54.9   \n",
       "235                0.07          857000             217000       29.03  53.2   \n",
       "\n",
       "     Unemployment Rate  US Trade Balance  \n",
       "239                4.0      -26506000000  \n",
       "238                4.1      -28640000000  \n",
       "237                4.0      -30115000000  \n",
       "236                3.8      -28741000000  \n",
       "235                4.0      -29906000000  "
      ]
     },
     "execution_count": 104,
     "metadata": {},
     "output_type": "execute_result"
    }
   ],
   "source": [
    "path = r\"Economic Indicators Combined Total.xlsx\"\n",
    "x_var = pd.read_excel(path, dtype=None)\n",
    "x_data = x_var.iloc[::-1]\n",
    "x_data.head()"
   ]
  },
  {
   "cell_type": "markdown",
   "metadata": {},
   "source": [
    "### <center>Descriptive Stats Entire Period 2000-2020</center>"
   ]
  },
  {
   "cell_type": "code",
   "execution_count": null,
   "metadata": {},
   "outputs": [],
   "source": [
    "#Descriptive Statistics whole period (Currencies)\n",
    "Currencytotal = y_var[['EUR','GBP','JPY','CHF','AUD','CAD','CNY','NZD','SEK','HKD']].describe()\n",
    "Currencytotal.columns.name = '2000-2020'\n",
    "\n",
    "#Descriptive Statistics whole period (Macroeconomic Indicators)\n",
    "datasetdescribe = x_var[['10Y US Bond Yield','CPI','Fed Funds Rate','GDP Growth Monthly','New_Home_Sales','Non-Farm Payrolls','Oil Prices','PMI','Unemployment Rate','US Trade Balance']].describe()\n",
    "datasetdescribe.columns.name = '2000-2020'\n",
    "\n",
    "#Save results as a table for insertion into word document\n",
    "dfi.export(Currencytotal, 'cur2000-2020.png')\n",
    "dfi.export(datasetdescribe, 'ind2000-2020.png')"
   ]
  },
  {
   "cell_type": "markdown",
   "metadata": {},
   "source": [
    "### Sample Output: descriptive stats"
   ]
  },
  {
   "cell_type": "code",
   "execution_count": 42,
   "metadata": {},
   "outputs": [
    {
     "data": {
      "text/html": [
       "<div>\n",
       "<style scoped>\n",
       "    .dataframe tbody tr th:only-of-type {\n",
       "        vertical-align: middle;\n",
       "    }\n",
       "\n",
       "    .dataframe tbody tr th {\n",
       "        vertical-align: top;\n",
       "    }\n",
       "\n",
       "    .dataframe thead th {\n",
       "        text-align: right;\n",
       "    }\n",
       "</style>\n",
       "<table border=\"1\" class=\"dataframe\">\n",
       "  <thead>\n",
       "    <tr style=\"text-align: right;\">\n",
       "      <th>2000-2020</th>\n",
       "      <th>10Y US Bond Yield</th>\n",
       "      <th>CPI</th>\n",
       "      <th>Fed Funds Rate</th>\n",
       "      <th>GDP Growth Monthly</th>\n",
       "      <th>New_Home_Sales</th>\n",
       "      <th>Non-Farm Payrolls</th>\n",
       "      <th>Oil Prices</th>\n",
       "      <th>PMI</th>\n",
       "      <th>Unemployment Rate</th>\n",
       "      <th>US Trade Balance</th>\n",
       "    </tr>\n",
       "  </thead>\n",
       "  <tbody>\n",
       "    <tr>\n",
       "      <th>count</th>\n",
       "      <td>240.000000</td>\n",
       "      <td>240.000000</td>\n",
       "      <td>240.000000</td>\n",
       "      <td>240.000000</td>\n",
       "      <td>2.400000e+02</td>\n",
       "      <td>240.000000</td>\n",
       "      <td>240.000000</td>\n",
       "      <td>240.000000</td>\n",
       "      <td>240.000000</td>\n",
       "      <td>2.400000e+02</td>\n",
       "    </tr>\n",
       "    <tr>\n",
       "      <th>mean</th>\n",
       "      <td>3.828683</td>\n",
       "      <td>0.177083</td>\n",
       "      <td>1.788667</td>\n",
       "      <td>0.020167</td>\n",
       "      <td>6.926750e+05</td>\n",
       "      <td>88112.500000</td>\n",
       "      <td>62.132292</td>\n",
       "      <td>52.981667</td>\n",
       "      <td>5.881250</td>\n",
       "      <td>-4.463962e+10</td>\n",
       "    </tr>\n",
       "    <tr>\n",
       "      <th>std</th>\n",
       "      <td>1.590098</td>\n",
       "      <td>0.290606</td>\n",
       "      <td>1.946106</td>\n",
       "      <td>0.027534</td>\n",
       "      <td>3.038770e+05</td>\n",
       "      <td>215114.973272</td>\n",
       "      <td>26.270022</td>\n",
       "      <td>5.418865</td>\n",
       "      <td>1.809442</td>\n",
       "      <td>1.020595e+10</td>\n",
       "    </tr>\n",
       "    <tr>\n",
       "      <th>min</th>\n",
       "      <td>1.370000</td>\n",
       "      <td>-1.800000</td>\n",
       "      <td>0.040000</td>\n",
       "      <td>-0.100000</td>\n",
       "      <td>2.700000e+05</td>\n",
       "      <td>-800000.000000</td>\n",
       "      <td>19.460000</td>\n",
       "      <td>32.400000</td>\n",
       "      <td>3.500000</td>\n",
       "      <td>-6.827700e+10</td>\n",
       "    </tr>\n",
       "    <tr>\n",
       "      <th>25%</th>\n",
       "      <td>2.397500</td>\n",
       "      <td>0.000000</td>\n",
       "      <td>0.140000</td>\n",
       "      <td>0.010000</td>\n",
       "      <td>4.317500e+05</td>\n",
       "      <td>7250.000000</td>\n",
       "      <td>41.682500</td>\n",
       "      <td>50.075000</td>\n",
       "      <td>4.575000</td>\n",
       "      <td>-5.062350e+10</td>\n",
       "    </tr>\n",
       "    <tr>\n",
       "      <th>50%</th>\n",
       "      <td>3.587350</td>\n",
       "      <td>0.200000</td>\n",
       "      <td>1.115000</td>\n",
       "      <td>0.020000</td>\n",
       "      <td>6.180000e+05</td>\n",
       "      <td>149000.000000</td>\n",
       "      <td>59.550000</td>\n",
       "      <td>53.500000</td>\n",
       "      <td>5.400000</td>\n",
       "      <td>-4.273250e+10</td>\n",
       "    </tr>\n",
       "    <tr>\n",
       "      <th>75%</th>\n",
       "      <td>5.093750</td>\n",
       "      <td>0.300000</td>\n",
       "      <td>2.502500</td>\n",
       "      <td>0.040000</td>\n",
       "      <td>9.367500e+05</td>\n",
       "      <td>221250.000000</td>\n",
       "      <td>82.092500</td>\n",
       "      <td>56.525000</td>\n",
       "      <td>6.825000</td>\n",
       "      <td>-3.854050e+10</td>\n",
       "    </tr>\n",
       "    <tr>\n",
       "      <th>max</th>\n",
       "      <td>7.649000</td>\n",
       "      <td>1.400000</td>\n",
       "      <td>6.860000</td>\n",
       "      <td>0.110000</td>\n",
       "      <td>1.389000e+06</td>\n",
       "      <td>540000.000000</td>\n",
       "      <td>139.960000</td>\n",
       "      <td>66.200000</td>\n",
       "      <td>10.000000</td>\n",
       "      <td>-2.584000e+10</td>\n",
       "    </tr>\n",
       "  </tbody>\n",
       "</table>\n",
       "</div>"
      ],
      "text/plain": [
       "2000-2020  10Y US Bond Yield         CPI  Fed Funds Rate  GDP Growth Monthly  \\\n",
       "count             240.000000  240.000000      240.000000          240.000000   \n",
       "mean                3.828683    0.177083        1.788667            0.020167   \n",
       "std                 1.590098    0.290606        1.946106            0.027534   \n",
       "min                 1.370000   -1.800000        0.040000           -0.100000   \n",
       "25%                 2.397500    0.000000        0.140000            0.010000   \n",
       "50%                 3.587350    0.200000        1.115000            0.020000   \n",
       "75%                 5.093750    0.300000        2.502500            0.040000   \n",
       "max                 7.649000    1.400000        6.860000            0.110000   \n",
       "\n",
       "2000-2020  New_Home_Sales  Non-Farm Payrolls  Oil Prices         PMI  \\\n",
       "count        2.400000e+02         240.000000  240.000000  240.000000   \n",
       "mean         6.926750e+05       88112.500000   62.132292   52.981667   \n",
       "std          3.038770e+05      215114.973272   26.270022    5.418865   \n",
       "min          2.700000e+05     -800000.000000   19.460000   32.400000   \n",
       "25%          4.317500e+05        7250.000000   41.682500   50.075000   \n",
       "50%          6.180000e+05      149000.000000   59.550000   53.500000   \n",
       "75%          9.367500e+05      221250.000000   82.092500   56.525000   \n",
       "max          1.389000e+06      540000.000000  139.960000   66.200000   \n",
       "\n",
       "2000-2020  Unemployment Rate  US Trade Balance  \n",
       "count             240.000000      2.400000e+02  \n",
       "mean                5.881250     -4.463962e+10  \n",
       "std                 1.809442      1.020595e+10  \n",
       "min                 3.500000     -6.827700e+10  \n",
       "25%                 4.575000     -5.062350e+10  \n",
       "50%                 5.400000     -4.273250e+10  \n",
       "75%                 6.825000     -3.854050e+10  \n",
       "max                10.000000     -2.584000e+10  "
      ]
     },
     "execution_count": 42,
     "metadata": {},
     "output_type": "execute_result"
    }
   ],
   "source": [
    "datasetdescribe"
   ]
  },
  {
   "cell_type": "markdown",
   "metadata": {},
   "source": [
    "### <center>Histogram creation & saves - checking distribution</center>"
   ]
  },
  {
   "cell_type": "markdown",
   "metadata": {},
   "source": [
    "#### Currency Histograms"
   ]
  },
  {
   "cell_type": "code",
   "execution_count": null,
   "metadata": {},
   "outputs": [],
   "source": [
    "#distribution of variables (currencies)\n",
    "\n",
    "plt.style.use('ggplot')\n",
    "y_var.iloc[:,2].plot(kind='hist', color='skyblue', edgecolor='black', figsize=(10,7))\n",
    "plt.title('Distribution - EUR', size=24)\n",
    "plt.xlabel('EUR', size=18)\n",
    "plt.ylabel('Frequency', size=18)\n",
    "plt.savefig('Hist_'+ 'EUR' +'.png')"
   ]
  },
  {
   "cell_type": "code",
   "execution_count": null,
   "metadata": {},
   "outputs": [],
   "source": [
    "plt.style.use('ggplot')\n",
    "y_var.iloc[:,3].plot(kind='hist', color='skyblue', edgecolor='black', figsize=(10,7))\n",
    "plt.title('Distribution - GBP', size=24)\n",
    "plt.xlabel('GBP', size=18)\n",
    "plt.ylabel('Frequency', size=18)\n",
    "plt.savefig('Hist_'+ 'GBP' +'.png')"
   ]
  },
  {
   "cell_type": "code",
   "execution_count": null,
   "metadata": {},
   "outputs": [],
   "source": [
    "plt.style.use('ggplot')\n",
    "y_var.iloc[:,4].plot(kind='hist', color='skyblue', edgecolor='black', figsize=(10,7))\n",
    "plt.title('Distribution - JPY', size=24)\n",
    "plt.xlabel('JPY', size=18)\n",
    "plt.ylabel('Frequency', size=18)\n",
    "plt.savefig('Hist_'+ 'JPY' +'.png')"
   ]
  },
  {
   "cell_type": "code",
   "execution_count": null,
   "metadata": {},
   "outputs": [],
   "source": [
    "plt.style.use('ggplot')\n",
    "y_var.iloc[:,5].plot(kind='hist', color='skyblue', edgecolor='black', figsize=(10,7))\n",
    "plt.title('Distribution - CHF', size=24)\n",
    "plt.xlabel('CHF', size=18)\n",
    "plt.ylabel('Frequency', size=18)\n",
    "plt.savefig('Hist_'+ 'CHF' +'.png')"
   ]
  },
  {
   "cell_type": "code",
   "execution_count": null,
   "metadata": {},
   "outputs": [],
   "source": [
    "plt.style.use('ggplot')\n",
    "y_var.iloc[:,6].plot(kind='hist', color='skyblue', edgecolor='black', figsize=(10,7))\n",
    "plt.title('Distribution - AUD', size=24)\n",
    "plt.xlabel('AUD', size=18)\n",
    "plt.ylabel('Frequency', size=18)\n",
    "plt.savefig('Hist_'+ 'AUD' +'.png')"
   ]
  },
  {
   "cell_type": "code",
   "execution_count": null,
   "metadata": {},
   "outputs": [],
   "source": [
    "plt.style.use('ggplot')\n",
    "y_var.iloc[:,7].plot(kind='hist', color='skyblue', edgecolor='black', figsize=(10,7))\n",
    "plt.title('Distribution - CAD', size=24)\n",
    "plt.xlabel('CAD', size=18)\n",
    "plt.ylabel('Frequency', size=18)\n",
    "plt.savefig('Hist_'+ 'CAD' +'.png')"
   ]
  },
  {
   "cell_type": "code",
   "execution_count": null,
   "metadata": {},
   "outputs": [],
   "source": [
    "plt.style.use('ggplot')\n",
    "y_var.iloc[:,8].plot(kind='hist', color='skyblue', edgecolor='black', figsize=(10,7))\n",
    "plt.title('Distribution - CNY', size=24)\n",
    "plt.xlabel('CNY', size=18)\n",
    "plt.ylabel('Frequency', size=18)\n",
    "plt.savefig('Hist_'+ 'CNY' +'.png')"
   ]
  },
  {
   "cell_type": "code",
   "execution_count": null,
   "metadata": {},
   "outputs": [],
   "source": [
    "plt.style.use('ggplot')\n",
    "y_var.iloc[:,9].plot(kind='hist', color='skyblue', edgecolor='black', figsize=(10,7))\n",
    "plt.title('Distribution - NZD', size=24)\n",
    "plt.xlabel('NZD', size=18)\n",
    "plt.ylabel('Frequency', size=18)\n",
    "plt.savefig('Hist_'+ 'NZD' +'.png')"
   ]
  },
  {
   "cell_type": "code",
   "execution_count": null,
   "metadata": {},
   "outputs": [],
   "source": [
    "plt.style.use('ggplot')\n",
    "y_var.iloc[:,10].plot(kind='hist', color='skyblue', edgecolor='black', figsize=(10,7))\n",
    "plt.title('Distribution - SEK', size=24)\n",
    "plt.xlabel('SEK', size=18)\n",
    "plt.ylabel('Frequency', size=18)\n",
    "plt.savefig('Hist_'+ 'SEK' +'.png')"
   ]
  },
  {
   "cell_type": "code",
   "execution_count": null,
   "metadata": {},
   "outputs": [],
   "source": [
    "plt.style.use('ggplot')\n",
    "y_var.iloc[:,11].plot(kind='hist', color='skyblue', edgecolor='black', figsize=(10,7))\n",
    "plt.title('Distribution - HKD', size=24)\n",
    "plt.xlabel('HKD', size=18)\n",
    "plt.ylabel('Frequency', size=18)\n",
    "plt.savefig('Hist_'+ 'HKD' +'.png')"
   ]
  },
  {
   "cell_type": "markdown",
   "metadata": {},
   "source": [
    "#### Indicator Histograms"
   ]
  },
  {
   "cell_type": "code",
   "execution_count": null,
   "metadata": {},
   "outputs": [],
   "source": [
    "#distribution of variables (indicators)\n",
    "\n",
    "plt.style.use('ggplot')\n",
    "x_var.iloc[:,9].plot(kind='hist', color='skyblue', edgecolor='black', figsize=(10,7))\n",
    "plt.title('Distribution - PMI', size=24)\n",
    "plt.xlabel('PMI', size=18)\n",
    "plt.ylabel('Frequency', size=18)\n",
    "plt.savefig('Hist_PMI.png')"
   ]
  },
  {
   "cell_type": "code",
   "execution_count": null,
   "metadata": {},
   "outputs": [],
   "source": [
    "plt.style.use('ggplot')\n",
    "x_var.iloc[:,11].plot(kind='hist', color='skyblue', edgecolor='black', figsize=(10,7))\n",
    "plt.title('Distribution - US Trade Balance', size=24)\n",
    "plt.xlabel('US Trade Balance', size=18)\n",
    "plt.ylabel('Frequency', size=18)\n",
    "plt.savefig('Hist_US_Trade_Balance.png')"
   ]
  },
  {
   "cell_type": "code",
   "execution_count": null,
   "metadata": {},
   "outputs": [],
   "source": [
    "plt.style.use('ggplot')\n",
    "x_var.iloc[:,10].plot(kind='hist', color='skyblue', edgecolor='black', figsize=(10,7))\n",
    "plt.title('Distribution - Unemployment', size=24)\n",
    "plt.xlabel('Unemployment', size=18)\n",
    "plt.ylabel('Frequency', size=18)\n",
    "plt.savefig('Hist_Unemployment.png')"
   ]
  },
  {
   "cell_type": "code",
   "execution_count": null,
   "metadata": {},
   "outputs": [],
   "source": [
    "plt.style.use('ggplot')\n",
    "x_var.iloc[:,7].plot(kind='hist', color='skyblue', edgecolor='black', figsize=(10,7))\n",
    "plt.title('Distribution - Non-farm Payrolls', size=24)\n",
    "plt.xlabel('Non-Farm Payrolls', size=18)\n",
    "plt.ylabel('Frequency', size=18)\n",
    "plt.savefig('Hist_Non-Farm_Payrolls.png')"
   ]
  },
  {
   "cell_type": "code",
   "execution_count": null,
   "metadata": {},
   "outputs": [],
   "source": [
    "plt.style.use('ggplot')\n",
    "x_var.iloc[:,8].plot(kind='hist', color='skyblue', edgecolor='black', figsize=(10,7))\n",
    "plt.title('Distribution - Oil Prices', size=24)\n",
    "plt.xlabel('Oil Prices', size=18)\n",
    "plt.ylabel('Frequency', size=18)\n",
    "plt.savefig('Hist_Oil_Prices.png')"
   ]
  },
  {
   "cell_type": "code",
   "execution_count": null,
   "metadata": {},
   "outputs": [],
   "source": [
    "plt.style.use('ggplot')\n",
    "x_var.iloc[:,6].plot(kind='hist', color='skyblue', edgecolor='black', figsize=(10,7))\n",
    "plt.title('Distribution - New Home Sales', size=24)\n",
    "plt.xlabel('New Home Sales', size=18)\n",
    "plt.ylabel('Frequency', size=18)\n",
    "plt.savefig('Hist_New_Home_Sales.png')"
   ]
  },
  {
   "cell_type": "code",
   "execution_count": null,
   "metadata": {},
   "outputs": [],
   "source": [
    "plt.style.use('ggplot')\n",
    "x_var.iloc[:,2].plot(kind='hist', color='skyblue', edgecolor='black', figsize=(10,7))\n",
    "plt.title('Distribution - 10Y US Bond Yield', size=24)\n",
    "plt.xlabel('10 Year Government Bond Yield', size=18)\n",
    "plt.ylabel('Frequency', size=18)\n",
    "plt.savefig('Hist_GOV_10Y_Yield.png')"
   ]
  },
  {
   "cell_type": "code",
   "execution_count": null,
   "metadata": {},
   "outputs": [],
   "source": [
    "plt.style.use('ggplot')\n",
    "x_var.iloc[:,5].plot(kind='hist', color='skyblue', edgecolor='black', figsize=(10,7))\n",
    "plt.title('Distribution - GDP Growth Monthly', size=24)\n",
    "plt.xlabel('GDP Growth Monthly', size=18)\n",
    "plt.ylabel('Frequency', size=18)\n",
    "plt.savefig('Hist_GDP_Growth_Monthly.png')"
   ]
  },
  {
   "cell_type": "code",
   "execution_count": null,
   "metadata": {},
   "outputs": [],
   "source": [
    "plt.style.use('ggplot')\n",
    "x_var.iloc[:,4].plot(kind='hist', color='skyblue', edgecolor='black', figsize=(10,7))\n",
    "plt.title('Distribution - Fed Funds Rate', size=24)\n",
    "plt.xlabel('Fed Funds Rate', size=18)\n",
    "plt.ylabel('Frequency', size=18)\n",
    "plt.savefig('Hist_Fed_Funds_Rate.png')"
   ]
  },
  {
   "cell_type": "code",
   "execution_count": null,
   "metadata": {},
   "outputs": [],
   "source": [
    "plt.style.use('ggplot')\n",
    "x_var.iloc[:,3].plot(kind='hist', color='skyblue', edgecolor='black', figsize=(10,7))\n",
    "plt.title('Distribution - CPI', size=24)\n",
    "plt.xlabel('CPI', size=18)\n",
    "plt.ylabel('Frequency', size=18)\n",
    "plt.savefig('Hist_CPI.png')"
   ]
  },
  {
   "cell_type": "markdown",
   "metadata": {},
   "source": [
    "### Sample Output: Histograms (currencies & indicators)\n",
    "Observation: these grouped histograms below are intended for visual understanding for readers of the code. For the main work the code above was used which produced sharper, larger histograms for insertion into the word document. "
   ]
  },
  {
   "cell_type": "code",
   "execution_count": 102,
   "metadata": {
    "scrolled": false
   },
   "outputs": [
    {
     "data": {
      "text/plain": [
       "array([[<AxesSubplot:title={'center':'EUR'}>,\n",
       "        <AxesSubplot:title={'center':'GBP'}>,\n",
       "        <AxesSubplot:title={'center':'JPY'}>],\n",
       "       [<AxesSubplot:title={'center':'CHF'}>,\n",
       "        <AxesSubplot:title={'center':'AUD'}>,\n",
       "        <AxesSubplot:title={'center':'CAD'}>],\n",
       "       [<AxesSubplot:title={'center':'CNY'}>,\n",
       "        <AxesSubplot:title={'center':'NZD'}>,\n",
       "        <AxesSubplot:title={'center':'SEK'}>],\n",
       "       [<AxesSubplot:title={'center':'HKD'}>, <AxesSubplot:>,\n",
       "        <AxesSubplot:>]], dtype=object)"
      ]
     },
     "execution_count": 102,
     "metadata": {},
     "output_type": "execute_result"
    },
    {
     "data": {
      "image/png": "[encoded data removed]",
      "text/plain": [
       "<Figure size 432x288 with 12 Axes>"
      ]
     },
     "metadata": {},
     "output_type": "display_data"
    }
   ],
   "source": [
    "#The following histograms are only intended as a visual representation of the ones created for insertion into the word document\n",
    "#CURRENCIES\n",
    "yvarh = y_var.copy()\n",
    "yvarh.drop(axis = 1, columns = 'Unnamed: 0', inplace = True)\n",
    "yvarh.drop(axis = 1, columns = 'Date', inplace = True)\n",
    "yvarh.hist(bins=25, color='magenta')"
   ]
  },
  {
   "cell_type": "code",
   "execution_count": 72,
   "metadata": {},
   "outputs": [
    {
     "data": {
      "text/plain": [
       "array([[<AxesSubplot:title={'center':'10Y US Bond Yield'}>,\n",
       "        <AxesSubplot:title={'center':'CPI'}>,\n",
       "        <AxesSubplot:title={'center':'Fed Funds Rate'}>],\n",
       "       [<AxesSubplot:title={'center':'GDP Growth Monthly'}>,\n",
       "        <AxesSubplot:title={'center':'New_Home_Sales'}>,\n",
       "        <AxesSubplot:title={'center':'Non-Farm Payrolls'}>],\n",
       "       [<AxesSubplot:title={'center':'Oil Prices'}>,\n",
       "        <AxesSubplot:title={'center':'PMI'}>,\n",
       "        <AxesSubplot:title={'center':'Unemployment Rate'}>],\n",
       "       [<AxesSubplot:title={'center':'US Trade Balance'}>,\n",
       "        <AxesSubplot:>, <AxesSubplot:>]], dtype=object)"
      ]
     },
     "execution_count": 72,
     "metadata": {},
     "output_type": "execute_result"
    },
    {
     "data": {
      "image/png": "[encoded data removed]",
      "text/plain": [
       "<Figure size 432x288 with 12 Axes>"
      ]
     },
     "metadata": {},
     "output_type": "display_data"
    }
   ],
   "source": [
    "#The following histograms are only intended as a visual representation of the ones created for insertion into the word document\n",
    "#CURRENCIES\n",
    "xvarh = x_var.copy()\n",
    "xvarh.drop(axis = 1, columns = 'Unnamed: 0', inplace = True)\n",
    "xvarh.drop(axis = 1, columns = 'Date', inplace = True)\n",
    "xvarh.hist(bins=25)"
   ]
  },
  {
   "cell_type": "markdown",
   "metadata": {},
   "source": [
    "### <center>Normality Tests of Data (Shapiro-Wilk Tests)</center>"
   ]
  },
  {
   "cell_type": "code",
   "execution_count": 100,
   "metadata": {
    "scrolled": true
   },
   "outputs": [
    {
     "name": "stdout",
     "output_type": "stream",
     "text": [
      "===============Currencies====================\n",
      "p-value for Shapiro-Wilk: \n",
      "1.0871971101167333e-09\n",
      "EUR Sample does not look Gaussian (reject H0)\n",
      "_____________________________________________\n",
      "p-value for Shapiro-Wilk: \n",
      "0.0003246187116019428\n",
      "GBP Sample does not look Gaussian (reject H0)\n",
      "_____________________________________________\n",
      "p-value for Shapiro-Wilk: \n",
      "2.753682259992729e-08\n",
      "JPY Sample does not look Gaussian (reject H0)\n",
      "_____________________________________________\n",
      "p-value for Shapiro-Wilk: \n",
      "5.115418315717116e-14\n",
      "CHF Sample does not look Gaussian (reject H0)\n",
      "_____________________________________________\n",
      "p-value for Shapiro-Wilk: \n",
      "6.016572573486201e-09\n",
      "AUD Sample does not look Gaussian (reject H0)\n",
      "_____________________________________________\n",
      "p-value for Shapiro-Wilk: \n",
      "5.8618859100079135e-08\n",
      "CAD Sample does not look Gaussian (reject H0)\n",
      "_____________________________________________\n",
      "p-value for Shapiro-Wilk: \n",
      "5.66396024049079e-15\n",
      "CNY Sample does not look Gaussian (reject H0)\n",
      "_____________________________________________\n",
      "p-value for Shapiro-Wilk: \n",
      "3.398050280131753e-16\n",
      "NZD Sample does not look Gaussian (reject H0)\n",
      "_____________________________________________\n",
      "p-value for Shapiro-Wilk: \n",
      "8.016442620828457e-07\n",
      "SEK Sample does not look Gaussian (reject H0)\n",
      "_____________________________________________\n",
      "p-value for Shapiro-Wilk: \n",
      "4.89238059786512e-11\n",
      "HKD Sample does not look Gaussian (reject H0)\n",
      "_____________________________________________\n",
      "\u001b[35m===============Indicators====================\u001b[0m\n",
      "\u001b[35mp-value for Shapiro-Wilk: \u001b[0m\n",
      "\u001b[35m3.2302341423928738e-06\u001b[0m\n",
      "\u001b[35mPMI Sample does not look Gaussian (reject H0)\u001b[0m\n",
      "\u001b[35m_____________________________________________\u001b[0m\n",
      "\u001b[35mp-value for Shapiro-Wilk: \u001b[0m\n",
      "\u001b[35m1.4365892866408103e-06\u001b[0m\n",
      "\u001b[35mUS Trade Balance Sample does not look Gaussian (reject H0)\u001b[0m\n",
      "\u001b[35m_____________________________________________\u001b[0m\n",
      "\u001b[35mp-value for Shapiro-Wilk: \u001b[0m\n",
      "\u001b[35m2.2743573517558513e-12\u001b[0m\n",
      "\u001b[35mUnemployment Rate Sample does not look Gaussian (reject H0)\u001b[0m\n",
      "\u001b[35m_____________________________________________\u001b[0m\n",
      "\u001b[35mp-value for Shapiro-Wilk: \u001b[0m\n",
      "\u001b[35m2.4566489792952895e-14\u001b[0m\n",
      "\u001b[35mNon-Farm Payrolls Sample does not look Gaussian (reject H0)\u001b[0m\n",
      "\u001b[35m_____________________________________________\u001b[0m\n",
      "\u001b[35mp-value for Shapiro-Wilk: \u001b[0m\n",
      "\u001b[35m3.9451042539440095e-06\u001b[0m\n",
      "\u001b[35mOil Prices Sample does not look Gaussian (reject H0)\u001b[0m\n",
      "\u001b[35m_____________________________________________\u001b[0m\n",
      "\u001b[35mp-value for Shapiro-Wilk: \u001b[0m\n",
      "\u001b[35m1.6777101929932314e-09\u001b[0m\n",
      "\u001b[35mNew Home Sales Sample does not look Gaussian (reject H0)\u001b[0m\n",
      "\u001b[35m_____________________________________________\u001b[0m\n",
      "\u001b[35mp-value for Shapiro-Wilk: \u001b[0m\n",
      "\u001b[35m1.1506355690471537e-07\u001b[0m\n",
      "\u001b[35m10Y Bond Yield Sample does not look Gaussian (reject H0)\u001b[0m\n",
      "\u001b[35m_____________________________________________\u001b[0m\n",
      "\u001b[35mp-value for Shapiro-Wilk: \u001b[0m\n",
      "\u001b[35m3.5671240961043793e-10\u001b[0m\n",
      "\u001b[35mGDP Growth Monthly Sample does not look Gaussian (reject H0)\u001b[0m\n",
      "\u001b[35m_____________________________________________\u001b[0m\n",
      "\u001b[35mp-value for Shapiro-Wilk: \u001b[0m\n",
      "\u001b[35m8.767334693355027e-16\u001b[0m\n",
      "\u001b[35mFed Funds Rate Sample does not look Gaussian (reject H0)\u001b[0m\n",
      "\u001b[35m_____________________________________________\u001b[0m\n",
      "\u001b[35mp-value for Shapiro-Wilk: \u001b[0m\n",
      "\u001b[35m3.2044533042688284e-13\u001b[0m\n",
      "\u001b[35mCPI Sample does not look Gaussian (reject H0)\u001b[0m\n",
      "\u001b[35m_____________________________________________\u001b[0m\n"
     ]
    }
   ],
   "source": [
    "#Shapiro-Wilk Normality Test EUR\n",
    "print('===============Currencies====================')\n",
    "stat,p=sp.stats.shapiro(y_var['EUR'])                  \n",
    "\n",
    "print(\"p-value for Shapiro-Wilk: \")\n",
    "print(p)\n",
    "\n",
    "alpha = 0.05\n",
    "if p > alpha:\n",
    "\tprint('EUR Sample looks Gaussian (fail to reject H0)')\n",
    "else:\n",
    "\tprint('EUR Sample does not look Gaussian (reject H0)')\n",
    "\tprint('_____________________________________________')        \n",
    "    \n",
    "stat,p=sp.stats.shapiro(y_var['GBP'])\n",
    "\n",
    "print(\"p-value for Shapiro-Wilk: \")\n",
    "print(p)\n",
    "\n",
    "alpha = 0.05\n",
    "if p > alpha:\n",
    "\tprint('GBP Sample looks Gaussian (fail to reject H0)')\n",
    "else:\n",
    "\tprint('GBP Sample does not look Gaussian (reject H0)')\n",
    "\tprint('_____________________________________________')\n",
    "    \n",
    "stat,p=sp.stats.shapiro(y_var['JPY'])\n",
    "\n",
    "print(\"p-value for Shapiro-Wilk: \")\n",
    "print(p)\n",
    "\n",
    "alpha = 0.05\n",
    "if p > alpha:\n",
    "\tprint('JPY Sample looks Gaussian (fail to reject H0)')\n",
    "else:\n",
    "\tprint('JPY Sample does not look Gaussian (reject H0)')\n",
    "\tprint('_____________________________________________')\n",
    "    \n",
    "stat,p=sp.stats.shapiro(y_var['CHF'])\n",
    "\n",
    "print(\"p-value for Shapiro-Wilk: \")\n",
    "print(p)\n",
    "\n",
    "alpha = 0.05\n",
    "if p > alpha:\n",
    "\tprint('CHF Sample looks Gaussian (fail to reject H0)')\n",
    "else:\n",
    "\tprint('CHF Sample does not look Gaussian (reject H0)')\n",
    "\tprint('_____________________________________________')\n",
    "    \n",
    "stat,p=sp.stats.shapiro(y_var['AUD'])\n",
    "\n",
    "print(\"p-value for Shapiro-Wilk: \")\n",
    "print(p)\n",
    "\n",
    "alpha = 0.05\n",
    "if p > alpha:\n",
    "\tprint('AUD Sample looks Gaussian (fail to reject H0)')\n",
    "else:\n",
    "\tprint('AUD Sample does not look Gaussian (reject H0)')\n",
    "\tprint('_____________________________________________')\n",
    "    \n",
    "stat,p=sp.stats.shapiro(y_var['CAD'])\n",
    "\n",
    "print(\"p-value for Shapiro-Wilk: \")\n",
    "print(p)\n",
    "\n",
    "alpha = 0.05\n",
    "if p > alpha:\n",
    "\tprint('CAD Sample looks Gaussian (fail to reject H0)')\n",
    "else:\n",
    "\tprint('CAD Sample does not look Gaussian (reject H0)')\n",
    "\tprint('_____________________________________________')\n",
    "    \n",
    "stat,p=sp.stats.shapiro(y_var['CNY'])\n",
    "\n",
    "print(\"p-value for Shapiro-Wilk: \")\n",
    "print(p)\n",
    "\n",
    "alpha = 0.05\n",
    "if p > alpha:\n",
    "\tprint('CNY Sample looks Gaussian (fail to reject H0)')\n",
    "else:\n",
    "\tprint('CNY Sample does not look Gaussian (reject H0)')\n",
    "\tprint('_____________________________________________')\n",
    "    \n",
    "stat,p=sp.stats.shapiro(y_var['NZD'])\n",
    "\n",
    "print(\"p-value for Shapiro-Wilk: \")\n",
    "print(p)\n",
    "\n",
    "alpha = 0.05\n",
    "if p > alpha:\n",
    "\tprint('NZD Sample looks Gaussian (fail to reject H0)')\n",
    "else:\n",
    "\tprint('NZD Sample does not look Gaussian (reject H0)')\n",
    "\tprint('_____________________________________________')\n",
    "    \n",
    "stat,p=sp.stats.shapiro(y_var['SEK'])\n",
    "\n",
    "print(\"p-value for Shapiro-Wilk: \")\n",
    "print(p)\n",
    "\n",
    "alpha = 0.05\n",
    "if p > alpha:\n",
    "\tprint('SEK Sample looks Gaussian (fail to reject H0)')\n",
    "else:\n",
    "\tprint('SEK Sample does not look Gaussian (reject H0)')\n",
    "\tprint('_____________________________________________')\n",
    "    \n",
    "stat,p=sp.stats.shapiro(y_var['HKD'])\n",
    "\n",
    "print(\"p-value for Shapiro-Wilk: \")\n",
    "print(p)\n",
    "\n",
    "alpha = 0.05\n",
    "if p > alpha:\n",
    "\tprint('HKD Sample looks Gaussian (fail to reject H0)')\n",
    "else:\n",
    "\tprint('HKD Sample does not look Gaussian (reject H0)')\n",
    "\tprint('_____________________________________________')\n",
    "\n",
    "print(colored('===============Indicators====================', 'magenta'))\n",
    "\n",
    "stat,p=sp.stats.shapiro(x_var['PMI'])\n",
    "\n",
    "print(colored(\"p-value for Shapiro-Wilk: \", 'magenta'))\n",
    "print(colored(p, 'magenta'))\n",
    "\n",
    "alpha = 0.05\n",
    "if p > alpha:\n",
    "\tprint(colored('PMI Sample looks Gaussian (fail to reject H0)', 'magenta'))\n",
    "else:\n",
    "\tprint(colored('PMI Sample does not look Gaussian (reject H0)', 'magenta'))\n",
    "\tprint(colored('_____________________________________________', 'magenta'))\n",
    "    \n",
    "stat,p=sp.stats.shapiro(x_var['US Trade Balance'])\n",
    "\n",
    "print(colored(\"p-value for Shapiro-Wilk: \", 'magenta'))\n",
    "print(colored(p, 'magenta'))\n",
    "\n",
    "alpha = 0.05\n",
    "if p > alpha:\n",
    "\tprint(colored('US TRade Balance Sample looks Gaussian (fail to reject H0)', 'magenta'))\n",
    "else:\n",
    "\tprint(colored('US Trade Balance Sample does not look Gaussian (reject H0)', 'magenta'))\n",
    "\tprint(colored('_____________________________________________', 'magenta'))  \n",
    "    \n",
    "stat,p=sp.stats.shapiro(x_var['Unemployment Rate'])\n",
    "\n",
    "print(colored(\"p-value for Shapiro-Wilk: \", 'magenta'))\n",
    "print(colored(p, 'magenta'))\n",
    "\n",
    "alpha = 0.05\n",
    "if p > alpha:\n",
    "\tprint(colored('Unemployment Rate Sample looks Gaussian (fail to reject H0)', 'magenta'))\n",
    "else:\n",
    "\tprint(colored('Unemployment Rate Sample does not look Gaussian (reject H0)', 'magenta'))\n",
    "\tprint(colored('_____________________________________________', 'magenta'))\n",
    "    \n",
    "stat,p=sp.stats.shapiro(x_var['Non-Farm Payrolls'])\n",
    "\n",
    "print(colored(\"p-value for Shapiro-Wilk: \", 'magenta'))\n",
    "print(colored(p, 'magenta'))\n",
    "\n",
    "alpha = 0.05\n",
    "if p > alpha:\n",
    "\tprint(colored('Non-Farm Payrolls Sample looks Gaussian (fail to reject H0)', 'magenta'))\n",
    "else:\n",
    "\tprint(colored('Non-Farm Payrolls Sample does not look Gaussian (reject H0)', 'magenta'))\n",
    "\tprint(colored('_____________________________________________', 'magenta'))\n",
    "\n",
    "stat,p=sp.stats.shapiro(x_var['Oil Prices'])\n",
    "\n",
    "print(colored(\"p-value for Shapiro-Wilk: \", 'magenta'))\n",
    "print(colored(p, 'magenta'))\n",
    "\n",
    "alpha = 0.05\n",
    "if p > alpha:\n",
    "\tprint(colored('Oil Prices Sample looks Gaussian (fail to reject H0)', 'magenta'))\n",
    "else:\n",
    "\tprint(colored('Oil Prices Sample does not look Gaussian (reject H0)', 'magenta'))\n",
    "\tprint(colored('_____________________________________________', 'magenta'))\n",
    "\n",
    "stat,p=sp.stats.shapiro(x_var['New_Home_Sales'])\n",
    "\n",
    "print(colored(\"p-value for Shapiro-Wilk: \", 'magenta'))\n",
    "print(colored(p, 'magenta'))\n",
    "\n",
    "alpha = 0.05\n",
    "if p > alpha:\n",
    "\tprint(colored('New Home Sales Sample looks Gaussian (fail to reject H0)', 'magenta'))\n",
    "else:\n",
    "\tprint(colored('New Home Sales Sample does not look Gaussian (reject H0)', 'magenta'))\n",
    "\tprint(colored('_____________________________________________', 'magenta'))\n",
    "\n",
    "stat,p=sp.stats.shapiro(x_var['10Y US Bond Yield'])\n",
    "\n",
    "print(colored(\"p-value for Shapiro-Wilk: \", 'magenta'))\n",
    "print(colored(p, 'magenta'))\n",
    "\n",
    "alpha = 0.05\n",
    "if p > alpha:\n",
    "\tprint(colored('10Y Bond Yield Sample looks Gaussian (fail to reject H0)', 'magenta'))\n",
    "else:\n",
    "\tprint(colored('10Y Bond Yield Sample does not look Gaussian (reject H0)', 'magenta'))\n",
    "\tprint(colored('_____________________________________________', 'magenta'))\n",
    "\n",
    "stat,p=sp.stats.shapiro(x_var['GDP Growth Monthly'])\n",
    "\n",
    "print(colored(\"p-value for Shapiro-Wilk: \", 'magenta'))\n",
    "print(colored(p, 'magenta'))\n",
    "\n",
    "alpha = 0.05\n",
    "if p > alpha:\n",
    "\tprint(colored('GDP Growth Monthly Sample looks Gaussian (fail to reject H0)', 'magenta'))\n",
    "else:\n",
    "\tprint(colored('GDP Growth Monthly Sample does not look Gaussian (reject H0)', 'magenta'))\n",
    "\tprint(colored('_____________________________________________', 'magenta'))\n",
    "\n",
    "stat,p=sp.stats.shapiro(x_var['Fed Funds Rate'])\n",
    "\n",
    "print(colored(\"p-value for Shapiro-Wilk: \", 'magenta'))\n",
    "print(colored(p, 'magenta'))\n",
    "\n",
    "alpha = 0.05\n",
    "if p > alpha:\n",
    "\tprint(colored('Fed Funds Rate Sample looks Gaussian (fail to reject H0)', 'magenta'))\n",
    "else:\n",
    "\tprint(colored('Fed Funds Rate Sample does not look Gaussian (reject H0)', 'magenta'))\n",
    "\tprint(colored('_____________________________________________', 'magenta'))\n",
    "\n",
    "stat,p=sp.stats.shapiro(x_var['CPI'])\n",
    "\n",
    "print(colored(\"p-value for Shapiro-Wilk: \", 'magenta'))\n",
    "print(colored(p, 'magenta'))\n",
    "\n",
    "alpha = 0.05\n",
    "if p > alpha:\n",
    "\tprint(colored('CPI Sample looks Gaussian (fail to reject H0)', 'magenta'))\n",
    "else:\n",
    "\tprint(colored('CPI Sample does not look Gaussian (reject H0)', 'magenta'))\n",
    "\tprint(colored('_____________________________________________', 'magenta'))"
   ]
  },
  {
   "cell_type": "markdown",
   "metadata": {},
   "source": [
    "### <center>API Check</center>\n"
   ]
  },
  {
   "cell_type": "code",
   "execution_count": null,
   "metadata": {},
   "outputs": [],
   "source": [
    "#Setting API Key - Generated on Refintiv Workspace through API Key Generator \n",
    "ek.set_app_key('8c587a40d93448a9b47a3e089fb88b3f0cee9764')"
   ]
  },
  {
   "cell_type": "code",
   "execution_count": null,
   "metadata": {
    "scrolled": true
   },
   "outputs": [],
   "source": [
    "#Pulling Data for each currency \n",
    "EUR = ek.get_timeseries('EUR=', interval='monthly', start_date='2015-01-01', end_date='2019-12-31')\n",
    "GBP = ek.get_timeseries('GBP=', interval='monthly', start_date='2015-01-01', end_date='2019-12-31')\n",
    "JPY = ek.get_timeseries('JPY=', interval='monthly', start_date='2015-01-01', end_date='2019-12-31')\n",
    "CHF = ek.get_timeseries('CHF=', interval='monthly', start_date='2015-01-01', end_date='2019-12-31')\n",
    "AUD = ek.get_timeseries('AUD=', interval='monthly', start_date='2015-01-01', end_date='2019-12-31')\n",
    "CAD = ek.get_timeseries('CAD=', interval='monthly', start_date='2015-01-01', end_date='2019-12-31')\n",
    "CNY = ek.get_timeseries('CNY=', interval='monthly', start_date='2015-01-01', end_date='2019-12-31')\n",
    "NZD = ek.get_timeseries('NZD=', interval='monthly', start_date='2015-01-01', end_date='2019-12-31')\n",
    "SEK = ek.get_timeseries('SEK=', interval='monthly', start_date='2015-01-01', end_date='2019-12-31')\n",
    "HKD = ek.get_timeseries('HKD=', interval='monthly', start_date='2015-01-01', end_date='2019-12-31')"
   ]
  },
  {
   "cell_type": "markdown",
   "metadata": {},
   "source": [
    "#### Sample output of raw API generated tables \n",
    "For presentation in word document - it was decided to make the raw API data more presentable: "
   ]
  },
  {
   "cell_type": "code",
   "execution_count": null,
   "metadata": {},
   "outputs": [],
   "source": [
    "HKD.head(12)"
   ]
  },
  {
   "cell_type": "code",
   "execution_count": null,
   "metadata": {},
   "outputs": [],
   "source": [
    "#Remove unnecessary Columns \n",
    "EUR = EUR.drop(axis = 1, columns = 'COUNT')\n",
    "EUR = EUR.drop(axis = 1, columns = 'OPEN')\n",
    "EUR = EUR.drop(axis = 1, columns = 'CLOSE')\n",
    "\n",
    "GBP = GBP.drop(axis = 1, columns = 'COUNT')\n",
    "GBP = GBP.drop(axis = 1, columns = 'OPEN')\n",
    "GBP = GBP.drop(axis = 1, columns = 'CLOSE')\n",
    "\n",
    "JPY = JPY.drop(axis = 1, columns = 'COUNT')\n",
    "JPY = JPY.drop(axis = 1, columns = 'OPEN')\n",
    "JPY = JPY.drop(axis = 1, columns = 'CLOSE')\n",
    "\n",
    "CHF = CHF.drop(axis = 1, columns = 'COUNT')\n",
    "CHF = CHF.drop(axis = 1, columns = 'OPEN')\n",
    "CHF = CHF.drop(axis = 1, columns = 'CLOSE')\n",
    "\n",
    "AUD = AUD.drop(axis = 1, columns = 'COUNT')\n",
    "AUD = AUD.drop(axis = 1, columns = 'OPEN')\n",
    "AUD = AUD.drop(axis = 1, columns = 'CLOSE')\n",
    "\n",
    "CAD = CAD.drop(axis = 1, columns = 'COUNT')\n",
    "CAD = CAD.drop(axis = 1, columns = 'OPEN')\n",
    "CAD = CAD.drop(axis = 1, columns = 'CLOSE')\n",
    "\n",
    "CNY = CNY.drop(axis = 1, columns = 'COUNT')\n",
    "CNY = CNY.drop(axis = 1, columns = 'OPEN')\n",
    "CNY = CNY.drop(axis = 1, columns = 'CLOSE')\n",
    "\n",
    "NZD = NZD.drop(axis = 1, columns = 'COUNT')\n",
    "NZD = NZD.drop(axis = 1, columns = 'OPEN')\n",
    "NZD = NZD.drop(axis = 1, columns = 'CLOSE')\n",
    "\n",
    "SEK = SEK.drop(axis = 1, columns = 'COUNT')\n",
    "SEK = SEK.drop(axis = 1, columns = 'OPEN')\n",
    "SEK = SEK.drop(axis = 1, columns = 'CLOSE')\n",
    "\n",
    "HKD = HKD.drop(axis = 1, columns = 'COUNT')\n",
    "HKD = HKD.drop(axis = 1, columns = 'OPEN')\n",
    "HKD = HKD.drop(axis = 1, columns = 'CLOSE')"
   ]
  },
  {
   "cell_type": "code",
   "execution_count": null,
   "metadata": {},
   "outputs": [],
   "source": [
    "#Generation of Mid Price Column \n",
    "\n",
    "EURAV = EUR.copy()\n",
    "EURAV['MID PRICE (API)'] = EURAV.mean(numeric_only=True, axis=1)\n",
    "\n",
    "GBPAV = GBP.copy()\n",
    "GBPAV['MID PRICE (API)'] = GBPAV.mean(numeric_only=True, axis=1)\n",
    "\n",
    "JPYAV = JPY.copy()\n",
    "JPYAV['MID PRICE (API)'] = JPYAV.mean(numeric_only=True, axis=1)\n",
    "\n",
    "CHFAV = CHF.copy()\n",
    "CHFAV['MID PRICE (API)'] = CHFAV.mean(numeric_only=True, axis=1)\n",
    "\n",
    "AUDAV = AUD.copy()\n",
    "AUDAV['MID PRICE (API)'] = AUDAV.mean(numeric_only=True, axis=1)\n",
    "\n",
    "CADAV = CAD.copy()\n",
    "CADAV['MID PRICE (API)'] = CADAV.mean(numeric_only=True, axis=1)\n",
    "\n",
    "CNYAV = CNY.copy()\n",
    "CNYAV['MID PRICE (API)'] = CNYAV.mean(numeric_only=True, axis=1)\n",
    "\n",
    "NZDAV = NZD.copy()\n",
    "NZDAV['MID PRICE (API)'] = NZDAV.mean(numeric_only=True, axis=1)\n",
    "\n",
    "SEKAV = SEK.copy()\n",
    "SEKAV['MID PRICE (API)'] = SEKAV.mean(numeric_only=True, axis=1)\n",
    "\n",
    "HKDAV = HKD.copy()\n",
    "HKDAV['MID PRICE (API)'] = HKDAV.mean(numeric_only=True, axis=1)"
   ]
  },
  {
   "cell_type": "code",
   "execution_count": null,
   "metadata": {},
   "outputs": [],
   "source": [
    "#INVERT TABLES TO MATCH EXCEL DATA (WHICH STARTS FROM 2019-12-31)\n",
    "EURAVF = EURAV.iloc[::-1]\n",
    "GBPAVF = GBPAV.iloc[::-1]\n",
    "JPYAVF = JPYAV.iloc[::-1]\n",
    "CHFAVF = CHFAV.iloc[::-1]\n",
    "AUDAVF = AUDAV.iloc[::-1]\n",
    "CADAVF = CADAV.iloc[::-1]\n",
    "CNYAVF = CNYAV.iloc[::-1]\n",
    "NZDAVF = NZDAV.iloc[::-1]\n",
    "SEKAVF = SEKAV.iloc[::-1]\n",
    "HKDAVF = HKDAV.iloc[::-1]"
   ]
  },
  {
   "cell_type": "code",
   "execution_count": null,
   "metadata": {},
   "outputs": [],
   "source": [
    "#CREATE SEPERATE TABLES WITH JUST FINAL YEAR DATA FOR COMPARISON TO API's - (Tables in final work show just 1 year)\n",
    "EURO = EURAVF.head(12).astype(float)\n",
    "GREAT = GBPAVF.head(12).astype(float)\n",
    "JAP = JPYAVF.head(12).astype(float)\n",
    "SWISS = CHFAVF.head(12).astype(float)\n",
    "AUST = AUDAVF.head(12).astype(float)\n",
    "CANA = CADAVF.head(12).astype(float)\n",
    "CHINA = CNYAVF.head(12).astype(float)\n",
    "NEWZ = NZDAVF.head(12).astype(float)\n",
    "SWED = SEKAVF.head(12).astype(float)\n",
    "HONG = HKDAVF.head(12).astype(float)"
   ]
  },
  {
   "cell_type": "code",
   "execution_count": null,
   "metadata": {},
   "outputs": [],
   "source": [
    "#Create table with just final year from currency final file \n",
    "DATA = Y_var.head(12)"
   ]
  },
  {
   "cell_type": "code",
   "execution_count": null,
   "metadata": {},
   "outputs": [],
   "source": [
    "#POLISH AND CREATE TABLES FOR INSERTION INTO WORD DOCUMENT REPORT WITH COMPARISON OF API AND EXCEL PULLED DATA\n",
    "EURO['EUR (EXCEL)'] = DATA['EUR']\n",
    "EURO['EUR (EXCEL)'] = DATA['EUR'].values\n",
    "EURO['Difference API-EXCEL'] = EURO['MID PRICE (API)'].sub(EURO['EUR (EXCEL)'], axis = 0)\n",
    "EUROFINAL = EURO.style.background_gradient(subset=['Difference API-EXCEL'])\n",
    "\n",
    "GREAT['GBP (EXCEL)'] = DATA['GBP']\n",
    "GREAT['GBP (EXCEL)'] = DATA['GBP'].values\n",
    "GREAT['Difference API-EXCEL'] = GREAT['MID PRICE (API)'].sub(GREAT['GBP (EXCEL)'], axis = 0)\n",
    "GREATFINAL = GREAT.style.background_gradient(subset=['Difference API-EXCEL'])\n",
    "\n",
    "JAP['JPY (EXCEL)'] = DATA['JPY']\n",
    "JAP['JPY (EXCEL)'] = DATA['JPY'].values\n",
    "JAP['Difference API-EXCEL'] = JAP['MID PRICE (API)'].sub(JAP['JPY (EXCEL)'], axis = 0)\n",
    "JAPFINAL = JAP.style.background_gradient(subset=['Difference API-EXCEL'])\n",
    "\n",
    "SWISS['CHF (EXCEL)'] = DATA['CHF']\n",
    "SWISS['CHF (EXCEL)'] = DATA['CHF'].values\n",
    "SWISS['Difference API-EXCEL'] = SWISS['MID PRICE (API)'].sub(SWISS['CHF (EXCEL)'], axis = 0)\n",
    "SWISSFINAL = SWISS.style.background_gradient(subset=['Difference API-EXCEL'])\n",
    "\n",
    "AUST['AUD (EXCEL)'] = DATA['AUD']\n",
    "AUST['AUD (EXCEL)'] = DATA['AUD'].values\n",
    "AUST['Difference API-EXCEL'] = AUST['MID PRICE (API)'].sub(AUST['AUD (EXCEL)'], axis = 0)\n",
    "AUSTFINAL = AUST.style.background_gradient(subset=['Difference API-EXCEL'])\n",
    "\n",
    "CANA['CAD (EXCEL)'] = DATA['CAD']\n",
    "CANA['CAD (EXCEL)'] = DATA['CAD'].values\n",
    "CANA['Difference API-EXCEL'] = CANA['MID PRICE (API)'].sub(CANA['CAD (EXCEL)'], axis = 0)\n",
    "CANAFINAL = CANA.style.background_gradient(subset=['Difference API-EXCEL'])\n",
    "\n",
    "CHINA['CNY (EXCEL)'] = DATA['CNY']\n",
    "CHINA['CNY (EXCEL)'] = DATA['CNY'].values\n",
    "CHINA['Difference API-EXCEL'] = CHINA['MID PRICE (API)'].sub(CHINA['CNY (EXCEL)'], axis = 0)\n",
    "CHINAFINAL = CHINA.style.background_gradient(subset=['Difference API-EXCEL'])\n",
    "\n",
    "NEWZ['NZD (EXCEL)'] = DATA['NZD']\n",
    "NEWZ['NZD (EXCEL)'] = DATA['NZD'].values\n",
    "NEWZ['Difference API-EXCEL'] = NEWZ['MID PRICE (API)'].sub(NEWZ['NZD (EXCEL)'], axis = 0)\n",
    "NEWZFINAL = NEWZ.style.background_gradient(subset=['Difference API-EXCEL'])\n",
    "\n",
    "SWED['SEK (EXCEL)'] = DATA['SEK']\n",
    "SWED['SEK (EXCEL)'] = DATA['SEK'].values\n",
    "SWED['Difference API-EXCEL'] = SWED['MID PRICE (API)'].sub(SWED['SEK (EXCEL)'], axis = 0)\n",
    "SWEDFINAL = SWED.style.background_gradient(subset=['Difference API-EXCEL'])\n",
    "\n",
    "HONG['HKD (EXCEL)'] = DATA['HKD']\n",
    "HONG['HKD (EXCEL)'] = DATA['HKD'].values\n",
    "HONG['Difference API-EXCEL'] = HONG['MID PRICE (API)'].sub(HONG['HKD (EXCEL)'], axis = 0)\n",
    "HONGFINAL = HONG.style.background_gradient(subset=['Difference API-EXCEL'])"
   ]
  },
  {
   "cell_type": "markdown",
   "metadata": {},
   "source": [
    "#### Sample output of API generated tables (Currencies)\n",
    "Obersvation: Difference between API and EXCEL pulled data is negligible."
   ]
  },
  {
   "cell_type": "code",
   "execution_count": null,
   "metadata": {},
   "outputs": [],
   "source": [
    "HONGFINAL"
   ]
  },
  {
   "cell_type": "code",
   "execution_count": null,
   "metadata": {},
   "outputs": [],
   "source": [
    "#save figures \n",
    "dfi.export(EUROFINAL, 'EURGRAPH.png')\n",
    "dfi.export(GREATFINAL, 'GBPGRAPH.png')\n",
    "dfi.export(JAPFINAL, 'JPYGRAPH.png')\n",
    "dfi.export(SWISSFINAL, 'CHFGRAPH.png')\n",
    "dfi.export(AUSTFINAL, 'AUDGRAPH.png')\n",
    "dfi.export(CANAFINAL, 'CADGRAPH.png')\n",
    "dfi.export(CHINAFINAL, 'CNYGRAPH.png')\n",
    "dfi.export(NEWZFINAL, 'NZDGRAPH.png')\n",
    "dfi.export(SWEDFINAL, 'SEKGRAPH.png')\n",
    "dfi.export(HONGFINAL, 'HKDGRAPH.png')"
   ]
  },
  {
   "cell_type": "code",
   "execution_count": null,
   "metadata": {},
   "outputs": [],
   "source": [
    "#Pulling Data for each indicator \n",
    "WTC = ek.get_timeseries('WTC-', interval='monthly', start_date='2015-01-01', end_date='2019-12-31')\n",
    "USTB = ek.get_timeseries('aUSTBAL/A', interval='monthly', start_date='2015-01-01', end_date='2019-12-31')\n",
    "CPI = ek.get_timeseries('USCPI=ECI', interval='monthly', start_date='2015-01-01', end_date='2019-12-31')\n",
    "FEDFR = ek.get_timeseries('USONFFE=', interval='monthly', start_date='2015-01-01', end_date='2019-12-31')\n",
    "GDPGM = ek.get_timeseries('aUSCBBKGPR', interval='monthly', start_date='2015-01-01', end_date='2019-12-31')\n",
    "NFPR = ek.get_timeseries('USNFAR=ECI', interval='monthly', start_date='2015-01-01', end_date='2019-12-31')\n",
    "GOV10Y = ek.get_timeseries('aUSEBM10Y', interval='monthly', start_date='2015-01-01', end_date='2019-12-31')\n",
    "UNEMPL = ek.get_timeseries('USUNR=ECI', interval='monthly', start_date='2015-01-01', end_date='2019-12-31')\n",
    "PMI = ek.get_timeseries('aUSPMIAQ', interval='monthly', start_date='2015-01-01', end_date='2019-12-31')\n",
    "NHS = ek.get_timeseries('USHNS=ECI', interval='monthly', start_date='2015-01-01', end_date='2019-12-31')"
   ]
  },
  {
   "cell_type": "code",
   "execution_count": null,
   "metadata": {},
   "outputs": [],
   "source": [
    "#Remove unnecessary Columns \n",
    "\n",
    "WTC = WTC.drop(axis = 1, columns = 'LOW')\n",
    "WTC = WTC.drop(axis = 1, columns = 'OPEN')\n",
    "WTC = WTC.drop(axis = 1, columns = 'CLOSE')\n",
    "WTC = WTC.drop(axis = 1, columns = 'HIGH')\n",
    "\n",
    "FEDFR = FEDFR.drop(axis = 1, columns = 'CLOSE')\n",
    "FEDFRAV = FEDFR.copy()\n",
    "FEDFRAV['MID PRICE (API)'] = FEDFR.mean(numeric_only=True, axis=1)\n",
    "\n"
   ]
  },
  {
   "cell_type": "code",
   "execution_count": null,
   "metadata": {},
   "outputs": [],
   "source": [
    "#Create table with just final year from currency final file \n",
    "Indicators = X_var.head(12)"
   ]
  },
  {
   "cell_type": "code",
   "execution_count": null,
   "metadata": {},
   "outputs": [],
   "source": [
    "#INVERT TABLES TO MATCH EXCEL DATA (WHICH STARTS FROM 2019-12-31)\n",
    "GOV10YF = GOV10Y.iloc[::-1]\n",
    "CPIF = CPI.iloc[::-1]\n",
    "FEDFRAVF = FEDFRAV.iloc[::-1]\n",
    "GDPGMF = GDPGM.iloc[::-1]\n",
    "NHSF = NHS.iloc[::-1]\n",
    "NFPRF = NFPR.iloc[::-1]\n",
    "WTCF = WTC.iloc[::-1]\n",
    "PMIF = PMI.iloc[::-1]\n",
    "UNEMPLF = UNEMPL.iloc[::-1]\n",
    "USTBF = USTB.iloc[::-1]"
   ]
  },
  {
   "cell_type": "code",
   "execution_count": null,
   "metadata": {},
   "outputs": [],
   "source": [
    "#CREATE SEPERATE TABLES WITH JUST FINAL YEAR DATA FOR COMPARISON TO API's\n",
    "GOV10YFF = GOV10YF.head(12).astype(float)\n",
    "CPIFF = CPIF.head(12).astype(float)\n",
    "FEDFRAVFF = FEDFRAVF.head(12).astype(float)\n",
    "GDPGMFF = GDPGMF.head(12).astype(float)\n",
    "NHSFF = NHSF.head(12).astype(float)\n",
    "NFPRFF = NFPRF.head(12).astype(float)\n",
    "WTCFF = WTCF.head(12).astype(float)\n",
    "PMIFF = PMIF.head(12).astype(float)\n",
    "UNEMPLFF = UNEMPLF.head(12).astype(float)\n",
    "USTBFF = USTBF.head(12).astype(float)"
   ]
  },
  {
   "cell_type": "code",
   "execution_count": null,
   "metadata": {},
   "outputs": [],
   "source": [
    "#POLISH AND CREATE TABLES FOR INSERTION INTO WORD DOCUMENT REPORT WITH COMPARISON OF API AND EXCEL PULLED DATA\n",
    "GOV10YFF['10Y US Bond Yield (EXCEL)'] = Indicators['10Y US Bond Yield']\n",
    "GOV10YFF['10Y US Bond Yield (EXCEL)'] = Indicators['10Y US Bond Yield'].values\n",
    "GOV10YFF['Difference API-EXCEL'] = GOV10YFF['VALUE'].sub(GOV10YFF['10Y US Bond Yield (EXCEL)'], axis = 0)\n",
    "GOV10YFF = GOV10YFF.style.background_gradient(subset=['Difference API-EXCEL'])\n",
    "\n",
    "CPIFF['CPI (EXCEL)'] = Indicators['CPI']\n",
    "CPIFF['CPI (EXCEL)'] = Indicators['CPI'].values\n",
    "CPIFF['Difference API-EXCEL'] = CPIFF['VALUE'].sub(CPIFF['CPI (EXCEL)'], axis = 0)\n",
    "CPIFF = CPIFF.style.background_gradient(subset=['Difference API-EXCEL'])\n",
    "\n",
    "GDPGMFF['GDP Growth Monthly (EXCEL)'] = Indicators['GDP Growth Monthly']\n",
    "GDPGMFF['GDP Growth Monthly (EXCEL)'] = Indicators['GDP Growth Monthly'].values\n",
    "GDPGMFF['Difference API-EXCEL'] = GDPGMFF['VALUE'].sub(GDPGMFF['GDP Growth Monthly (EXCEL)'], axis = 0)\n",
    "GDPGMFF = GDPGMFF.style.background_gradient(subset=['Difference API-EXCEL'])\n",
    "\n",
    "NHSFF['New_Home_Sales (EXCEL)'] = Indicators['New_Home_Sales']\n",
    "NHSFF['New_Home_Sales (EXCEL)'] = Indicators['New_Home_Sales'].values\n",
    "NHSFF['Difference API-EXCEL'] = NHSFF['VALUE'].sub(NHSFF['New_Home_Sales (EXCEL)'], axis = 0)\n",
    "NHSFF = NHSFF.style.background_gradient(subset=['Difference API-EXCEL'])\n",
    "\n",
    "NFPRFF['Non-Farm Payrolls (EXCEL)'] = Indicators['Non-Farm Payrolls']\n",
    "NFPRFF['Non-Farm Payrolls (EXCEL)'] = Indicators['Non-Farm Payrolls'].values\n",
    "NFPRFF['Difference API-EXCEL'] = NFPRFF['VALUE'].sub(NFPRFF['Non-Farm Payrolls (EXCEL)'], axis = 0)\n",
    "NFPRFF = NFPRFF.style.background_gradient(subset=['Difference API-EXCEL'])\n",
    "\n",
    "WTCFF['Oil Prices (EXCEL)'] = Indicators['Oil Prices']\n",
    "WTCFF['Oil Prices (EXCEL)'] = Indicators['Oil Prices'].values\n",
    "WTCFF['Difference API-EXCEL'] = WTCFF['VALUE'].sub(WTCFF['Oil Prices (EXCEL)'], axis = 0)\n",
    "WTCFF = WTCFF.style.background_gradient(subset=['Difference API-EXCEL'])\n",
    "\n",
    "PMIFF['PMI (EXCEL)'] = Indicators['PMI']\n",
    "PMIFF['PMI (EXCEL)'] = Indicators['PMI'].values\n",
    "PMIFF['Difference API-EXCEL'] = PMIFF['VALUE'].sub(PMIFF['PMI (EXCEL)'], axis = 0)\n",
    "PMIFF = PMIFF.style.background_gradient(subset=['Difference API-EXCEL'])\n",
    "\n",
    "UNEMPLFF['Unemployment (EXCEL)'] = Indicators['Unemployment Rate']\n",
    "UNEMPLFF['Unemployment (EXCEL)'] = Indicators['Unemployment Rate'].values\n",
    "UNEMPLFF['Difference API-EXCEL'] = UNEMPLFF['VALUE'].sub(UNEMPLFF['Unemployment (EXCEL)'], axis = 0)\n",
    "UNEMPLFF = UNEMPLFF.style.background_gradient(subset=['Difference API-EXCEL'])\n",
    "\n",
    "USTBFF['US Trade Balance (EXCEL)'] = Indicators['US Trade Balance']\n",
    "USTBFF['US Trade Balance (EXCEL)'] = Indicators['US Trade Balance'].values\n",
    "USTBFF['Difference API-EXCEL'] = USTBFF['VALUE'].sub(USTBFF['US Trade Balance (EXCEL)'], axis = 0)\n",
    "USTBFF = USTBFF.style.background_gradient(subset=['Difference API-EXCEL'])\n",
    "\n",
    "FEDFRAVFF['Fed Funds Rate (EXCEL)'] = Indicators['Fed Funds Rate']\n",
    "FEDFRAVFF['Fed Funds Rate (EXCEL)'] = Indicators['Fed Funds Rate'].values\n",
    "FEDFRAVFF['Difference API-EXCEL'] = FEDFRAVFF['MID PRICE (API)'].sub(FEDFRAVFF['Fed Funds Rate (EXCEL)'], axis = 0)\n",
    "FEDFRAVFF = FEDFRAVFF.style.background_gradient(subset=['Difference API-EXCEL'])\n",
    "\n"
   ]
  },
  {
   "cell_type": "markdown",
   "metadata": {},
   "source": [
    "#### Sample output of API generated tables (Macro Indicators)\n",
    "Obersvation: Data is identical."
   ]
  },
  {
   "cell_type": "code",
   "execution_count": null,
   "metadata": {},
   "outputs": [],
   "source": [
    "USTBFF"
   ]
  },
  {
   "cell_type": "code",
   "execution_count": null,
   "metadata": {},
   "outputs": [],
   "source": [
    "#Save Indicator API comparisons as tables \n",
    "dfi.export(GOV10YFF, 'GOV10YFF.png')\n",
    "dfi.export(CPIFF, 'CPIFF.png')\n",
    "dfi.export(GDPGMFF, 'GDPGMFF.png')\n",
    "dfi.export(NHSFF, 'NHSFF.png')\n",
    "dfi.export(NFPRFF, 'NFPRFF.png')\n",
    "dfi.export(WTCFF, 'WTCFF.png')\n",
    "dfi.export(UNEMPLFF, 'UNEMPLFF.png')\n",
    "dfi.export(PMIFF, 'PMIFF.png')\n",
    "dfi.export(USTBFF, 'USTBFF.png')\n",
    "dfi.export(FEDFRAVFF, 'FEDFRAVFF.png')"
   ]
  },
  {
   "cell_type": "markdown",
   "metadata": {},
   "source": [
    "## <center>Split the data into 4 sub-periods and calculate the descriptive statistics for each of them, as it was the case in AQM Class 1</center>"
   ]
  },
  {
   "cell_type": "code",
   "execution_count": 9,
   "metadata": {},
   "outputs": [],
   "source": [
    "# Create smaller datasets by selecting dates from the index (Macroeconomic Indicators)\n",
    "sample_1=x_var[0:60] # 2000-2005\n",
    "sample_2=x_var[60:120] # 2005-2010\n",
    "sample_3=x_var[120:180] # 2010-2015\n",
    "sample_4=x_var[180:240] # 2015-2020 \n",
    "\n",
    "sample_1a=y_var[0:60] # 2000-2005\n",
    "sample_2a=y_var[60:120] # 2005-2010\n",
    "sample_3a=y_var[120:180] # 2010-2015\n",
    "sample_4a=y_var[180:240] # 2015-2020 "
   ]
  },
  {
   "cell_type": "markdown",
   "metadata": {},
   "source": [
    "#### Sample output of descriptive statistics tables\n",
    "Obersvation: this step is repeated for 4 sub-periods, tables identical in look to the one outputed below"
   ]
  },
  {
   "cell_type": "code",
   "execution_count": 12,
   "metadata": {},
   "outputs": [
    {
     "data": {
      "text/html": [
       "<div>\n",
       "<style scoped>\n",
       "    .dataframe tbody tr th:only-of-type {\n",
       "        vertical-align: middle;\n",
       "    }\n",
       "\n",
       "    .dataframe tbody tr th {\n",
       "        vertical-align: top;\n",
       "    }\n",
       "\n",
       "    .dataframe thead th {\n",
       "        text-align: right;\n",
       "    }\n",
       "</style>\n",
       "<table border=\"1\" class=\"dataframe\">\n",
       "  <thead>\n",
       "    <tr style=\"text-align: right;\">\n",
       "      <th>2000-2020</th>\n",
       "      <th>10Y US Bond Yield</th>\n",
       "      <th>CPI</th>\n",
       "      <th>Fed Funds Rate</th>\n",
       "      <th>GDP Growth Monthly</th>\n",
       "      <th>New_Home_Sales</th>\n",
       "      <th>Non-Farm Payrolls</th>\n",
       "      <th>Oil Prices</th>\n",
       "      <th>PMI</th>\n",
       "      <th>Unemployment Rate</th>\n",
       "      <th>US Trade Balance</th>\n",
       "    </tr>\n",
       "  </thead>\n",
       "  <tbody>\n",
       "    <tr>\n",
       "      <th>count</th>\n",
       "      <td>240.000000</td>\n",
       "      <td>240.000000</td>\n",
       "      <td>240.000000</td>\n",
       "      <td>240.000000</td>\n",
       "      <td>2.400000e+02</td>\n",
       "      <td>240.000000</td>\n",
       "      <td>240.000000</td>\n",
       "      <td>240.000000</td>\n",
       "      <td>240.000000</td>\n",
       "      <td>2.400000e+02</td>\n",
       "    </tr>\n",
       "    <tr>\n",
       "      <th>mean</th>\n",
       "      <td>3.828683</td>\n",
       "      <td>0.177083</td>\n",
       "      <td>1.788667</td>\n",
       "      <td>0.020167</td>\n",
       "      <td>6.926750e+05</td>\n",
       "      <td>88112.500000</td>\n",
       "      <td>62.132292</td>\n",
       "      <td>52.981667</td>\n",
       "      <td>5.881250</td>\n",
       "      <td>-4.463962e+10</td>\n",
       "    </tr>\n",
       "    <tr>\n",
       "      <th>std</th>\n",
       "      <td>1.590098</td>\n",
       "      <td>0.290606</td>\n",
       "      <td>1.946106</td>\n",
       "      <td>0.027534</td>\n",
       "      <td>3.038770e+05</td>\n",
       "      <td>215114.973272</td>\n",
       "      <td>26.270022</td>\n",
       "      <td>5.418865</td>\n",
       "      <td>1.809442</td>\n",
       "      <td>1.020595e+10</td>\n",
       "    </tr>\n",
       "    <tr>\n",
       "      <th>min</th>\n",
       "      <td>1.370000</td>\n",
       "      <td>-1.800000</td>\n",
       "      <td>0.040000</td>\n",
       "      <td>-0.100000</td>\n",
       "      <td>2.700000e+05</td>\n",
       "      <td>-800000.000000</td>\n",
       "      <td>19.460000</td>\n",
       "      <td>32.400000</td>\n",
       "      <td>3.500000</td>\n",
       "      <td>-6.827700e+10</td>\n",
       "    </tr>\n",
       "    <tr>\n",
       "      <th>25%</th>\n",
       "      <td>2.397500</td>\n",
       "      <td>0.000000</td>\n",
       "      <td>0.140000</td>\n",
       "      <td>0.010000</td>\n",
       "      <td>4.317500e+05</td>\n",
       "      <td>7250.000000</td>\n",
       "      <td>41.682500</td>\n",
       "      <td>50.075000</td>\n",
       "      <td>4.575000</td>\n",
       "      <td>-5.062350e+10</td>\n",
       "    </tr>\n",
       "    <tr>\n",
       "      <th>50%</th>\n",
       "      <td>3.587350</td>\n",
       "      <td>0.200000</td>\n",
       "      <td>1.115000</td>\n",
       "      <td>0.020000</td>\n",
       "      <td>6.180000e+05</td>\n",
       "      <td>149000.000000</td>\n",
       "      <td>59.550000</td>\n",
       "      <td>53.500000</td>\n",
       "      <td>5.400000</td>\n",
       "      <td>-4.273250e+10</td>\n",
       "    </tr>\n",
       "    <tr>\n",
       "      <th>75%</th>\n",
       "      <td>5.093750</td>\n",
       "      <td>0.300000</td>\n",
       "      <td>2.502500</td>\n",
       "      <td>0.040000</td>\n",
       "      <td>9.367500e+05</td>\n",
       "      <td>221250.000000</td>\n",
       "      <td>82.092500</td>\n",
       "      <td>56.525000</td>\n",
       "      <td>6.825000</td>\n",
       "      <td>-3.854050e+10</td>\n",
       "    </tr>\n",
       "    <tr>\n",
       "      <th>max</th>\n",
       "      <td>7.649000</td>\n",
       "      <td>1.400000</td>\n",
       "      <td>6.860000</td>\n",
       "      <td>0.110000</td>\n",
       "      <td>1.389000e+06</td>\n",
       "      <td>540000.000000</td>\n",
       "      <td>139.960000</td>\n",
       "      <td>66.200000</td>\n",
       "      <td>10.000000</td>\n",
       "      <td>-2.584000e+10</td>\n",
       "    </tr>\n",
       "  </tbody>\n",
       "</table>\n",
       "</div>"
      ],
      "text/plain": [
       "2000-2020  10Y US Bond Yield         CPI  Fed Funds Rate  GDP Growth Monthly  \\\n",
       "count             240.000000  240.000000      240.000000          240.000000   \n",
       "mean                3.828683    0.177083        1.788667            0.020167   \n",
       "std                 1.590098    0.290606        1.946106            0.027534   \n",
       "min                 1.370000   -1.800000        0.040000           -0.100000   \n",
       "25%                 2.397500    0.000000        0.140000            0.010000   \n",
       "50%                 3.587350    0.200000        1.115000            0.020000   \n",
       "75%                 5.093750    0.300000        2.502500            0.040000   \n",
       "max                 7.649000    1.400000        6.860000            0.110000   \n",
       "\n",
       "2000-2020  New_Home_Sales  Non-Farm Payrolls  Oil Prices         PMI  \\\n",
       "count        2.400000e+02         240.000000  240.000000  240.000000   \n",
       "mean         6.926750e+05       88112.500000   62.132292   52.981667   \n",
       "std          3.038770e+05      215114.973272   26.270022    5.418865   \n",
       "min          2.700000e+05     -800000.000000   19.460000   32.400000   \n",
       "25%          4.317500e+05        7250.000000   41.682500   50.075000   \n",
       "50%          6.180000e+05      149000.000000   59.550000   53.500000   \n",
       "75%          9.367500e+05      221250.000000   82.092500   56.525000   \n",
       "max          1.389000e+06      540000.000000  139.960000   66.200000   \n",
       "\n",
       "2000-2020  Unemployment Rate  US Trade Balance  \n",
       "count             240.000000      2.400000e+02  \n",
       "mean                5.881250     -4.463962e+10  \n",
       "std                 1.809442      1.020595e+10  \n",
       "min                 3.500000     -6.827700e+10  \n",
       "25%                 4.575000     -5.062350e+10  \n",
       "50%                 5.400000     -4.273250e+10  \n",
       "75%                 6.825000     -3.854050e+10  \n",
       "max                10.000000     -2.584000e+10  "
      ]
     },
     "execution_count": 12,
     "metadata": {},
     "output_type": "execute_result"
    }
   ],
   "source": [
    "datasetdescribe"
   ]
  },
  {
   "cell_type": "code",
   "execution_count": 11,
   "metadata": {},
   "outputs": [],
   "source": [
    "#creation of sub-periods descirptive stats tables (Macroecon Indicators)\n",
    "\n",
    "P4 = sample_1[['10Y US Bond Yield','CPI','Fed Funds Rate','GDP Growth Monthly','New_Home_Sales','Non-Farm Payrolls','Oil Prices','PMI','Unemployment Rate','US Trade Balance']].describe()\n",
    "P4.columns.name = '2015-2020'\n",
    "\n",
    "P3 = sample_2[['10Y US Bond Yield','CPI','Fed Funds Rate','GDP Growth Monthly','New_Home_Sales','Non-Farm Payrolls','Oil Prices','PMI','Unemployment Rate','US Trade Balance']].describe()\n",
    "P3.columns.name = '2010-2015'\n",
    "\n",
    "P2 = sample_3[['10Y US Bond Yield','CPI','Fed Funds Rate','GDP Growth Monthly','New_Home_Sales','Non-Farm Payrolls','Oil Prices','PMI','Unemployment Rate','US Trade Balance']].describe()\n",
    "P2.columns.name = '2005-2010'\n",
    "\n",
    "P1 = sample_4[['10Y US Bond Yield','CPI','Fed Funds Rate','GDP Growth Monthly','New_Home_Sales','Non-Farm Payrolls','Oil Prices','PMI','Unemployment Rate','US Trade Balance']].describe()\n",
    "P1.columns.name = '2000-2005'\n",
    "\n",
    "##creation of sub-periods descirptive stats tables (Currencies)\n",
    "\n",
    "P4a = sample_1a[['EUR','GBP','JPY','CHF','AUD','CAD','CNY','NZD','SEK','HKD']].describe()\n",
    "P4a.columns.name = '2015-2020'\n",
    "\n",
    "P3a = sample_2a[['EUR','GBP','JPY','CHF','AUD','CAD','CNY','NZD','SEK','HKD']].describe()\n",
    "P3a.columns.name = '2010-2015'\n",
    "\n",
    "P2a = sample_3a[['EUR','GBP','JPY','CHF','AUD','CAD','CNY','NZD','SEK','HKD']].describe()\n",
    "P2a.columns.name = '2005-2010'\n",
    "\n",
    "P1a = sample_4a[['EUR','GBP','JPY','CHF','AUD','CAD','CNY','NZD','SEK','HKD']].describe()\n",
    "P1a.columns.name = '2000-2005'"
   ]
  },
  {
   "cell_type": "code",
   "execution_count": null,
   "metadata": {},
   "outputs": [],
   "source": [
    "#save tables as PNG for insertion into word document\n",
    "dfi.export(P4, 'P4_styled.png')\n",
    "dfi.export(P3, 'P3_styled.png')\n",
    "dfi.export(P2, 'P2_styled.png')\n",
    "dfi.export(P1, 'P1_styled.png')\n",
    "\n",
    "dfi.export(P1a, 'cur2000-2005.png')\n",
    "dfi.export(P2a, 'cur2005-2010.png')\n",
    "dfi.export(P3a, 'cur2010-2015.png')\n",
    "dfi.export(P4a, 'cur2015-2020.png')"
   ]
  },
  {
   "cell_type": "markdown",
   "metadata": {},
   "source": [
    "## <center>For each asset, run the stationarity test and decide which variable is stationary</center>"
   ]
  },
  {
   "cell_type": "code",
   "execution_count": 13,
   "metadata": {},
   "outputs": [
    {
     "name": "stdout",
     "output_type": "stream",
     "text": [
      "Number of lags used: 1\n",
      "EUR in Level \n",
      " ADF Stat (Library) for EUR : 0.14 \n",
      " ADF P-Val (Library) EUR : 0.73 \n",
      "\n",
      "EUR in 1st Difference \n",
      " ADF Stat (Library) for EUR : -10.82 \n",
      " ADF P-Val (Library) EUR : 0.00 \n",
      "\n",
      "Number of lags used: 2\n",
      "EUR in Level \n",
      " ADF Stat (Library) for EUR : 0.18 \n",
      " ADF P-Val (Library) EUR : 0.74 \n",
      "\n",
      "EUR in 1st Difference \n",
      " ADF Stat (Library) for EUR : -8.62 \n",
      " ADF P-Val (Library) EUR : 0.00 \n",
      "\n",
      "____________________________________________ \n",
      "\n",
      "Number of lags used: 1\n",
      "GBP in Level \n",
      " ADF Stat (Library) for GBP : -0.85 \n",
      " ADF P-Val (Library) GBP : 0.35 \n",
      "\n",
      "GBP in 1st Difference \n",
      " ADF Stat (Library) for GBP : -9.59 \n",
      " ADF P-Val (Library) GBP : 0.00 \n",
      "\n",
      "Number of lags used: 2\n",
      "GBP in Level \n",
      " ADF Stat (Library) for GBP : -0.81 \n",
      " ADF P-Val (Library) GBP : 0.36 \n",
      "\n",
      "GBP in 1st Difference \n",
      " ADF Stat (Library) for GBP : -7.74 \n",
      " ADF P-Val (Library) GBP : 0.00 \n",
      "\n",
      "____________________________________________ \n",
      "\n",
      "Number of lags used: 1\n",
      "JPY in Level \n",
      " ADF Stat (Library) for JPY : -0.26 \n",
      " ADF P-Val (Library) JPY : 0.59 \n",
      "\n",
      "JPY in 1st Difference \n",
      " ADF Stat (Library) for JPY : -9.91 \n",
      " ADF P-Val (Library) JPY : 0.00 \n",
      "\n",
      "Number of lags used: 2\n",
      "JPY in Level \n",
      " ADF Stat (Library) for JPY : -0.23 \n",
      " ADF P-Val (Library) JPY : 0.60 \n",
      "\n",
      "JPY in 1st Difference \n",
      " ADF Stat (Library) for JPY : -8.14 \n",
      " ADF P-Val (Library) JPY : 0.00 \n",
      "\n",
      "____________________________________________ \n",
      "\n",
      "Number of lags used: 1\n",
      "CHF in Level \n",
      " ADF Stat (Library) for CHF : 1.27 \n",
      " ADF P-Val (Library) CHF : 0.95 \n",
      "\n",
      "CHF in 1st Difference \n",
      " ADF Stat (Library) for CHF : -11.56 \n",
      " ADF P-Val (Library) CHF : 0.00 \n",
      "\n",
      "Number of lags used: 2\n",
      "CHF in Level \n",
      " ADF Stat (Library) for CHF : 1.35 \n",
      " ADF P-Val (Library) CHF : 0.96 \n",
      "\n",
      "CHF in 1st Difference \n",
      " ADF Stat (Library) for CHF : -8.96 \n",
      " ADF P-Val (Library) CHF : 0.00 \n",
      "\n",
      "____________________________________________ \n",
      "\n",
      "Number of lags used: 1\n",
      "AUD in Level \n",
      " ADF Stat (Library) for AUD : -0.16 \n",
      " ADF P-Val (Library) AUD : 0.63 \n",
      "\n",
      "AUD in 1st Difference \n",
      " ADF Stat (Library) for AUD : -11.10 \n",
      " ADF P-Val (Library) AUD : 0.00 \n",
      "\n",
      "Number of lags used: 2\n",
      "AUD in Level \n",
      " ADF Stat (Library) for AUD : -0.09 \n",
      " ADF P-Val (Library) AUD : 0.65 \n",
      "\n",
      "AUD in 1st Difference \n",
      " ADF Stat (Library) for AUD : -8.36 \n",
      " ADF P-Val (Library) AUD : 0.00 \n",
      "\n",
      "____________________________________________ \n",
      "\n",
      "Number of lags used: 1\n",
      "CAD in Level \n",
      " ADF Stat (Library) for CAD : 0.10 \n",
      " ADF P-Val (Library) CAD : 0.72 \n",
      "\n",
      "CAD in 1st Difference \n",
      " ADF Stat (Library) for CAD : -10.98 \n",
      " ADF P-Val (Library) CAD : 0.00 \n",
      "\n",
      "Number of lags used: 2\n",
      "CAD in Level \n",
      " ADF Stat (Library) for CAD : 0.12 \n",
      " ADF P-Val (Library) CAD : 0.72 \n",
      "\n",
      "CAD in 1st Difference \n",
      " ADF Stat (Library) for CAD : -9.84 \n",
      " ADF P-Val (Library) CAD : 0.00 \n",
      "\n",
      "____________________________________________ \n",
      "\n",
      "Number of lags used: 1\n",
      "CNY in Level \n",
      " ADF Stat (Library) for CNY : 1.06 \n",
      " ADF P-Val (Library) CNY : 0.92 \n",
      "\n",
      "CNY in 1st Difference \n",
      " ADF Stat (Library) for CNY : -8.91 \n",
      " ADF P-Val (Library) CNY : 0.00 \n",
      "\n",
      "Number of lags used: 2\n",
      "CNY in Level \n",
      " ADF Stat (Library) for CNY : 1.07 \n",
      " ADF P-Val (Library) CNY : 0.93 \n",
      "\n",
      "CNY in 1st Difference \n",
      " ADF Stat (Library) for CNY : -6.98 \n",
      " ADF P-Val (Library) CNY : 0.00 \n",
      "\n",
      "____________________________________________ \n",
      "\n",
      "Number of lags used: 1\n",
      "NZD in Level \n",
      " ADF Stat (Library) for NZD : 0.22 \n",
      " ADF P-Val (Library) NZD : 0.75 \n",
      "\n",
      "NZD in 1st Difference \n",
      " ADF Stat (Library) for NZD : -10.91 \n",
      " ADF P-Val (Library) NZD : 0.00 \n",
      "\n",
      "Number of lags used: 2\n",
      "NZD in Level \n",
      " ADF Stat (Library) for NZD : 0.24 \n",
      " ADF P-Val (Library) NZD : 0.76 \n",
      "\n",
      "NZD in 1st Difference \n",
      " ADF Stat (Library) for NZD : -7.72 \n",
      " ADF P-Val (Library) NZD : 0.00 \n",
      "\n",
      "____________________________________________ \n",
      "\n",
      "Number of lags used: 1\n",
      "SEK in Level \n",
      " ADF Stat (Library) for SEK : -0.45 \n",
      " ADF P-Val (Library) SEK : 0.51 \n",
      "\n",
      "SEK in 1st Difference \n",
      " ADF Stat (Library) for SEK : -10.77 \n",
      " ADF P-Val (Library) SEK : 0.00 \n",
      "\n",
      "Number of lags used: 2\n",
      "SEK in Level \n",
      " ADF Stat (Library) for SEK : -0.48 \n",
      " ADF P-Val (Library) SEK : 0.51 \n",
      "\n",
      "SEK in 1st Difference \n",
      " ADF Stat (Library) for SEK : -8.37 \n",
      " ADF P-Val (Library) SEK : 0.00 \n",
      "\n",
      "____________________________________________ \n",
      "\n",
      "Number of lags used: 1\n",
      "HKD in Level \n",
      " ADF Stat (Library) for HKD : -0.32 \n",
      " ADF P-Val (Library) HKD : 0.57 \n",
      "\n",
      "HKD in 1st Difference \n",
      " ADF Stat (Library) for HKD : -12.30 \n",
      " ADF P-Val (Library) HKD : 0.00 \n",
      "\n",
      "Number of lags used: 2\n",
      "HKD in Level \n",
      " ADF Stat (Library) for HKD : -0.39 \n",
      " ADF P-Val (Library) HKD : 0.54 \n",
      "\n",
      "HKD in 1st Difference \n",
      " ADF Stat (Library) for HKD : -10.59 \n",
      " ADF P-Val (Library) HKD : 0.00 \n",
      "\n",
      "____________________________________________ \n",
      "\n"
     ]
    }
   ],
   "source": [
    "#stationarity tests (currency)\n",
    "currency=['EUR','GBP','JPY','CHF','AUD','CAD','CNY','NZD','SEK','HKD']\n",
    "\n",
    "\n",
    "for i in currency:\n",
    "    for lags in range(1,3):\n",
    "        print('Number of lags used:',lags)\n",
    "\n",
    "        adf_library = adfuller(y_var[i], maxlag=lags, regression='nc',autolag=None)\n",
    "        adf_library_d = adfuller(np.diff(y_var[i]), maxlag=lags, regression='nc',autolag=None)\n",
    "\n",
    "        print(i,'in Level','\\n',\n",
    "              'ADF Stat (Library) for',i,':',\"%.2f\" % adf_library[0],'\\n',\n",
    "              'ADF P-Val (Library)',i,':',\"%.2f\" %  adf_library[1],'\\n')\n",
    "\n",
    "        print(i,'in 1st Difference','\\n',\n",
    "              'ADF Stat (Library) for',i,':',\"%.2f\" % adf_library_d[0],'\\n',\n",
    "              'ADF P-Val (Library)',i,':',\"%.2f\" %  adf_library_d[1],'\\n')\n",
    "    print('____________________________________________','\\n')"
   ]
  },
  {
   "cell_type": "code",
   "execution_count": 18,
   "metadata": {},
   "outputs": [
    {
     "name": "stdout",
     "output_type": "stream",
     "text": [
      "Number of lags used: 1\n",
      "10Y US Bond Yield in Level \n",
      " ADF Stat (Library) for 10Y US Bond Yield : 0.92 \n",
      " ADF P-Val (Library) 10Y US Bond Yield : 0.90 \n",
      "\n",
      "10Y US Bond Yield in 1st Difference \n",
      " ADF Stat (Library) for 10Y US Bond Yield : -12.07 \n",
      " ADF P-Val (Library) 10Y US Bond Yield : 0.00 \n",
      "\n",
      "Number of lags used: 2\n",
      "10Y US Bond Yield in Level \n",
      " ADF Stat (Library) for 10Y US Bond Yield : 1.22 \n",
      " ADF P-Val (Library) 10Y US Bond Yield : 0.94 \n",
      "\n",
      "10Y US Bond Yield in 1st Difference \n",
      " ADF Stat (Library) for 10Y US Bond Yield : -8.73 \n",
      " ADF P-Val (Library) 10Y US Bond Yield : 0.00 \n",
      "\n",
      "____________________________________________ \n",
      "\n",
      "Number of lags used: 1\n",
      "CPI in Level \n",
      " ADF Stat (Library) for CPI : -7.88 \n",
      " ADF P-Val (Library) CPI : 0.00 \n",
      "\n",
      "CPI in 1st Difference \n",
      " ADF Stat (Library) for CPI : -16.17 \n",
      " ADF P-Val (Library) CPI : 0.00 \n",
      "\n",
      "Number of lags used: 2\n",
      "CPI in Level \n",
      " ADF Stat (Library) for CPI : -6.00 \n",
      " ADF P-Val (Library) CPI : 0.00 \n",
      "\n",
      "CPI in 1st Difference \n",
      " ADF Stat (Library) for CPI : -14.73 \n",
      " ADF P-Val (Library) CPI : 0.00 \n",
      "\n",
      "____________________________________________ \n",
      "\n",
      "Number of lags used: 1\n",
      "Fed Funds Rate in Level \n",
      " ADF Stat (Library) for Fed Funds Rate : 0.91 \n",
      " ADF P-Val (Library) Fed Funds Rate : 0.90 \n",
      "\n",
      "Fed Funds Rate in 1st Difference \n",
      " ADF Stat (Library) for Fed Funds Rate : -8.73 \n",
      " ADF P-Val (Library) Fed Funds Rate : 0.00 \n",
      "\n",
      "Number of lags used: 2\n",
      "Fed Funds Rate in Level \n",
      " ADF Stat (Library) for Fed Funds Rate : 0.34 \n",
      " ADF P-Val (Library) Fed Funds Rate : 0.79 \n",
      "\n",
      "Fed Funds Rate in 1st Difference \n",
      " ADF Stat (Library) for Fed Funds Rate : -5.54 \n",
      " ADF P-Val (Library) Fed Funds Rate : 0.00 \n",
      "\n",
      "____________________________________________ \n",
      "\n",
      "Number of lags used: 1\n",
      "GDP Growth Monthly in Level \n",
      " ADF Stat (Library) for GDP Growth Monthly : -7.54 \n",
      " ADF P-Val (Library) GDP Growth Monthly : 0.00 \n",
      "\n",
      "GDP Growth Monthly in 1st Difference \n",
      " ADF Stat (Library) for GDP Growth Monthly : -13.75 \n",
      " ADF P-Val (Library) GDP Growth Monthly : 0.00 \n",
      "\n",
      "Number of lags used: 2\n",
      "GDP Growth Monthly in Level \n",
      " ADF Stat (Library) for GDP Growth Monthly : -4.62 \n",
      " ADF P-Val (Library) GDP Growth Monthly : 0.00 \n",
      "\n",
      "GDP Growth Monthly in 1st Difference \n",
      " ADF Stat (Library) for GDP Growth Monthly : -15.76 \n",
      " ADF P-Val (Library) GDP Growth Monthly : 0.00 \n",
      "\n",
      "____________________________________________ \n",
      "\n",
      "Number of lags used: 1\n",
      "New_Home_Sales in Level \n",
      " ADF Stat (Library) for New_Home_Sales : -0.01 \n",
      " ADF P-Val (Library) New_Home_Sales : 0.68 \n",
      "\n",
      "New_Home_Sales in 1st Difference \n",
      " ADF Stat (Library) for New_Home_Sales : -13.56 \n",
      " ADF P-Val (Library) New_Home_Sales : 0.00 \n",
      "\n",
      "Number of lags used: 2\n",
      "New_Home_Sales in Level \n",
      " ADF Stat (Library) for New_Home_Sales : 0.04 \n",
      " ADF P-Val (Library) New_Home_Sales : 0.70 \n",
      "\n",
      "New_Home_Sales in 1st Difference \n",
      " ADF Stat (Library) for New_Home_Sales : -9.68 \n",
      " ADF P-Val (Library) New_Home_Sales : 0.00 \n",
      "\n",
      "____________________________________________ \n",
      "\n",
      "Number of lags used: 1\n",
      "Non-Farm Payrolls in Level \n",
      " ADF Stat (Library) for Non-Farm Payrolls : -3.03 \n",
      " ADF P-Val (Library) Non-Farm Payrolls : 0.00 \n",
      "\n",
      "Non-Farm Payrolls in 1st Difference \n",
      " ADF Stat (Library) for Non-Farm Payrolls : -15.35 \n",
      " ADF P-Val (Library) Non-Farm Payrolls : 0.00 \n",
      "\n",
      "Number of lags used: 2\n",
      "Non-Farm Payrolls in Level \n",
      " ADF Stat (Library) for Non-Farm Payrolls : -2.56 \n",
      " ADF P-Val (Library) Non-Farm Payrolls : 0.01 \n",
      "\n",
      "Non-Farm Payrolls in 1st Difference \n",
      " ADF Stat (Library) for Non-Farm Payrolls : -11.64 \n",
      " ADF P-Val (Library) Non-Farm Payrolls : 0.00 \n",
      "\n",
      "____________________________________________ \n",
      "\n",
      "Number of lags used: 1\n",
      "Oil Prices in Level \n",
      " ADF Stat (Library) for Oil Prices : -1.02 \n",
      " ADF P-Val (Library) Oil Prices : 0.28 \n",
      "\n",
      "Oil Prices in 1st Difference \n",
      " ADF Stat (Library) for Oil Prices : -9.00 \n",
      " ADF P-Val (Library) Oil Prices : 0.00 \n",
      "\n",
      "Number of lags used: 2\n",
      "Oil Prices in Level \n",
      " ADF Stat (Library) for Oil Prices : -1.03 \n",
      " ADF P-Val (Library) Oil Prices : 0.28 \n",
      "\n",
      "Oil Prices in 1st Difference \n",
      " ADF Stat (Library) for Oil Prices : -7.95 \n",
      " ADF P-Val (Library) Oil Prices : 0.00 \n",
      "\n",
      "____________________________________________ \n",
      "\n",
      "Number of lags used: 1\n",
      "PMI in Level \n",
      " ADF Stat (Library) for PMI : -0.10 \n",
      " ADF P-Val (Library) PMI : 0.65 \n",
      "\n",
      "PMI in 1st Difference \n",
      " ADF Stat (Library) for PMI : -10.44 \n",
      " ADF P-Val (Library) PMI : 0.00 \n",
      "\n",
      "Number of lags used: 2\n",
      "PMI in Level \n",
      " ADF Stat (Library) for PMI : -0.13 \n",
      " ADF P-Val (Library) PMI : 0.64 \n",
      "\n",
      "PMI in 1st Difference \n",
      " ADF Stat (Library) for PMI : -8.17 \n",
      " ADF P-Val (Library) PMI : 0.00 \n",
      "\n",
      "____________________________________________ \n",
      "\n",
      "Number of lags used: 1\n",
      "Unemployment Rate in Level \n",
      " ADF Stat (Library) for Unemployment Rate : -0.17 \n",
      " ADF P-Val (Library) Unemployment Rate : 0.63 \n",
      "\n",
      "Unemployment Rate in 1st Difference \n",
      " ADF Stat (Library) for Unemployment Rate : -7.32 \n",
      " ADF P-Val (Library) Unemployment Rate : 0.00 \n",
      "\n",
      "Number of lags used: 2\n",
      "Unemployment Rate in Level \n",
      " ADF Stat (Library) for Unemployment Rate : -0.26 \n",
      " ADF P-Val (Library) Unemployment Rate : 0.59 \n",
      "\n",
      "Unemployment Rate in 1st Difference \n",
      " ADF Stat (Library) for Unemployment Rate : -5.47 \n",
      " ADF P-Val (Library) Unemployment Rate : 0.00 \n",
      "\n",
      "____________________________________________ \n",
      "\n",
      "Number of lags used: 1\n",
      "US Trade Balance in Level \n",
      " ADF Stat (Library) for US Trade Balance : -0.72 \n",
      " ADF P-Val (Library) US Trade Balance : 0.41 \n",
      "\n",
      "US Trade Balance in 1st Difference \n",
      " ADF Stat (Library) for US Trade Balance : -14.44 \n",
      " ADF P-Val (Library) US Trade Balance : 0.00 \n",
      "\n",
      "Number of lags used: 2\n",
      "US Trade Balance in Level \n",
      " ADF Stat (Library) for US Trade Balance : -0.72 \n",
      " ADF P-Val (Library) US Trade Balance : 0.41 \n",
      "\n",
      "US Trade Balance in 1st Difference \n",
      " ADF Stat (Library) for US Trade Balance : -8.32 \n",
      " ADF P-Val (Library) US Trade Balance : 0.00 \n",
      "\n",
      "____________________________________________ \n",
      "\n"
     ]
    }
   ],
   "source": [
    "#stationarity tests (indicators)\n",
    "economic=['10Y US Bond Yield','CPI','Fed Funds Rate','GDP Growth Monthly','New_Home_Sales','Non-Farm Payrolls','Oil Prices','PMI','Unemployment Rate','US Trade Balance']\n",
    "\n",
    "\n",
    "for i in economic:\n",
    "    for lags in range(1,3):\n",
    "        print('Number of lags used:',lags)\n",
    "\n",
    "        adf_library = adfuller(x_var[i], maxlag=lags, regression='nc',autolag=None)\n",
    "        adf_library_d = adfuller(np.diff(x_var[i]), maxlag=lags, regression='nc',autolag=None)\n",
    "\n",
    "        print(i,'in Level','\\n',\n",
    "              'ADF Stat (Library) for',i,':',\"%.2f\" % adf_library[0],'\\n',\n",
    "              'ADF P-Val (Library)',i,':',\"%.2f\" %  adf_library[1],'\\n')\n",
    "\n",
    "        print(i,'in 1st Difference','\\n',\n",
    "              'ADF Stat (Library) for',i,':',\"%.2f\" % adf_library_d[0],'\\n',\n",
    "              'ADF P-Val (Library)',i,':',\"%.2f\" %  adf_library_d[1],'\\n')\n",
    "    print('____________________________________________','\\n')"
   ]
  },
  {
   "cell_type": "markdown",
   "metadata": {},
   "source": [
    "## <center>For **each** asset price or return (as dependent variable), create a loop where you:</center>"
   ]
  },
  {
   "cell_type": "markdown",
   "metadata": {},
   "source": [
    "### -Test at least 5 multivariate OLS models using different combinations of macroeconomic variables. Save all the results into a table"
   ]
  },
  {
   "cell_type": "markdown",
   "metadata": {},
   "source": [
    "### -For each regression run the Chow test in the middle of the sample and verify whether the model is stable or not. Save all the results into a table."
   ]
  },
  {
   "cell_type": "markdown",
   "metadata": {},
   "source": [
    "### -Run the rolling window regressions to see whether the Betas are stable over time. Analyze"
   ]
  },
  {
   "cell_type": "markdown",
   "metadata": {},
   "source": [
    "#### OLS Loop Euro"
   ]
  },
  {
   "cell_type": "code",
   "execution_count": 19,
   "metadata": {},
   "outputs": [
    {
     "name": "stdout",
     "output_type": "stream",
     "text": [
      "                            OLS Regression Results                            \n",
      "==============================================================================\n",
      "Dep. Variable:                    EUR   R-squared:                       0.789\n",
      "Model:                            OLS   Adj. R-squared:                  0.783\n",
      "Method:                 Least Squares   F-statistic:                     145.0\n",
      "Date:                Thu, 27 May 2021   Prob (F-statistic):           9.44e-76\n",
      "Time:                        21:23:12   Log-Likelihood:                 341.08\n",
      "No. Observations:                 240   AIC:                            -668.2\n",
      "Df Residuals:                     233   BIC:                            -643.8\n",
      "Df Model:                           6                                         \n",
      "Covariance Type:            nonrobust                                         \n",
      "=====================================================================================\n",
      "                        coef    std err          t      P>|t|      [0.025      0.975]\n",
      "-------------------------------------------------------------------------------------\n",
      "const                 1.4921      0.049     30.547      0.000       1.396       1.588\n",
      "New_Home_Sales     3.099e-08   2.16e-08      1.432      0.154   -1.17e-08    7.36e-08\n",
      "Non-Farm Payrolls  6.329e-08   2.48e-08      2.552      0.011    1.44e-08    1.12e-07\n",
      "Oil Prices           -0.0020      0.000     -7.176      0.000      -0.003      -0.001\n",
      "PMI                  -0.0030      0.001     -3.122      0.002      -0.005      -0.001\n",
      "Unemployment Rate    -0.0236      0.003     -7.863      0.000      -0.030      -0.018\n",
      "US Trade Balance    5.65e-12    5.7e-13      9.906      0.000    4.53e-12    6.77e-12\n",
      "==============================================================================\n",
      "Omnibus:                        4.268   Durbin-Watson:                   0.296\n",
      "Prob(Omnibus):                  0.118   Jarque-Bera (JB):                4.322\n",
      "Skew:                           0.303   Prob(JB):                        0.115\n",
      "Kurtosis:                       2.744   Cond. No.                     5.84e+11\n",
      "==============================================================================\n",
      "\n",
      "Notes:\n",
      "[1] Standard Errors assume that the covariance matrix of the errors is correctly specified.\n",
      "[2] The condition number is large, 5.84e+11. This might indicate that there are\n",
      "strong multicollinearity or other numerical problems.\n",
      "                            OLS Regression Results                            \n",
      "==============================================================================\n",
      "Dep. Variable:                    EUR   R-squared:                       0.789\n",
      "Model:                            OLS   Adj. R-squared:                  0.783\n",
      "Method:                 Least Squares   F-statistic:                     124.2\n",
      "Date:                Thu, 27 May 2021   Prob (F-statistic):           8.35e-75\n",
      "Time:                        21:23:12   Log-Likelihood:                 341.44\n",
      "No. Observations:                 240   AIC:                            -666.9\n",
      "Df Residuals:                     232   BIC:                            -639.0\n",
      "Df Model:                           7                                         \n",
      "Covariance Type:            nonrobust                                         \n",
      "======================================================================================\n",
      "                         coef    std err          t      P>|t|      [0.025      0.975]\n",
      "--------------------------------------------------------------------------------------\n",
      "const                  1.4849      0.050     29.936      0.000       1.387       1.583\n",
      "GDP Growth Monthly    -0.1434      0.170     -0.843      0.400      -0.478       0.192\n",
      "New_Home_Sales       3.47e-08   2.21e-08      1.570      0.118   -8.84e-09    7.82e-08\n",
      "Non-Farm Payrolls   7.002e-08   2.61e-08      2.686      0.008    1.87e-08    1.21e-07\n",
      "Oil Prices            -0.0020      0.000     -7.148      0.000      -0.003      -0.001\n",
      "PMI                   -0.0028      0.001     -2.895      0.004      -0.005      -0.001\n",
      "Unemployment Rate     -0.0233      0.003     -7.736      0.000      -0.029      -0.017\n",
      "US Trade Balance    5.728e-12   5.78e-13      9.906      0.000    4.59e-12    6.87e-12\n",
      "==============================================================================\n",
      "Omnibus:                        4.195   Durbin-Watson:                   0.309\n",
      "Prob(Omnibus):                  0.123   Jarque-Bera (JB):                4.284\n",
      "Skew:                           0.313   Prob(JB):                        0.117\n",
      "Kurtosis:                       2.809   Cond. No.                     2.04e+12\n",
      "==============================================================================\n",
      "\n",
      "Notes:\n",
      "[1] Standard Errors assume that the covariance matrix of the errors is correctly specified.\n",
      "[2] The condition number is large, 2.04e+12. This might indicate that there are\n",
      "strong multicollinearity or other numerical problems.\n",
      "                            OLS Regression Results                            \n",
      "==============================================================================\n",
      "Dep. Variable:                    EUR   R-squared:                       0.808\n",
      "Model:                            OLS   Adj. R-squared:                  0.801\n",
      "Method:                 Least Squares   F-statistic:                     121.5\n",
      "Date:                Thu, 27 May 2021   Prob (F-statistic):           2.45e-78\n",
      "Time:                        21:23:12   Log-Likelihood:                 352.51\n",
      "No. Observations:                 240   AIC:                            -687.0\n",
      "Df Residuals:                     231   BIC:                            -655.7\n",
      "Df Model:                           8                                         \n",
      "Covariance Type:            nonrobust                                         \n",
      "======================================================================================\n",
      "                         coef    std err          t      P>|t|      [0.025      0.975]\n",
      "--------------------------------------------------------------------------------------\n",
      "const                  1.4209      0.049     28.784      0.000       1.324       1.518\n",
      "Fed Funds Rate         0.0130      0.003      4.725      0.000       0.008       0.018\n",
      "GDP Growth Monthly    -0.1363      0.163     -0.838      0.403      -0.457       0.184\n",
      "New_Home_Sales      -1.01e-08   2.32e-08     -0.436      0.663   -5.58e-08    3.56e-08\n",
      "Non-Farm Payrolls    7.43e-08    2.5e-08      2.976      0.003    2.51e-08    1.23e-07\n",
      "Oil Prices            -0.0023      0.000     -8.226      0.000      -0.003      -0.002\n",
      "PMI                   -0.0019      0.001     -1.963      0.051      -0.004     6.8e-06\n",
      "Unemployment Rate     -0.0172      0.003     -5.439      0.000      -0.023      -0.011\n",
      "US Trade Balance    5.726e-12   5.53e-13     10.347      0.000    4.64e-12    6.82e-12\n",
      "==============================================================================\n",
      "Omnibus:                        2.654   Durbin-Watson:                   0.337\n",
      "Prob(Omnibus):                  0.265   Jarque-Bera (JB):                2.669\n",
      "Skew:                           0.253   Prob(JB):                        0.263\n",
      "Kurtosis:                       2.895   Cond. No.                     2.04e+12\n",
      "==============================================================================\n",
      "\n",
      "Notes:\n",
      "[1] Standard Errors assume that the covariance matrix of the errors is correctly specified.\n",
      "[2] The condition number is large, 2.04e+12. This might indicate that there are\n",
      "strong multicollinearity or other numerical problems.\n",
      "                            OLS Regression Results                            \n",
      "==============================================================================\n",
      "Dep. Variable:                    EUR   R-squared:                       0.808\n",
      "Model:                            OLS   Adj. R-squared:                  0.800\n",
      "Method:                 Least Squares   F-statistic:                     107.5\n",
      "Date:                Thu, 27 May 2021   Prob (F-statistic):           2.75e-77\n",
      "Time:                        21:23:12   Log-Likelihood:                 352.53\n",
      "No. Observations:                 240   AIC:                            -685.1\n",
      "Df Residuals:                     230   BIC:                            -650.2\n",
      "Df Model:                           9                                         \n",
      "Covariance Type:            nonrobust                                         \n",
      "======================================================================================\n",
      "                         coef    std err          t      P>|t|      [0.025      0.975]\n",
      "--------------------------------------------------------------------------------------\n",
      "const                  1.4224      0.050     28.326      0.000       1.323       1.521\n",
      "CPI                    0.0024      0.014      0.169      0.866      -0.025       0.030\n",
      "Fed Funds Rate         0.0129      0.003      4.617      0.000       0.007       0.018\n",
      "GDP Growth Monthly    -0.1387      0.164     -0.847      0.398      -0.461       0.184\n",
      "New_Home_Sales     -1.079e-08   2.36e-08     -0.458      0.648   -5.72e-08    3.57e-08\n",
      "Non-Farm Payrolls   7.449e-08    2.5e-08      2.975      0.003    2.51e-08    1.24e-07\n",
      "Oil Prices            -0.0023      0.000     -7.985      0.000      -0.003      -0.002\n",
      "PMI                   -0.0019      0.001     -1.962      0.051      -0.004    8.54e-06\n",
      "Unemployment Rate     -0.0172      0.003     -5.417      0.000      -0.023      -0.011\n",
      "US Trade Balance    5.709e-12   5.64e-13     10.127      0.000     4.6e-12    6.82e-12\n",
      "==============================================================================\n",
      "Omnibus:                        2.565   Durbin-Watson:                   0.336\n",
      "Prob(Omnibus):                  0.277   Jarque-Bera (JB):                2.578\n",
      "Skew:                           0.249   Prob(JB):                        0.276\n",
      "Kurtosis:                       2.897   Cond. No.                     2.04e+12\n",
      "==============================================================================\n",
      "\n",
      "Notes:\n",
      "[1] Standard Errors assume that the covariance matrix of the errors is correctly specified.\n",
      "[2] The condition number is large, 2.04e+12. This might indicate that there are\n",
      "strong multicollinearity or other numerical problems.\n",
      "                            OLS Regression Results                            \n",
      "==============================================================================\n",
      "Dep. Variable:                    EUR   R-squared:                       0.815\n",
      "Model:                            OLS   Adj. R-squared:                  0.807\n",
      "Method:                 Least Squares   F-statistic:                     100.8\n",
      "Date:                Thu, 27 May 2021   Prob (F-statistic):           4.52e-78\n",
      "Time:                        21:23:12   Log-Likelihood:                 356.94\n",
      "No. Observations:                 240   AIC:                            -691.9\n",
      "Df Residuals:                     229   BIC:                            -653.6\n",
      "Df Model:                          10                                         \n",
      "Covariance Type:            nonrobust                                         \n",
      "======================================================================================\n",
      "                         coef    std err          t      P>|t|      [0.025      0.975]\n",
      "--------------------------------------------------------------------------------------\n",
      "const                  1.4695      0.052     28.279      0.000       1.367       1.572\n",
      "10Y US Bond Yield      0.0180      0.006      2.928      0.004       0.006       0.030\n",
      "CPI                    0.0038      0.014      0.273      0.785      -0.023       0.031\n",
      "Fed Funds Rate         0.0007      0.005      0.140      0.889      -0.009       0.011\n",
      "GDP Growth Monthly    -0.0795      0.162     -0.490      0.625      -0.399       0.240\n",
      "New_Home_Sales     -5.772e-08   2.82e-08     -2.047      0.042   -1.13e-07   -2.15e-09\n",
      "Non-Farm Payrolls   1.128e-07   2.79e-08      4.043      0.000    5.78e-08    1.68e-07\n",
      "Oil Prices            -0.0024      0.000     -8.485      0.000      -0.003      -0.002\n",
      "PMI                   -0.0031      0.001     -2.998      0.003      -0.005      -0.001\n",
      "Unemployment Rate     -0.0223      0.004     -6.234      0.000      -0.029      -0.015\n",
      "US Trade Balance    4.884e-12   6.22e-13      7.851      0.000    3.66e-12    6.11e-12\n",
      "==============================================================================\n",
      "Omnibus:                        3.440   Durbin-Watson:                   0.352\n",
      "Prob(Omnibus):                  0.179   Jarque-Bera (JB):                3.071\n",
      "Skew:                           0.196   Prob(JB):                        0.215\n",
      "Kurtosis:                       2.608   Cond. No.                     2.06e+12\n",
      "==============================================================================\n",
      "\n",
      "Notes:\n",
      "[1] Standard Errors assume that the covariance matrix of the errors is correctly specified.\n",
      "[2] The condition number is large, 2.06e+12. This might indicate that there are\n",
      "strong multicollinearity or other numerical problems.\n"
     ]
    }
   ],
   "source": [
    "# Loop for EUR\n",
    "\n",
    "y=y_data['EUR']\n",
    "x1=x_data[['New_Home_Sales', 'Non-Farm Payrolls', 'Oil Prices', 'PMI', 'Unemployment Rate', 'US Trade Balance']]\n",
    "x2=x_data[['GDP Growth Monthly', 'New_Home_Sales', 'Non-Farm Payrolls', 'Oil Prices', 'PMI', 'Unemployment Rate', 'US Trade Balance']]\n",
    "x3=x_data[['Fed Funds Rate', 'GDP Growth Monthly', 'New_Home_Sales', 'Non-Farm Payrolls', 'Oil Prices', 'PMI', 'Unemployment Rate', 'US Trade Balance']]\n",
    "x4=x_data[['CPI', 'Fed Funds Rate', 'GDP Growth Monthly', 'New_Home_Sales', 'Non-Farm Payrolls', 'Oil Prices', 'PMI', 'Unemployment Rate', 'US Trade Balance']]\n",
    "x5=x_data[['10Y US Bond Yield', 'CPI', 'Fed Funds Rate', 'GDP Growth Monthly', 'New_Home_Sales', 'Non-Farm Payrolls', 'Oil Prices', 'PMI', 'Unemployment Rate', 'US Trade Balance']]\n",
    "\n",
    "x_list = [x1, x2, x3, x4, x5]\n",
    "\n",
    "\n",
    "for i in range(len(x_list)):\n",
    "\n",
    "    Y = y\n",
    "    X = x_list[i]\n",
    "    X = sm.add_constant(X)\n",
    "    model = sm.OLS(Y,X)\n",
    "    results = model.fit()\n",
    "    print(results.summary())"
   ]
  },
  {
   "cell_type": "markdown",
   "metadata": {},
   "source": [
    "#### Chow-Test most promising EUR"
   ]
  },
  {
   "cell_type": "code",
   "execution_count": 20,
   "metadata": {},
   "outputs": [],
   "source": [
    "# code for Chow-Test\n",
    "\n",
    "# Model for the entire period\n",
    "Y = y_data['EUR']\n",
    "X = x_data[['10Y US Bond Yield', 'CPI', 'Fed Funds Rate', 'GDP Growth Monthly', 'New_Home_Sales', 'Non-Farm Payrolls', 'Oil Prices', 'PMI', 'Unemployment Rate', 'US Trade Balance']]\n",
    "X = sm.add_constant(X)\n",
    "\n",
    "# Model for the first 5 years\n",
    "Y_1 = y_data['EUR'][0:120]\n",
    "X_1 = x_data[['10Y US Bond Yield', 'CPI', 'Fed Funds Rate', 'GDP Growth Monthly', 'New_Home_Sales', 'Non-Farm Payrolls', 'Oil Prices', 'PMI', 'Unemployment Rate', 'US Trade Balance']][0:120]\n",
    "X_1 = sm.add_constant(X_1)\n",
    "\n",
    "# Model for the following 4 years\n",
    "Y_2 = y_data['EUR'][120:]\n",
    "X_2 = x_data[['10Y US Bond Yield', 'CPI', 'Fed Funds Rate', 'GDP Growth Monthly', 'New_Home_Sales', 'Non-Farm Payrolls', 'Oil Prices', 'PMI', 'Unemployment Rate', 'US Trade Balance']][120:]\n",
    "X_2 = sm.add_constant(X_2)"
   ]
  },
  {
   "cell_type": "code",
   "execution_count": 21,
   "metadata": {
    "scrolled": false
   },
   "outputs": [
    {
     "data": {
      "text/html": [
       "<table class=\"simpletable\">\n",
       "<caption>OLS Regression Results</caption>\n",
       "<tr>\n",
       "  <th>Dep. Variable:</th>           <td>EUR</td>       <th>  R-squared:         </th> <td>   0.906</td>\n",
       "</tr>\n",
       "<tr>\n",
       "  <th>Model:</th>                   <td>OLS</td>       <th>  Adj. R-squared:    </th> <td>   0.898</td>\n",
       "</tr>\n",
       "<tr>\n",
       "  <th>Method:</th>             <td>Least Squares</td>  <th>  F-statistic:       </th> <td>   105.6</td>\n",
       "</tr>\n",
       "<tr>\n",
       "  <th>Date:</th>             <td>Thu, 27 May 2021</td> <th>  Prob (F-statistic):</th> <td>2.52e-51</td>\n",
       "</tr>\n",
       "<tr>\n",
       "  <th>Time:</th>                 <td>21:25:50</td>     <th>  Log-Likelihood:    </th> <td>  192.04</td>\n",
       "</tr>\n",
       "<tr>\n",
       "  <th>No. Observations:</th>      <td>   120</td>      <th>  AIC:               </th> <td>  -362.1</td>\n",
       "</tr>\n",
       "<tr>\n",
       "  <th>Df Residuals:</th>          <td>   109</td>      <th>  BIC:               </th> <td>  -331.4</td>\n",
       "</tr>\n",
       "<tr>\n",
       "  <th>Df Model:</th>              <td>    10</td>      <th>                     </th>     <td> </td>   \n",
       "</tr>\n",
       "<tr>\n",
       "  <th>Covariance Type:</th>      <td>nonrobust</td>    <th>                     </th>     <td> </td>   \n",
       "</tr>\n",
       "</table>\n",
       "<table class=\"simpletable\">\n",
       "<tr>\n",
       "           <td></td>             <th>coef</th>     <th>std err</th>      <th>t</th>      <th>P>|t|</th>  <th>[0.025</th>    <th>0.975]</th>  \n",
       "</tr>\n",
       "<tr>\n",
       "  <th>const</th>              <td>    0.9939</td> <td>    0.124</td> <td>    7.996</td> <td> 0.000</td> <td>    0.748</td> <td>    1.240</td>\n",
       "</tr>\n",
       "<tr>\n",
       "  <th>10Y US Bond Yield</th>  <td>    0.0882</td> <td>    0.013</td> <td>    6.595</td> <td> 0.000</td> <td>    0.062</td> <td>    0.115</td>\n",
       "</tr>\n",
       "<tr>\n",
       "  <th>CPI</th>                <td>    0.0017</td> <td>    0.016</td> <td>    0.108</td> <td> 0.914</td> <td>   -0.030</td> <td>    0.033</td>\n",
       "</tr>\n",
       "<tr>\n",
       "  <th>Fed Funds Rate</th>     <td>   -0.0126</td> <td>    0.006</td> <td>   -2.166</td> <td> 0.032</td> <td>   -0.024</td> <td>   -0.001</td>\n",
       "</tr>\n",
       "<tr>\n",
       "  <th>GDP Growth Monthly</th> <td>    0.0044</td> <td>    0.189</td> <td>    0.023</td> <td> 0.982</td> <td>   -0.369</td> <td>    0.378</td>\n",
       "</tr>\n",
       "<tr>\n",
       "  <th>New_Home_Sales</th>     <td>  1.63e-07</td> <td> 4.78e-08</td> <td>    3.408</td> <td> 0.001</td> <td> 6.82e-08</td> <td> 2.58e-07</td>\n",
       "</tr>\n",
       "<tr>\n",
       "  <th>Non-Farm Payrolls</th>  <td>-6.422e-08</td> <td> 4.53e-08</td> <td>   -1.417</td> <td> 0.159</td> <td>-1.54e-07</td> <td> 2.56e-08</td>\n",
       "</tr>\n",
       "<tr>\n",
       "  <th>Oil Prices</th>         <td>   -0.0013</td> <td>    0.001</td> <td>   -2.305</td> <td> 0.023</td> <td>   -0.002</td> <td>   -0.000</td>\n",
       "</tr>\n",
       "<tr>\n",
       "  <th>PMI</th>                <td>   -0.0069</td> <td>    0.002</td> <td>   -4.313</td> <td> 0.000</td> <td>   -0.010</td> <td>   -0.004</td>\n",
       "</tr>\n",
       "<tr>\n",
       "  <th>Unemployment Rate</th>  <td>   -0.0143</td> <td>    0.009</td> <td>   -1.532</td> <td> 0.128</td> <td>   -0.033</td> <td>    0.004</td>\n",
       "</tr>\n",
       "<tr>\n",
       "  <th>US Trade Balance</th>   <td>  4.15e-12</td> <td> 1.14e-12</td> <td>    3.654</td> <td> 0.000</td> <td>  1.9e-12</td> <td>  6.4e-12</td>\n",
       "</tr>\n",
       "</table>\n",
       "<table class=\"simpletable\">\n",
       "<tr>\n",
       "  <th>Omnibus:</th>       <td> 5.296</td> <th>  Durbin-Watson:     </th> <td>   0.468</td>\n",
       "</tr>\n",
       "<tr>\n",
       "  <th>Prob(Omnibus):</th> <td> 0.071</td> <th>  Jarque-Bera (JB):  </th> <td>   3.248</td>\n",
       "</tr>\n",
       "<tr>\n",
       "  <th>Skew:</th>          <td> 0.211</td> <th>  Prob(JB):          </th> <td>   0.197</td>\n",
       "</tr>\n",
       "<tr>\n",
       "  <th>Kurtosis:</th>      <td> 2.313</td> <th>  Cond. No.          </th> <td>1.96e+12</td>\n",
       "</tr>\n",
       "</table><br/><br/>Notes:<br/>[1] Standard Errors assume that the covariance matrix of the errors is correctly specified.<br/>[2] The condition number is large, 1.96e+12. This might indicate that there are<br/>strong multicollinearity or other numerical problems."
      ],
      "text/plain": [
       "<class 'statsmodels.iolib.summary.Summary'>\n",
       "\"\"\"\n",
       "                            OLS Regression Results                            \n",
       "==============================================================================\n",
       "Dep. Variable:                    EUR   R-squared:                       0.906\n",
       "Model:                            OLS   Adj. R-squared:                  0.898\n",
       "Method:                 Least Squares   F-statistic:                     105.6\n",
       "Date:                Thu, 27 May 2021   Prob (F-statistic):           2.52e-51\n",
       "Time:                        21:25:50   Log-Likelihood:                 192.04\n",
       "No. Observations:                 120   AIC:                            -362.1\n",
       "Df Residuals:                     109   BIC:                            -331.4\n",
       "Df Model:                          10                                         \n",
       "Covariance Type:            nonrobust                                         \n",
       "======================================================================================\n",
       "                         coef    std err          t      P>|t|      [0.025      0.975]\n",
       "--------------------------------------------------------------------------------------\n",
       "const                  0.9939      0.124      7.996      0.000       0.748       1.240\n",
       "10Y US Bond Yield      0.0882      0.013      6.595      0.000       0.062       0.115\n",
       "CPI                    0.0017      0.016      0.108      0.914      -0.030       0.033\n",
       "Fed Funds Rate        -0.0126      0.006     -2.166      0.032      -0.024      -0.001\n",
       "GDP Growth Monthly     0.0044      0.189      0.023      0.982      -0.369       0.378\n",
       "New_Home_Sales       1.63e-07   4.78e-08      3.408      0.001    6.82e-08    2.58e-07\n",
       "Non-Farm Payrolls  -6.422e-08   4.53e-08     -1.417      0.159   -1.54e-07    2.56e-08\n",
       "Oil Prices            -0.0013      0.001     -2.305      0.023      -0.002      -0.000\n",
       "PMI                   -0.0069      0.002     -4.313      0.000      -0.010      -0.004\n",
       "Unemployment Rate     -0.0143      0.009     -1.532      0.128      -0.033       0.004\n",
       "US Trade Balance     4.15e-12   1.14e-12      3.654      0.000     1.9e-12     6.4e-12\n",
       "==============================================================================\n",
       "Omnibus:                        5.296   Durbin-Watson:                   0.468\n",
       "Prob(Omnibus):                  0.071   Jarque-Bera (JB):                3.248\n",
       "Skew:                           0.211   Prob(JB):                        0.197\n",
       "Kurtosis:                       2.313   Cond. No.                     1.96e+12\n",
       "==============================================================================\n",
       "\n",
       "Notes:\n",
       "[1] Standard Errors assume that the covariance matrix of the errors is correctly specified.\n",
       "[2] The condition number is large, 1.96e+12. This might indicate that there are\n",
       "strong multicollinearity or other numerical problems.\n",
       "\"\"\""
      ]
     },
     "execution_count": 21,
     "metadata": {},
     "output_type": "execute_result"
    }
   ],
   "source": [
    "model = sm.OLS(Y_1,X_1)\n",
    "results = model.fit()\n",
    "results.summary()"
   ]
  },
  {
   "cell_type": "code",
   "execution_count": 22,
   "metadata": {
    "scrolled": true
   },
   "outputs": [
    {
     "data": {
      "text/html": [
       "<table class=\"simpletable\">\n",
       "<caption>OLS Regression Results</caption>\n",
       "<tr>\n",
       "  <th>Dep. Variable:</th>           <td>EUR</td>       <th>  R-squared:         </th> <td>   0.872</td>\n",
       "</tr>\n",
       "<tr>\n",
       "  <th>Model:</th>                   <td>OLS</td>       <th>  Adj. R-squared:    </th> <td>   0.860</td>\n",
       "</tr>\n",
       "<tr>\n",
       "  <th>Method:</th>             <td>Least Squares</td>  <th>  F-statistic:       </th> <td>   74.39</td>\n",
       "</tr>\n",
       "<tr>\n",
       "  <th>Date:</th>             <td>Thu, 27 May 2021</td> <th>  Prob (F-statistic):</th> <td>5.18e-44</td>\n",
       "</tr>\n",
       "<tr>\n",
       "  <th>Time:</th>                 <td>21:26:08</td>     <th>  Log-Likelihood:    </th> <td>  263.22</td>\n",
       "</tr>\n",
       "<tr>\n",
       "  <th>No. Observations:</th>      <td>   120</td>      <th>  AIC:               </th> <td>  -504.4</td>\n",
       "</tr>\n",
       "<tr>\n",
       "  <th>Df Residuals:</th>          <td>   109</td>      <th>  BIC:               </th> <td>  -473.8</td>\n",
       "</tr>\n",
       "<tr>\n",
       "  <th>Df Model:</th>              <td>    10</td>      <th>                     </th>     <td> </td>   \n",
       "</tr>\n",
       "<tr>\n",
       "  <th>Covariance Type:</th>      <td>nonrobust</td>    <th>                     </th>     <td> </td>   \n",
       "</tr>\n",
       "</table>\n",
       "<table class=\"simpletable\">\n",
       "<tr>\n",
       "           <td></td>             <th>coef</th>     <th>std err</th>      <th>t</th>      <th>P>|t|</th>  <th>[0.025</th>    <th>0.975]</th>  \n",
       "</tr>\n",
       "<tr>\n",
       "  <th>const</th>              <td>    1.0910</td> <td>    0.091</td> <td>   12.055</td> <td> 0.000</td> <td>    0.912</td> <td>    1.270</td>\n",
       "</tr>\n",
       "<tr>\n",
       "  <th>10Y US Bond Yield</th>  <td>   -0.0086</td> <td>    0.007</td> <td>   -1.196</td> <td> 0.234</td> <td>   -0.023</td> <td>    0.006</td>\n",
       "</tr>\n",
       "<tr>\n",
       "  <th>CPI</th>                <td>    0.0062</td> <td>    0.014</td> <td>    0.450</td> <td> 0.654</td> <td>   -0.021</td> <td>    0.033</td>\n",
       "</tr>\n",
       "<tr>\n",
       "  <th>Fed Funds Rate</th>     <td>   -0.0069</td> <td>    0.008</td> <td>   -0.839</td> <td> 0.403</td> <td>   -0.023</td> <td>    0.009</td>\n",
       "</tr>\n",
       "<tr>\n",
       "  <th>GDP Growth Monthly</th> <td>   -0.1023</td> <td>    0.144</td> <td>   -0.710</td> <td> 0.479</td> <td>   -0.388</td> <td>    0.183</td>\n",
       "</tr>\n",
       "<tr>\n",
       "  <th>New_Home_Sales</th>     <td> 3.928e-08</td> <td> 7.32e-08</td> <td>    0.537</td> <td> 0.592</td> <td>-1.06e-07</td> <td> 1.84e-07</td>\n",
       "</tr>\n",
       "<tr>\n",
       "  <th>Non-Farm Payrolls</th>  <td> 7.806e-09</td> <td>  2.9e-08</td> <td>    0.269</td> <td> 0.788</td> <td>-4.96e-08</td> <td> 6.53e-08</td>\n",
       "</tr>\n",
       "<tr>\n",
       "  <th>Oil Prices</th>         <td>   -0.0022</td> <td>    0.000</td> <td>  -11.556</td> <td> 0.000</td> <td>   -0.003</td> <td>   -0.002</td>\n",
       "</tr>\n",
       "<tr>\n",
       "  <th>PMI</th>                <td>   -0.0015</td> <td>    0.001</td> <td>   -1.365</td> <td> 0.175</td> <td>   -0.004</td> <td>    0.001</td>\n",
       "</tr>\n",
       "<tr>\n",
       "  <th>Unemployment Rate</th>  <td>   -0.0107</td> <td>    0.004</td> <td>   -2.718</td> <td> 0.008</td> <td>   -0.019</td> <td>   -0.003</td>\n",
       "</tr>\n",
       "<tr>\n",
       "  <th>US Trade Balance</th>   <td>-8.893e-13</td> <td>  8.6e-13</td> <td>   -1.034</td> <td> 0.303</td> <td>-2.59e-12</td> <td> 8.15e-13</td>\n",
       "</tr>\n",
       "</table>\n",
       "<table class=\"simpletable\">\n",
       "<tr>\n",
       "  <th>Omnibus:</th>       <td> 0.650</td> <th>  Durbin-Watson:     </th> <td>   0.550</td>\n",
       "</tr>\n",
       "<tr>\n",
       "  <th>Prob(Omnibus):</th> <td> 0.723</td> <th>  Jarque-Bera (JB):  </th> <td>   0.753</td>\n",
       "</tr>\n",
       "<tr>\n",
       "  <th>Skew:</th>          <td> 0.163</td> <th>  Prob(JB):          </th> <td>   0.686</td>\n",
       "</tr>\n",
       "<tr>\n",
       "  <th>Kurtosis:</th>      <td> 2.789</td> <th>  Cond. No.          </th> <td>2.44e+12</td>\n",
       "</tr>\n",
       "</table><br/><br/>Notes:<br/>[1] Standard Errors assume that the covariance matrix of the errors is correctly specified.<br/>[2] The condition number is large, 2.44e+12. This might indicate that there are<br/>strong multicollinearity or other numerical problems."
      ],
      "text/plain": [
       "<class 'statsmodels.iolib.summary.Summary'>\n",
       "\"\"\"\n",
       "                            OLS Regression Results                            \n",
       "==============================================================================\n",
       "Dep. Variable:                    EUR   R-squared:                       0.872\n",
       "Model:                            OLS   Adj. R-squared:                  0.860\n",
       "Method:                 Least Squares   F-statistic:                     74.39\n",
       "Date:                Thu, 27 May 2021   Prob (F-statistic):           5.18e-44\n",
       "Time:                        21:26:08   Log-Likelihood:                 263.22\n",
       "No. Observations:                 120   AIC:                            -504.4\n",
       "Df Residuals:                     109   BIC:                            -473.8\n",
       "Df Model:                          10                                         \n",
       "Covariance Type:            nonrobust                                         \n",
       "======================================================================================\n",
       "                         coef    std err          t      P>|t|      [0.025      0.975]\n",
       "--------------------------------------------------------------------------------------\n",
       "const                  1.0910      0.091     12.055      0.000       0.912       1.270\n",
       "10Y US Bond Yield     -0.0086      0.007     -1.196      0.234      -0.023       0.006\n",
       "CPI                    0.0062      0.014      0.450      0.654      -0.021       0.033\n",
       "Fed Funds Rate        -0.0069      0.008     -0.839      0.403      -0.023       0.009\n",
       "GDP Growth Monthly    -0.1023      0.144     -0.710      0.479      -0.388       0.183\n",
       "New_Home_Sales      3.928e-08   7.32e-08      0.537      0.592   -1.06e-07    1.84e-07\n",
       "Non-Farm Payrolls   7.806e-09    2.9e-08      0.269      0.788   -4.96e-08    6.53e-08\n",
       "Oil Prices            -0.0022      0.000    -11.556      0.000      -0.003      -0.002\n",
       "PMI                   -0.0015      0.001     -1.365      0.175      -0.004       0.001\n",
       "Unemployment Rate     -0.0107      0.004     -2.718      0.008      -0.019      -0.003\n",
       "US Trade Balance   -8.893e-13    8.6e-13     -1.034      0.303   -2.59e-12    8.15e-13\n",
       "==============================================================================\n",
       "Omnibus:                        0.650   Durbin-Watson:                   0.550\n",
       "Prob(Omnibus):                  0.723   Jarque-Bera (JB):                0.753\n",
       "Skew:                           0.163   Prob(JB):                        0.686\n",
       "Kurtosis:                       2.789   Cond. No.                     2.44e+12\n",
       "==============================================================================\n",
       "\n",
       "Notes:\n",
       "[1] Standard Errors assume that the covariance matrix of the errors is correctly specified.\n",
       "[2] The condition number is large, 2.44e+12. This might indicate that there are\n",
       "strong multicollinearity or other numerical problems.\n",
       "\"\"\""
      ]
     },
     "execution_count": 22,
     "metadata": {},
     "output_type": "execute_result"
    }
   ],
   "source": [
    "model = sm.OLS(Y_2,X_2)\n",
    "results = model.fit()\n",
    "results.summary()"
   ]
  },
  {
   "cell_type": "code",
   "execution_count": 23,
   "metadata": {},
   "outputs": [],
   "source": [
    "J = X.shape[1]\n",
    "k = X_1.shape[1]\n",
    "N1 = X_1.shape[0]\n",
    "N2 = X_2.shape[0]"
   ]
  },
  {
   "cell_type": "code",
   "execution_count": 24,
   "metadata": {},
   "outputs": [],
   "source": [
    "model_dummy = sm.OLS(Y,X).fit()\n",
    "RSSd = model_dummy.ssr\n",
    "\n",
    "model_b = sm.OLS(Y_1,X_1).fit()\n",
    "RSSb = model_b.ssr\n",
    "\n",
    "model_nb = sm.OLS(Y_2,X_2).fit()\n",
    "RSSnb = model_nb.ssr"
   ]
  },
  {
   "cell_type": "code",
   "execution_count": 25,
   "metadata": {},
   "outputs": [
    {
     "data": {
      "text/plain": [
       "0.9999999999999999"
      ]
     },
     "execution_count": 25,
     "metadata": {},
     "output_type": "execute_result"
    }
   ],
   "source": [
    "# result is the p-value : null hypothesis: there are no break points (hypothesis is accepted (p-value: 0.999999))\n",
    "\n",
    "chow = ((RSSd-(RSSb+RSSnb))/J)/((RSSb+RSSnb)/(N1+N2-2*k))\n",
    "import scipy\n",
    "scipy.stats.f.cdf(chow, J, N1+N2-2*k)"
   ]
  },
  {
   "cell_type": "markdown",
   "metadata": {},
   "source": [
    "#### Rolling regression most promising EUR"
   ]
  },
  {
   "cell_type": "code",
   "execution_count": 26,
   "metadata": {},
   "outputs": [],
   "source": [
    "def rolling_regression(y, x, window=60):\n",
    "    # === Loop... this can be improved ====================================\n",
    "    estimate_data = []\n",
    "    for i in range(window, x.index.size+1):\n",
    "        X_slice = X.values[i-window:i,:] # always index in np as opposed to pandas, much faster\n",
    "        y_slice = y.values[i-window:i]\n",
    "        coeff = np.dot(np.dot(np.linalg.inv(np.dot(X_slice.T, X_slice)), X_slice.T), y_slice)\n",
    "        estimate_data.append(coeff[0] * x.values[window-1] + coeff[1])\n",
    "    # === Assemble ========================================================\n",
    "    estimate = pd.Series(data=estimate_data, index=x.index[window-1:]) \n",
    "    return estimate     "
   ]
  },
  {
   "cell_type": "code",
   "execution_count": 27,
   "metadata": {},
   "outputs": [],
   "source": [
    "x_data=pd.DataFrame(x_data[['10Y US Bond Yield', 'CPI', 'Fed Funds Rate', 'GDP Growth Monthly', 'New_Home_Sales', 'Non-Farm Payrolls', 'Oil Prices', 'PMI', 'Unemployment Rate', 'US Trade Balance']])\n",
    "x_data['const']=1\n",
    "X= x_data[['10Y US Bond Yield', 'CPI', 'Fed Funds Rate', 'GDP Growth Monthly', 'New_Home_Sales', 'Non-Farm Payrolls', 'Oil Prices', 'PMI', 'Unemployment Rate', 'US Trade Balance']]\n",
    "Y= y_data['EUR']"
   ]
  },
  {
   "cell_type": "code",
   "execution_count": 28,
   "metadata": {},
   "outputs": [
    {
     "data": {
      "text/html": [
       "<div>\n",
       "<style scoped>\n",
       "    .dataframe tbody tr th:only-of-type {\n",
       "        vertical-align: middle;\n",
       "    }\n",
       "\n",
       "    .dataframe tbody tr th {\n",
       "        vertical-align: top;\n",
       "    }\n",
       "\n",
       "    .dataframe thead th {\n",
       "        text-align: right;\n",
       "    }\n",
       "</style>\n",
       "<table border=\"1\" class=\"dataframe\">\n",
       "  <thead>\n",
       "    <tr style=\"text-align: right;\">\n",
       "      <th></th>\n",
       "      <th>Beta_1</th>\n",
       "      <th>Beta_2</th>\n",
       "      <th>Beta_3</th>\n",
       "      <th>Beta_4</th>\n",
       "      <th>Beta_5</th>\n",
       "      <th>Beta_6</th>\n",
       "      <th>Beta_7</th>\n",
       "      <th>Beta_8</th>\n",
       "      <th>Beta_9</th>\n",
       "      <th>Beta_10</th>\n",
       "    </tr>\n",
       "  </thead>\n",
       "  <tbody>\n",
       "    <tr>\n",
       "      <th>180</th>\n",
       "      <td>0.543496</td>\n",
       "      <td>0.003873</td>\n",
       "      <td>0.225122</td>\n",
       "      <td>0.009488</td>\n",
       "      <td>139488.062292</td>\n",
       "      <td>13589.420192</td>\n",
       "      <td>4.873601</td>\n",
       "      <td>6.585193</td>\n",
       "      <td>0.610343</td>\n",
       "      <td>-6.167798e+09</td>\n",
       "    </tr>\n",
       "    <tr>\n",
       "      <th>179</th>\n",
       "      <td>0.551090</td>\n",
       "      <td>0.000021</td>\n",
       "      <td>0.225963</td>\n",
       "      <td>0.005755</td>\n",
       "      <td>142446.891991</td>\n",
       "      <td>13877.676291</td>\n",
       "      <td>4.973046</td>\n",
       "      <td>6.720945</td>\n",
       "      <td>0.619355</td>\n",
       "      <td>-6.298630e+09</td>\n",
       "    </tr>\n",
       "    <tr>\n",
       "      <th>178</th>\n",
       "      <td>0.542523</td>\n",
       "      <td>-0.000953</td>\n",
       "      <td>0.221876</td>\n",
       "      <td>0.004702</td>\n",
       "      <td>140484.043645</td>\n",
       "      <td>13686.447836</td>\n",
       "      <td>4.903546</td>\n",
       "      <td>6.627360</td>\n",
       "      <td>0.609847</td>\n",
       "      <td>-6.211838e+09</td>\n",
       "    </tr>\n",
       "    <tr>\n",
       "      <th>177</th>\n",
       "      <td>0.543220</td>\n",
       "      <td>0.000638</td>\n",
       "      <td>0.223100</td>\n",
       "      <td>0.006285</td>\n",
       "      <td>140252.815677</td>\n",
       "      <td>13663.922232</td>\n",
       "      <td>4.897065</td>\n",
       "      <td>6.618042</td>\n",
       "      <td>0.610433</td>\n",
       "      <td>-6.201614e+09</td>\n",
       "    </tr>\n",
       "    <tr>\n",
       "      <th>176</th>\n",
       "      <td>0.547755</td>\n",
       "      <td>0.011226</td>\n",
       "      <td>0.231206</td>\n",
       "      <td>0.016809</td>\n",
       "      <td>138688.400404</td>\n",
       "      <td>13511.520960</td>\n",
       "      <td>4.853036</td>\n",
       "      <td>6.554816</td>\n",
       "      <td>0.614219</td>\n",
       "      <td>-6.132439e+09</td>\n",
       "    </tr>\n",
       "  </tbody>\n",
       "</table>\n",
       "</div>"
      ],
      "text/plain": [
       "       Beta_1    Beta_2    Beta_3    Beta_4         Beta_5        Beta_6  \\\n",
       "180  0.543496  0.003873  0.225122  0.009488  139488.062292  13589.420192   \n",
       "179  0.551090  0.000021  0.225963  0.005755  142446.891991  13877.676291   \n",
       "178  0.542523 -0.000953  0.221876  0.004702  140484.043645  13686.447836   \n",
       "177  0.543220  0.000638  0.223100  0.006285  140252.815677  13663.922232   \n",
       "176  0.547755  0.011226  0.231206  0.016809  138688.400404  13511.520960   \n",
       "\n",
       "       Beta_7    Beta_8    Beta_9       Beta_10  \n",
       "180  4.873601  6.585193  0.610343 -6.167798e+09  \n",
       "179  4.973046  6.720945  0.619355 -6.298630e+09  \n",
       "178  4.903546  6.627360  0.609847 -6.211838e+09  \n",
       "177  4.897065  6.618042  0.610433 -6.201614e+09  \n",
       "176  4.853036  6.554816  0.614219 -6.132439e+09  "
      ]
     },
     "execution_count": 28,
     "metadata": {},
     "output_type": "execute_result"
    }
   ],
   "source": [
    "rolling_ols = rolling_regression(Y,X,60)\n",
    "rolling_ols = pd.DataFrame.from_dict(dict(zip(rolling_ols.index, rolling_ols.values)))\n",
    "rolling_ols_transposed = rolling_ols.T\n",
    "rolling_ols_transposed.columns=[\"Beta_1\",\"Beta_2\",\"Beta_3\",\"Beta_4\",\"Beta_5\",\"Beta_6\",\"Beta_7\",\"Beta_8\",\"Beta_9\",\"Beta_10\"]\n",
    "rolling_ols_transposed.head()"
   ]
  },
  {
   "cell_type": "code",
   "execution_count": 29,
   "metadata": {},
   "outputs": [
    {
     "data": {
      "text/plain": [
       "<function matplotlib.pyplot.show(close=None, block=None)>"
      ]
     },
     "execution_count": 29,
     "metadata": {},
     "output_type": "execute_result"
    },
    {
     "data": {
      "image/png": "[encoded data removed]",
      "text/plain": [
       "<Figure size 432x288 with 1 Axes>"
      ]
     },
     "metadata": {
      "needs_background": "light"
     },
     "output_type": "display_data"
    }
   ],
   "source": [
    "plt.plot(rolling_ols_transposed[['Beta_1','Beta_2','Beta_3']])\n",
    "labels=[['Beta_1','Beta_2','Beta_3']]\n",
    "plt.legend(labels)\n",
    "plt.title('EUR Rolling Betas 1 - 3')\n",
    "plt.savefig('Betas1_'+ 'EUR' +'.png')\n",
    "plt.show"
   ]
  },
  {
   "cell_type": "code",
   "execution_count": 30,
   "metadata": {},
   "outputs": [
    {
     "data": {
      "text/plain": [
       "<function matplotlib.pyplot.show(close=None, block=None)>"
      ]
     },
     "execution_count": 30,
     "metadata": {},
     "output_type": "execute_result"
    },
    {
     "data": {
      "image/png": "[encoded data removed]",
      "text/plain": [
       "<Figure size 432x288 with 1 Axes>"
      ]
     },
     "metadata": {
      "needs_background": "light"
     },
     "output_type": "display_data"
    }
   ],
   "source": [
    "plt.plot(rolling_ols_transposed[['Beta_4','Beta_5','Beta_6']])\n",
    "labels=[['Beta_4','Beta_5','Beta_6']]\n",
    "plt.legend(labels)\n",
    "plt.title('EUR Rolling Betas 4 - 6')\n",
    "plt.savefig('Betas2_'+ 'EUR' +'.png')\n",
    "plt.show"
   ]
  },
  {
   "cell_type": "code",
   "execution_count": 31,
   "metadata": {},
   "outputs": [
    {
     "data": {
      "text/plain": [
       "<function matplotlib.pyplot.show(close=None, block=None)>"
      ]
     },
     "execution_count": 31,
     "metadata": {},
     "output_type": "execute_result"
    },
    {
     "data": {
      "image/png": "[encoded data removed]",
      "text/plain": [
       "<Figure size 432x288 with 1 Axes>"
      ]
     },
     "metadata": {
      "needs_background": "light"
     },
     "output_type": "display_data"
    }
   ],
   "source": [
    "plt.plot(rolling_ols_transposed[['Beta_7','Beta_8','Beta_9']])\n",
    "labels=[['Beta_7','Beta_8','Beta_9']]\n",
    "plt.legend(labels)\n",
    "plt.title('EUR Rolling Betas 7 - 9')\n",
    "plt.savefig('Betas3_'+ 'EUR' +'.png')\n",
    "plt.show"
   ]
  },
  {
   "cell_type": "code",
   "execution_count": 32,
   "metadata": {},
   "outputs": [
    {
     "data": {
      "text/plain": [
       "<function matplotlib.pyplot.show(close=None, block=None)>"
      ]
     },
     "execution_count": 32,
     "metadata": {},
     "output_type": "execute_result"
    },
    {
     "data": {
      "image/png": "[encoded data removed]",
      "text/plain": [
       "<Figure size 432x288 with 1 Axes>"
      ]
     },
     "metadata": {
      "needs_background": "light"
     },
     "output_type": "display_data"
    }
   ],
   "source": [
    "plt.plot(rolling_ols_transposed['Beta_10'])\n",
    "labels=['Beta_10']\n",
    "plt.legend(labels)\n",
    "plt.title('EUR Rolling Beta 10')\n",
    "plt.savefig('Betas4_'+ 'EUR' +'.png')\n",
    "plt.show"
   ]
  },
  {
   "cell_type": "markdown",
   "metadata": {},
   "source": [
    "#### OLS Loop for GBP"
   ]
  },
  {
   "cell_type": "code",
   "execution_count": 33,
   "metadata": {},
   "outputs": [
    {
     "name": "stdout",
     "output_type": "stream",
     "text": [
      "                            OLS Regression Results                            \n",
      "==============================================================================\n",
      "Dep. Variable:                    GBP   R-squared:                       0.658\n",
      "Model:                            OLS   Adj. R-squared:                  0.649\n",
      "Method:                 Least Squares   F-statistic:                     74.56\n",
      "Date:                Thu, 27 May 2021   Prob (F-statistic):           1.84e-51\n",
      "Time:                        21:37:48   Log-Likelihood:                 385.91\n",
      "No. Observations:                 240   AIC:                            -757.8\n",
      "Df Residuals:                     233   BIC:                            -733.4\n",
      "Df Model:                           6                                         \n",
      "Covariance Type:            nonrobust                                         \n",
      "=====================================================================================\n",
      "                        coef    std err          t      P>|t|      [0.025      0.975]\n",
      "-------------------------------------------------------------------------------------\n",
      "const                 1.0106      0.041     24.909      0.000       0.931       1.091\n",
      "10Y US Bond Yield    -0.0330      0.002    -14.299      0.000      -0.038      -0.028\n",
      "Non-Farm Payrolls -6.475e-08   2.13e-08     -3.036      0.003   -1.07e-07   -2.27e-08\n",
      "Oil Prices           -0.0006      0.000     -3.150      0.002      -0.001      -0.000\n",
      "PMI                   0.0018      0.001      2.284      0.023       0.000       0.003\n",
      "Unemployment Rate    -0.0198      0.002     -7.947      0.000      -0.025      -0.015\n",
      "US Trade Balance   4.097e-12   3.99e-13     10.272      0.000    3.31e-12    4.88e-12\n",
      "==============================================================================\n",
      "Omnibus:                       11.395   Durbin-Watson:                   0.239\n",
      "Prob(Omnibus):                  0.003   Jarque-Bera (JB):                5.741\n",
      "Skew:                           0.151   Prob(JB):                       0.0567\n",
      "Kurtosis:                       2.305   Cond. No.                     5.85e+11\n",
      "==============================================================================\n",
      "\n",
      "Notes:\n",
      "[1] Standard Errors assume that the covariance matrix of the errors is correctly specified.\n",
      "[2] The condition number is large, 5.85e+11. This might indicate that there are\n",
      "strong multicollinearity or other numerical problems.\n",
      "                            OLS Regression Results                            \n",
      "==============================================================================\n",
      "Dep. Variable:                    GBP   R-squared:                       0.699\n",
      "Model:                            OLS   Adj. R-squared:                  0.690\n",
      "Method:                 Least Squares   F-statistic:                     76.93\n",
      "Date:                Thu, 27 May 2021   Prob (F-statistic):           6.33e-57\n",
      "Time:                        21:37:48   Log-Likelihood:                 401.35\n",
      "No. Observations:                 240   AIC:                            -786.7\n",
      "Df Residuals:                     232   BIC:                            -758.9\n",
      "Df Model:                           7                                         \n",
      "Covariance Type:            nonrobust                                         \n",
      "=====================================================================================\n",
      "                        coef    std err          t      P>|t|      [0.025      0.975]\n",
      "-------------------------------------------------------------------------------------\n",
      "const                 1.0208      0.038     26.745      0.000       0.946       1.096\n",
      "10Y US Bond Yield    -0.0233      0.003     -8.444      0.000      -0.029      -0.018\n",
      "New_Home_Sales    -1.214e-07   2.15e-08     -5.645      0.000   -1.64e-07    -7.9e-08\n",
      "Non-Farm Payrolls -3.915e-08   2.05e-08     -1.905      0.058   -7.96e-08    1.34e-09\n",
      "Oil Prices           -0.0014      0.000     -6.275      0.000      -0.002      -0.001\n",
      "PMI                   0.0023      0.001      3.025      0.003       0.001       0.004\n",
      "Unemployment Rate    -0.0204      0.002     -8.700      0.000      -0.025      -0.016\n",
      "US Trade Balance   2.586e-12    4.6e-13      5.617      0.000    1.68e-12    3.49e-12\n",
      "==============================================================================\n",
      "Omnibus:                       13.183   Durbin-Watson:                   0.191\n",
      "Prob(Omnibus):                  0.001   Jarque-Bera (JB):                6.275\n",
      "Skew:                          -0.158   Prob(JB):                       0.0434\n",
      "Kurtosis:                       2.274   Cond. No.                     5.86e+11\n",
      "==============================================================================\n",
      "\n",
      "Notes:\n",
      "[1] Standard Errors assume that the covariance matrix of the errors is correctly specified.\n",
      "[2] The condition number is large, 5.86e+11. This might indicate that there are\n",
      "strong multicollinearity or other numerical problems.\n",
      "                            OLS Regression Results                            \n",
      "==============================================================================\n",
      "Dep. Variable:                    GBP   R-squared:                       0.699\n",
      "Model:                            OLS   Adj. R-squared:                  0.689\n",
      "Method:                 Least Squares   F-statistic:                     67.04\n",
      "Date:                Thu, 27 May 2021   Prob (F-statistic):           5.64e-56\n",
      "Time:                        21:37:48   Log-Likelihood:                 401.37\n",
      "No. Observations:                 240   AIC:                            -784.7\n",
      "Df Residuals:                     231   BIC:                            -753.4\n",
      "Df Model:                           8                                         \n",
      "Covariance Type:            nonrobust                                         \n",
      "======================================================================================\n",
      "                         coef    std err          t      P>|t|      [0.025      0.975]\n",
      "--------------------------------------------------------------------------------------\n",
      "const                  1.0222      0.039     26.356      0.000       0.946       1.099\n",
      "10Y US Bond Yield     -0.0233      0.003     -8.385      0.000      -0.029      -0.018\n",
      "GDP Growth Monthly     0.0280      0.133      0.210      0.834      -0.234       0.290\n",
      "New_Home_Sales     -1.223e-07    2.2e-08     -5.558      0.000   -1.66e-07    -7.9e-08\n",
      "Non-Farm Payrolls  -4.034e-08   2.14e-08     -1.888      0.060   -8.24e-08    1.76e-09\n",
      "Oil Prices            -0.0014      0.000     -6.265      0.000      -0.002      -0.001\n",
      "PMI                    0.0022      0.001      2.917      0.004       0.001       0.004\n",
      "Unemployment Rate     -0.0204      0.002     -8.662      0.000      -0.025      -0.016\n",
      "US Trade Balance    2.569e-12   4.69e-13      5.480      0.000    1.65e-12    3.49e-12\n",
      "==============================================================================\n",
      "Omnibus:                       13.412   Durbin-Watson:                   0.190\n",
      "Prob(Omnibus):                  0.001   Jarque-Bera (JB):                6.332\n",
      "Skew:                          -0.158   Prob(JB):                       0.0422\n",
      "Kurtosis:                       2.270   Cond. No.                     2.04e+12\n",
      "==============================================================================\n",
      "\n",
      "Notes:\n",
      "[1] Standard Errors assume that the covariance matrix of the errors is correctly specified.\n",
      "[2] The condition number is large, 2.04e+12. This might indicate that there are\n",
      "strong multicollinearity or other numerical problems.\n",
      "                            OLS Regression Results                            \n",
      "==============================================================================\n",
      "Dep. Variable:                    GBP   R-squared:                       0.715\n",
      "Model:                            OLS   Adj. R-squared:                  0.704\n",
      "Method:                 Least Squares   F-statistic:                     64.16\n",
      "Date:                Thu, 27 May 2021   Prob (F-statistic):           8.94e-58\n",
      "Time:                        21:37:48   Log-Likelihood:                 408.01\n",
      "No. Observations:                 240   AIC:                            -796.0\n",
      "Df Residuals:                     230   BIC:                            -761.2\n",
      "Df Model:                           9                                         \n",
      "Covariance Type:            nonrobust                                         \n",
      "======================================================================================\n",
      "                         coef    std err          t      P>|t|      [0.025      0.975]\n",
      "--------------------------------------------------------------------------------------\n",
      "const                  0.9623      0.041     23.312      0.000       0.881       1.044\n",
      "10Y US Bond Yield     -0.0383      0.005     -7.731      0.000      -0.048      -0.029\n",
      "Fed Funds Rate         0.0144      0.004      3.617      0.000       0.007       0.022\n",
      "GDP Growth Monthly    -0.0202      0.131     -0.155      0.877      -0.277       0.237\n",
      "New_Home_Sales     -9.843e-08   2.24e-08     -4.385      0.000   -1.43e-07   -5.42e-08\n",
      "Non-Farm Payrolls  -7.075e-08   2.25e-08     -3.149      0.002   -1.15e-07   -2.65e-08\n",
      "Oil Prices            -0.0014      0.000     -6.305      0.000      -0.002      -0.001\n",
      "PMI                    0.0036      0.001      4.278      0.000       0.002       0.005\n",
      "Unemployment Rate     -0.0141      0.003     -4.878      0.000      -0.020      -0.008\n",
      "US Trade Balance    3.247e-12   4.94e-13      6.574      0.000    2.27e-12    4.22e-12\n",
      "==============================================================================\n",
      "Omnibus:                       10.886   Durbin-Watson:                   0.293\n",
      "Prob(Omnibus):                  0.004   Jarque-Bera (JB):                5.349\n",
      "Skew:                          -0.119   Prob(JB):                       0.0689\n",
      "Kurtosis:                       2.308   Cond. No.                     2.05e+12\n",
      "==============================================================================\n",
      "\n",
      "Notes:\n",
      "[1] Standard Errors assume that the covariance matrix of the errors is correctly specified.\n",
      "[2] The condition number is large, 2.05e+12. This might indicate that there are\n",
      "strong multicollinearity or other numerical problems.\n",
      "                            OLS Regression Results                            \n",
      "==============================================================================\n",
      "Dep. Variable:                    GBP   R-squared:                       0.715\n",
      "Model:                            OLS   Adj. R-squared:                  0.703\n",
      "Method:                 Least Squares   F-statistic:                     57.50\n",
      "Date:                Thu, 27 May 2021   Prob (F-statistic):           7.38e-57\n",
      "Time:                        21:37:48   Log-Likelihood:                 408.01\n",
      "No. Observations:                 240   AIC:                            -794.0\n",
      "Df Residuals:                     229   BIC:                            -755.7\n",
      "Df Model:                          10                                         \n",
      "Covariance Type:            nonrobust                                         \n",
      "======================================================================================\n",
      "                         coef    std err          t      P>|t|      [0.025      0.975]\n",
      "--------------------------------------------------------------------------------------\n",
      "const                  0.9624      0.042     22.910      0.000       0.880       1.045\n",
      "10Y US Bond Yield     -0.0383      0.005     -7.709      0.000      -0.048      -0.028\n",
      "CPI                    0.0002      0.011      0.014      0.989      -0.022       0.022\n",
      "Fed Funds Rate         0.0144      0.004      3.580      0.000       0.006       0.022\n",
      "GDP Growth Monthly    -0.0203      0.131     -0.155      0.877      -0.279       0.238\n",
      "New_Home_Sales     -9.848e-08   2.28e-08     -4.321      0.000   -1.43e-07   -5.36e-08\n",
      "Non-Farm Payrolls  -7.073e-08   2.25e-08     -3.137      0.002   -1.15e-07   -2.63e-08\n",
      "Oil Prices            -0.0014      0.000     -6.088      0.000      -0.002      -0.001\n",
      "PMI                    0.0036      0.001      4.214      0.000       0.002       0.005\n",
      "Unemployment Rate     -0.0141      0.003     -4.866      0.000      -0.020      -0.008\n",
      "US Trade Balance    3.246e-12   5.03e-13      6.455      0.000    2.26e-12    4.24e-12\n",
      "==============================================================================\n",
      "Omnibus:                       10.874   Durbin-Watson:                   0.293\n",
      "Prob(Omnibus):                  0.004   Jarque-Bera (JB):                5.345\n",
      "Skew:                          -0.119   Prob(JB):                       0.0691\n",
      "Kurtosis:                       2.308   Cond. No.                     2.06e+12\n",
      "==============================================================================\n",
      "\n",
      "Notes:\n",
      "[1] Standard Errors assume that the covariance matrix of the errors is correctly specified.\n",
      "[2] The condition number is large, 2.06e+12. This might indicate that there are\n",
      "strong multicollinearity or other numerical problems.\n"
     ]
    }
   ],
   "source": [
    "y=y_data['GBP']\n",
    "x1=x_data[['10Y US Bond Yield', 'Non-Farm Payrolls', 'Oil Prices', 'PMI', 'Unemployment Rate', 'US Trade Balance']]\n",
    "x2=x_data[['10Y US Bond Yield', 'New_Home_Sales', 'Non-Farm Payrolls', 'Oil Prices', 'PMI', 'Unemployment Rate', 'US Trade Balance']]\n",
    "x3=x_data[['10Y US Bond Yield', 'GDP Growth Monthly', 'New_Home_Sales', 'Non-Farm Payrolls', 'Oil Prices', 'PMI', 'Unemployment Rate', 'US Trade Balance']]\n",
    "x4=x_data[['10Y US Bond Yield', 'Fed Funds Rate', 'GDP Growth Monthly', 'New_Home_Sales', 'Non-Farm Payrolls', 'Oil Prices', 'PMI', 'Unemployment Rate', 'US Trade Balance']]\n",
    "x5=x_data[['10Y US Bond Yield', 'CPI', 'Fed Funds Rate', 'GDP Growth Monthly', 'New_Home_Sales', 'Non-Farm Payrolls', 'Oil Prices', 'PMI', 'Unemployment Rate', 'US Trade Balance']]\n",
    "\n",
    "x_list = [x1, x2, x3, x4, x5]\n",
    "\n",
    "\n",
    "for i in range(len(x_list)):\n",
    "\n",
    "    Y = y\n",
    "    X = x_list[i]\n",
    "    X = sm.add_constant(X)\n",
    "    model = sm.OLS(Y,X)\n",
    "    results = model.fit()\n",
    "    print(results.summary())"
   ]
  },
  {
   "cell_type": "markdown",
   "metadata": {},
   "source": [
    "#### Chow-Test most promising GBP"
   ]
  },
  {
   "cell_type": "code",
   "execution_count": null,
   "metadata": {},
   "outputs": [],
   "source": [
    "# code for Chow-Test\n",
    "\n",
    "# Model for the entire period\n",
    "Y = y_data['GBP']\n",
    "X = x_data[['10Y US Bond Yield', 'Fed Funds Rate', 'GDP Growth Monthly', 'New_Home_Sales', 'Non-Farm Payrolls', 'Oil Prices', 'PMI', 'Unemployment Rate', 'US Trade Balance']]\n",
    "X = sm.add_constant(X)\n",
    "\n",
    "# Model for the first 5 years\n",
    "Y_1 = y_data['GBP'][0:120]\n",
    "X_1 = x_data[['10Y US Bond Yield', 'Fed Funds Rate', 'GDP Growth Monthly', 'New_Home_Sales', 'Non-Farm Payrolls', 'Oil Prices', 'PMI', 'Unemployment Rate', 'US Trade Balance']][0:120]\n",
    "X_1 = sm.add_constant(X_1)\n",
    "\n",
    "# Model for the following 4 years\n",
    "Y_2 = y_data['GBP'][120:]\n",
    "X_2 = x_data[['10Y US Bond Yield', 'Fed Funds Rate', 'GDP Growth Monthly', 'New_Home_Sales', 'Non-Farm Payrolls', 'Oil Prices', 'PMI', 'Unemployment Rate', 'US Trade Balance']][120:]\n",
    "X_2 = sm.add_constant(X_2)"
   ]
  },
  {
   "cell_type": "code",
   "execution_count": null,
   "metadata": {},
   "outputs": [],
   "source": [
    "model = sm.OLS(Y_1,X_1)\n",
    "results = model.fit()\n",
    "results.summary()"
   ]
  },
  {
   "cell_type": "code",
   "execution_count": null,
   "metadata": {},
   "outputs": [],
   "source": [
    "model = sm.OLS(Y_2,X_2)\n",
    "results = model.fit()\n",
    "results.summary()"
   ]
  },
  {
   "cell_type": "code",
   "execution_count": null,
   "metadata": {},
   "outputs": [],
   "source": [
    "J = X.shape[1]\n",
    "k = X_1.shape[1]\n",
    "N1 = X_1.shape[0]\n",
    "N2 = X_2.shape[0]"
   ]
  },
  {
   "cell_type": "code",
   "execution_count": null,
   "metadata": {},
   "outputs": [],
   "source": [
    "model_dummy = sm.OLS(Y,X).fit()\n",
    "RSSd = model_dummy.ssr\n",
    "\n",
    "model_b = sm.OLS(Y_1,X_1).fit()\n",
    "RSSb = model_b.ssr\n",
    "\n",
    "model_nb = sm.OLS(Y_2,X_2).fit()\n",
    "RSSnb = model_nb.ssr"
   ]
  },
  {
   "cell_type": "code",
   "execution_count": null,
   "metadata": {},
   "outputs": [],
   "source": [
    "# result is the p-value : null hypothesis: there are no break points (hypothesis is accepted (p-value: 0.999999))\n",
    "\n",
    "chow = ((RSSd-(RSSb+RSSnb))/J)/((RSSb+RSSnb)/(N1+N2-2*k))\n",
    "import scipy\n",
    "scipy.stats.f.cdf(chow, J, N1+N2-2*k)"
   ]
  },
  {
   "cell_type": "markdown",
   "metadata": {},
   "source": [
    "#### Rolling regression most promising GBP"
   ]
  },
  {
   "cell_type": "code",
   "execution_count": null,
   "metadata": {},
   "outputs": [],
   "source": [
    "x_data=pd.DataFrame(x_data[['10Y US Bond Yield', 'Fed Funds Rate', 'GDP Growth Monthly', 'New_Home_Sales', 'Non-Farm Payrolls', 'Oil Prices', 'PMI', 'Unemployment Rate', 'US Trade Balance']])\n",
    "x_data['const']=1\n",
    "X= x_data[['10Y US Bond Yield', 'Fed Funds Rate', 'GDP Growth Monthly', 'New_Home_Sales', 'Non-Farm Payrolls', 'Oil Prices', 'PMI', 'Unemployment Rate', 'US Trade Balance']]\n",
    "Y= y_data['GBP']"
   ]
  },
  {
   "cell_type": "code",
   "execution_count": null,
   "metadata": {},
   "outputs": [],
   "source": [
    "rolling_ols = rolling_regression(Y,X,60)\n",
    "rolling_ols = pd.DataFrame.from_dict(dict(zip(rolling_ols.index, rolling_ols.values)))\n",
    "rolling_ols_transposed = rolling_ols.T\n",
    "rolling_ols_transposed.columns=[\"Beta_1\",\"Beta_2\",\"Beta_3\",\"Beta_4\",\"Beta_5\",\"Beta_6\",\"Beta_7\",\"Beta_8\",\"Beta_9\"]\n",
    "rolling_ols_transposed.head()"
   ]
  },
  {
   "cell_type": "code",
   "execution_count": null,
   "metadata": {},
   "outputs": [],
   "source": [
    "plt.plot(rolling_ols_transposed[['Beta_1','Beta_2','Beta_3']])\n",
    "labels=[['Beta_1','Beta_2','Beta_3']]\n",
    "plt.legend(labels)\n",
    "plt.title('GBP Rolling Betas 1 - 3')\n",
    "plt.savefig('Betas1_'+ 'GBP' +'.png')\n",
    "plt.show"
   ]
  },
  {
   "cell_type": "code",
   "execution_count": null,
   "metadata": {},
   "outputs": [],
   "source": [
    "plt.plot(rolling_ols_transposed[['Beta_4','Beta_5','Beta_6']])\n",
    "labels=[['Beta_4','Beta_5','Beta_6']]\n",
    "plt.legend(labels)\n",
    "plt.title('GBP Rolling Betas 4 - 6')\n",
    "plt.savefig('Betas2_'+ 'GBP' +'.png')\n",
    "plt.show"
   ]
  },
  {
   "cell_type": "code",
   "execution_count": null,
   "metadata": {},
   "outputs": [],
   "source": [
    "plt.plot(rolling_ols_transposed[['Beta_7','Beta_8','Beta_9']])\n",
    "labels=[['Beta_7','Beta_8','Beta_9']]\n",
    "plt.legend(labels)\n",
    "plt.title('GBP Rolling Betas 7 - 9')\n",
    "plt.savefig('Betas3_'+ 'GBP' +'.png')\n",
    "plt.show"
   ]
  },
  {
   "cell_type": "markdown",
   "metadata": {},
   "source": [
    "#### OLS Loop JPY"
   ]
  },
  {
   "cell_type": "code",
   "execution_count": null,
   "metadata": {},
   "outputs": [],
   "source": [
    "y=y_data['JPY']\n",
    "x1=x_data[['10Y US Bond Yield', 'CPI', 'Oil Prices', 'PMI', 'Unemployment Rate', 'US Trade Balance']]\n",
    "x2=x_data[['10Y US Bond Yield', 'CPI', 'Non-Farm Payrolls', 'Oil Prices', 'PMI', 'Unemployment Rate', 'US Trade Balance']]\n",
    "x3=x_data[['10Y US Bond Yield', 'CPI', 'New_Home_Sales', 'Non-Farm Payrolls', 'Oil Prices', 'PMI', 'Unemployment Rate', 'US Trade Balance']]\n",
    "x4=x_data[['10Y US Bond Yield', 'CPI', 'GDP Growth Monthly', 'New_Home_Sales', 'Non-Farm Payrolls', 'Oil Prices', 'PMI', 'Unemployment Rate', 'US Trade Balance']]\n",
    "x5=x_data[['10Y US Bond Yield', 'CPI', 'Fed Funds Rate', 'GDP Growth Monthly', 'New_Home_Sales', 'Non-Farm Payrolls', 'Oil Prices', 'PMI', 'Unemployment Rate', 'US Trade Balance']]\n",
    "\n",
    "x_list = [x1, x2, x3, x4, x5]\n",
    "\n",
    "\n",
    "for i in range(len(x_list)):\n",
    "\n",
    "    Y = y\n",
    "    X = x_list[i]\n",
    "    X = sm.add_constant(X)\n",
    "    model = sm.OLS(Y,X)\n",
    "    results = model.fit()\n",
    "    print(results.summary())"
   ]
  },
  {
   "cell_type": "markdown",
   "metadata": {},
   "source": [
    "#### Chow-Test most promising JPY"
   ]
  },
  {
   "cell_type": "code",
   "execution_count": null,
   "metadata": {},
   "outputs": [],
   "source": [
    "# code for Chow-Test\n",
    "\n",
    "# Model for the entire period\n",
    "Y = y_data['JPY']\n",
    "X = x_data[['10Y US Bond Yield', 'CPI', 'Fed Funds Rate', 'GDP Growth Monthly', 'New_Home_Sales', 'Non-Farm Payrolls', 'Oil Prices', 'PMI', 'Unemployment Rate', 'US Trade Balance']]\n",
    "X = sm.add_constant(X)\n",
    "\n",
    "# Model for the first 5 years\n",
    "Y_1 = y_data['JPY'][0:120]\n",
    "X_1 = x_data[['10Y US Bond Yield', 'CPI', 'Fed Funds Rate', 'GDP Growth Monthly', 'New_Home_Sales', 'Non-Farm Payrolls', 'Oil Prices', 'PMI', 'Unemployment Rate', 'US Trade Balance']][0:120]\n",
    "X_1 = sm.add_constant(X_1)\n",
    "\n",
    "# Model for the following 4 years\n",
    "Y_2 = y_data['JPY'][120:]\n",
    "X_2 = x_data[['10Y US Bond Yield', 'CPI', 'Fed Funds Rate', 'GDP Growth Monthly', 'New_Home_Sales', 'Non-Farm Payrolls', 'Oil Prices', 'PMI', 'Unemployment Rate', 'US Trade Balance']][120:]\n",
    "X_2 = sm.add_constant(X_2)"
   ]
  },
  {
   "cell_type": "code",
   "execution_count": null,
   "metadata": {},
   "outputs": [],
   "source": [
    "model = sm.OLS(Y_1,X_1)\n",
    "results = model.fit()\n",
    "results.summary()"
   ]
  },
  {
   "cell_type": "code",
   "execution_count": null,
   "metadata": {},
   "outputs": [],
   "source": [
    "model = sm.OLS(Y_2,X_2)\n",
    "results = model.fit()\n",
    "results.summary()"
   ]
  },
  {
   "cell_type": "code",
   "execution_count": null,
   "metadata": {},
   "outputs": [],
   "source": [
    "J = X.shape[1]\n",
    "k = X_1.shape[1]\n",
    "N1 = X_1.shape[0]\n",
    "N2 = X_2.shape[0]"
   ]
  },
  {
   "cell_type": "code",
   "execution_count": null,
   "metadata": {},
   "outputs": [],
   "source": [
    "model_dummy = sm.OLS(Y,X).fit()\n",
    "RSSd = model_dummy.ssr\n",
    "\n",
    "model_b = sm.OLS(Y_1,X_1).fit()\n",
    "RSSb = model_b.ssr\n",
    "\n",
    "model_nb = sm.OLS(Y_2,X_2).fit()\n",
    "RSSnb = model_nb.ssr"
   ]
  },
  {
   "cell_type": "code",
   "execution_count": null,
   "metadata": {},
   "outputs": [],
   "source": [
    "# result is the p-value : null hypothesis: there are no break points (hypothesis is accepted (p-value: 0.999999))\n",
    "\n",
    "chow = ((RSSd-(RSSb+RSSnb))/J)/((RSSb+RSSnb)/(N1+N2-2*k))\n",
    "import scipy\n",
    "scipy.stats.f.cdf(chow, J, N1+N2-2*k)"
   ]
  },
  {
   "cell_type": "markdown",
   "metadata": {},
   "source": [
    "#### Rolling regression most promising JPY"
   ]
  },
  {
   "cell_type": "code",
   "execution_count": null,
   "metadata": {},
   "outputs": [],
   "source": [
    "x_data=pd.DataFrame(x_data[['10Y US Bond Yield', 'CPI', 'Fed Funds Rate', 'GDP Growth Monthly', 'New_Home_Sales', 'Non-Farm Payrolls', 'Oil Prices', 'PMI', 'Unemployment Rate', 'US Trade Balance']])\n",
    "x_data['const']=1\n",
    "X= x_data[['10Y US Bond Yield', 'CPI', 'Fed Funds Rate', 'GDP Growth Monthly', 'New_Home_Sales', 'Non-Farm Payrolls', 'Oil Prices', 'PMI', 'Unemployment Rate', 'US Trade Balance']]\n",
    "Y= y_data['JPY']"
   ]
  },
  {
   "cell_type": "code",
   "execution_count": null,
   "metadata": {},
   "outputs": [],
   "source": [
    "rolling_ols = rolling_regression(Y,X,60)\n",
    "rolling_ols = pd.DataFrame.from_dict(dict(zip(rolling_ols.index, rolling_ols.values)))\n",
    "rolling_ols_transposed = rolling_ols.T\n",
    "rolling_ols_transposed.columns=[\"Beta_1\",\"Beta_2\",\"Beta_3\",\"Beta_4\",\"Beta_5\",\"Beta_6\",\"Beta_7\",\"Beta_8\",\"Beta_9\",\"Beta_10\"]\n",
    "rolling_ols_transposed.head()"
   ]
  },
  {
   "cell_type": "code",
   "execution_count": null,
   "metadata": {},
   "outputs": [],
   "source": [
    "plt.plot(rolling_ols_transposed[['Beta_1','Beta_2','Beta_3']])\n",
    "labels=[['Beta_1','Beta_2','Beta_3']]\n",
    "plt.legend(labels)\n",
    "plt.title('JPY Rolling Betas 1 - 3')\n",
    "plt.savefig('Betas1_'+ 'JPY' +'.png')\n",
    "plt.show"
   ]
  },
  {
   "cell_type": "code",
   "execution_count": null,
   "metadata": {},
   "outputs": [],
   "source": [
    "plt.plot(rolling_ols_transposed[['Beta_4','Beta_5','Beta_6']])\n",
    "labels=[['Beta_4','Beta_5','Beta_6']]\n",
    "plt.legend(labels)\n",
    "plt.title('JPY Rolling Betas 4 - 6')\n",
    "plt.savefig('Betas2_'+ 'JPY' +'.png')\n",
    "plt.show"
   ]
  },
  {
   "cell_type": "code",
   "execution_count": null,
   "metadata": {},
   "outputs": [],
   "source": [
    "plt.plot(rolling_ols_transposed[['Beta_7','Beta_8','Beta_9']])\n",
    "labels=[['Beta_7','Beta_8','Beta_9']]\n",
    "plt.legend(labels)\n",
    "plt.title('JPY Rolling Betas 7 - 9')\n",
    "plt.savefig('Betas3_'+ 'JPY' +'.png')\n",
    "plt.show"
   ]
  },
  {
   "cell_type": "code",
   "execution_count": null,
   "metadata": {},
   "outputs": [],
   "source": [
    "plt.plot(rolling_ols_transposed['Beta_10'])\n",
    "labels=['Beta_10']\n",
    "plt.legend(labels)\n",
    "plt.title('JPY Rolling Beta 10')\n",
    "plt.savefig('Betas4_'+ 'JPY' +'.png')\n",
    "plt.show"
   ]
  },
  {
   "cell_type": "markdown",
   "metadata": {},
   "source": [
    "#### OLS Loop for CHF"
   ]
  },
  {
   "cell_type": "code",
   "execution_count": null,
   "metadata": {},
   "outputs": [],
   "source": [
    "y=y_data['CHF']\n",
    "x1=x_data[['10Y US Bond Yield', 'CPI', 'Fed Funds Rate', 'PMI', 'Unemployment Rate', 'US Trade Balance']]\n",
    "x2=x_data[['10Y US Bond Yield', 'CPI', 'Fed Funds Rate', 'Oil Prices', 'PMI', 'Unemployment Rate', 'US Trade Balance']]\n",
    "x3=x_data[['10Y US Bond Yield', 'CPI', 'Fed Funds Rate', 'Non-Farm Payrolls', 'Oil Prices', 'PMI', 'Unemployment Rate', 'US Trade Balance']]\n",
    "x4=x_data[['10Y US Bond Yield', 'CPI', 'Fed Funds Rate', 'New_Home_Sales', 'Non-Farm Payrolls', 'Oil Prices', 'PMI', 'Unemployment Rate', 'US Trade Balance']]\n",
    "x5=x_data[['10Y US Bond Yield', 'CPI', 'Fed Funds Rate', 'GDP Growth Monthly', 'New_Home_Sales', 'Non-Farm Payrolls', 'Oil Prices', 'PMI', 'Unemployment Rate', 'US Trade Balance']]\n",
    "\n",
    "x_list = [x1, x2, x3, x4, x5]\n",
    "\n",
    "\n",
    "for i in range(len(x_list)):\n",
    "\n",
    "    Y = y\n",
    "    X = x_list[i]\n",
    "    X = sm.add_constant(X)\n",
    "    model = sm.OLS(Y,X)\n",
    "    results = model.fit()\n",
    "    print(results.summary())"
   ]
  },
  {
   "cell_type": "markdown",
   "metadata": {},
   "source": [
    "#### Chow-Test most promising CHF"
   ]
  },
  {
   "cell_type": "code",
   "execution_count": null,
   "metadata": {},
   "outputs": [],
   "source": [
    "# code for Chow-Test\n",
    "\n",
    "# Model for the entire period\n",
    "Y = y_data['CHF']\n",
    "X = x_data[['10Y US Bond Yield', 'CPI', 'Fed Funds Rate', 'New_Home_Sales', 'Non-Farm Payrolls', 'Oil Prices', 'PMI', 'Unemployment Rate', 'US Trade Balance']]\n",
    "X = sm.add_constant(X)\n",
    "\n",
    "# Model for the first 5 years\n",
    "Y_1 = y_data['CHF'][0:120]\n",
    "X_1 = x_data[['10Y US Bond Yield', 'CPI', 'Fed Funds Rate', 'New_Home_Sales', 'Non-Farm Payrolls', 'Oil Prices', 'PMI', 'Unemployment Rate', 'US Trade Balance']][0:120]\n",
    "X_1 = sm.add_constant(X_1)\n",
    "\n",
    "# Model for the following 4 years\n",
    "Y_2 = y_data['CHF'][120:]\n",
    "X_2 = x_data[['10Y US Bond Yield', 'CPI', 'Fed Funds Rate', 'New_Home_Sales', 'Non-Farm Payrolls', 'Oil Prices', 'PMI', 'Unemployment Rate', 'US Trade Balance']][120:]\n",
    "X_2 = sm.add_constant(X_2)"
   ]
  },
  {
   "cell_type": "code",
   "execution_count": null,
   "metadata": {},
   "outputs": [],
   "source": [
    "model = sm.OLS(Y_1,X_1)\n",
    "results = model.fit()\n",
    "results.summary()"
   ]
  },
  {
   "cell_type": "code",
   "execution_count": null,
   "metadata": {},
   "outputs": [],
   "source": [
    "model = sm.OLS(Y_2,X_2)\n",
    "results = model.fit()\n",
    "results.summary()"
   ]
  },
  {
   "cell_type": "code",
   "execution_count": null,
   "metadata": {},
   "outputs": [],
   "source": [
    "J = X.shape[1]\n",
    "k = X_1.shape[1]\n",
    "N1 = X_1.shape[0]\n",
    "N2 = X_2.shape[0]"
   ]
  },
  {
   "cell_type": "code",
   "execution_count": null,
   "metadata": {},
   "outputs": [],
   "source": [
    "model_dummy = sm.OLS(Y,X).fit()\n",
    "RSSd = model_dummy.ssr\n",
    "\n",
    "model_b = sm.OLS(Y_1,X_1).fit()\n",
    "RSSb = model_b.ssr\n",
    "\n",
    "model_nb = sm.OLS(Y_2,X_2).fit()\n",
    "RSSnb = model_nb.ssr"
   ]
  },
  {
   "cell_type": "code",
   "execution_count": null,
   "metadata": {},
   "outputs": [],
   "source": [
    "# result is the p-value : null hypothesis: there are no break points (hypothesis is accepted (p-value: 0.999999))\n",
    "\n",
    "chow = ((RSSd-(RSSb+RSSnb))/J)/((RSSb+RSSnb)/(N1+N2-2*k))\n",
    "import scipy\n",
    "scipy.stats.f.cdf(chow, J, N1+N2-2*k)"
   ]
  },
  {
   "cell_type": "markdown",
   "metadata": {},
   "source": [
    "#### Rolling regression most promising CHF"
   ]
  },
  {
   "cell_type": "code",
   "execution_count": null,
   "metadata": {},
   "outputs": [],
   "source": [
    "x_data=pd.DataFrame(x_data[['10Y US Bond Yield', 'CPI', 'Fed Funds Rate', 'New_Home_Sales', 'Non-Farm Payrolls', 'Oil Prices', 'PMI', 'Unemployment Rate', 'US Trade Balance']])\n",
    "x_data['const']=1\n",
    "X= x_data[['10Y US Bond Yield', 'CPI', 'Fed Funds Rate', 'New_Home_Sales', 'Non-Farm Payrolls', 'Oil Prices', 'PMI', 'Unemployment Rate', 'US Trade Balance']]\n",
    "Y= y_data['CHF']"
   ]
  },
  {
   "cell_type": "code",
   "execution_count": null,
   "metadata": {},
   "outputs": [],
   "source": [
    "rolling_ols = rolling_regression(Y,X,60)\n",
    "rolling_ols = pd.DataFrame.from_dict(dict(zip(rolling_ols.index, rolling_ols.values)))\n",
    "rolling_ols_transposed = rolling_ols.T\n",
    "rolling_ols_transposed.columns=[\"Beta_1\",\"Beta_2\",\"Beta_3\",\"Beta_4\",\"Beta_5\",\"Beta_6\",\"Beta_7\",\"Beta_8\",\"Beta_9\"]\n",
    "rolling_ols_transposed.head()"
   ]
  },
  {
   "cell_type": "code",
   "execution_count": null,
   "metadata": {},
   "outputs": [],
   "source": [
    "plt.plot(rolling_ols_transposed[['Beta_1','Beta_2','Beta_3']])\n",
    "labels=[['Beta_1','Beta_2','Beta_3']]\n",
    "plt.legend(labels)\n",
    "plt.title('CHF Rolling Betas 1 - 3')\n",
    "plt.savefig('Betas1_'+ 'CHF' +'.png')\n",
    "plt.show"
   ]
  },
  {
   "cell_type": "code",
   "execution_count": null,
   "metadata": {},
   "outputs": [],
   "source": [
    "plt.plot(rolling_ols_transposed[['Beta_4','Beta_5','Beta_6']])\n",
    "labels=[['Beta_4','Beta_5','Beta_6']]\n",
    "plt.legend(labels)\n",
    "plt.title('CHF Rolling Betas 4 - 6')\n",
    "plt.savefig('Betas2_'+ 'CHF' +'.png')\n",
    "plt.show"
   ]
  },
  {
   "cell_type": "code",
   "execution_count": null,
   "metadata": {},
   "outputs": [],
   "source": [
    "plt.plot(rolling_ols_transposed[['Beta_7','Beta_8','Beta_9']])\n",
    "labels=[['Beta_7','Beta_8','Beta_9']]\n",
    "plt.legend(labels)\n",
    "plt.title('CHF Rolling Betas 7 - 9')\n",
    "plt.savefig('Betas3_'+ 'CHF' +'.png')\n",
    "plt.show"
   ]
  },
  {
   "cell_type": "markdown",
   "metadata": {},
   "source": [
    "#### OLS Loop for AUD"
   ]
  },
  {
   "cell_type": "code",
   "execution_count": null,
   "metadata": {},
   "outputs": [],
   "source": [
    "y=y_data['AUD']\n",
    "x1=x_data[['10Y US Bond Yield', 'CPI', 'Fed Funds Rate', 'GDP Growth Monthly', 'Unemployment Rate', 'US Trade Balance']]\n",
    "x2=x_data[['10Y US Bond Yield', 'CPI', 'Fed Funds Rate', 'GDP Growth Monthly', 'PMI', 'Unemployment Rate', 'US Trade Balance']]\n",
    "x3=x_data[['10Y US Bond Yield', 'CPI', 'Fed Funds Rate', 'GDP Growth Monthly', 'Oil Prices', 'PMI', 'Unemployment Rate', 'US Trade Balance']]\n",
    "x4=x_data[['10Y US Bond Yield', 'CPI', 'Fed Funds Rate', 'GDP Growth Monthly', 'Non-Farm Payrolls', 'Oil Prices', 'PMI', 'Unemployment Rate', 'US Trade Balance']]\n",
    "x5=x_data[['10Y US Bond Yield', 'CPI', 'Fed Funds Rate', 'GDP Growth Monthly', 'New_Home_Sales', 'Non-Farm Payrolls', 'Oil Prices', 'PMI', 'Unemployment Rate', 'US Trade Balance']]\n",
    "\n",
    "x_list = [x1, x2, x3, x4, x5]\n",
    "\n",
    "\n",
    "for i in range(len(x_list)):\n",
    "\n",
    "    Y = y\n",
    "    X = x_list[i]\n",
    "    X = sm.add_constant(X)\n",
    "    model = sm.OLS(Y,X)\n",
    "    results = model.fit()\n",
    "    print(results.summary())"
   ]
  },
  {
   "cell_type": "markdown",
   "metadata": {},
   "source": [
    "#### Chow-Test most promising AUD"
   ]
  },
  {
   "cell_type": "code",
   "execution_count": null,
   "metadata": {},
   "outputs": [],
   "source": [
    "# code for Chow-Test\n",
    "\n",
    "# Model for the entire period\n",
    "Y = y_data['AUD']\n",
    "X = x_data[['10Y US Bond Yield', 'CPI', 'Fed Funds Rate', 'GDP Growth Monthly', 'Non-Farm Payrolls', 'Oil Prices', 'PMI', 'Unemployment Rate', 'US Trade Balance']]\n",
    "X = sm.add_constant(X)\n",
    "\n",
    "# Model for the first 5 years\n",
    "Y_1 = y_data['AUD'][0:120]\n",
    "X_1 = x_data[['10Y US Bond Yield', 'CPI', 'Fed Funds Rate', 'GDP Growth Monthly', 'Non-Farm Payrolls', 'Oil Prices', 'PMI', 'Unemployment Rate', 'US Trade Balance']][0:120]\n",
    "X_1 = sm.add_constant(X_1)\n",
    "\n",
    "# Model for the following 4 years\n",
    "Y_2 = y_data['AUD'][120:]\n",
    "X_2 = x_data[['10Y US Bond Yield', 'CPI', 'Fed Funds Rate', 'GDP Growth Monthly', 'Non-Farm Payrolls', 'Oil Prices', 'PMI', 'Unemployment Rate', 'US Trade Balance']][120:]\n",
    "X_2 = sm.add_constant(X_2)"
   ]
  },
  {
   "cell_type": "code",
   "execution_count": null,
   "metadata": {},
   "outputs": [],
   "source": [
    "model = sm.OLS(Y_1,X_1)\n",
    "results = model.fit()\n",
    "results.summary()"
   ]
  },
  {
   "cell_type": "code",
   "execution_count": null,
   "metadata": {},
   "outputs": [],
   "source": [
    "model = sm.OLS(Y_2,X_2)\n",
    "results = model.fit()\n",
    "results.summary()"
   ]
  },
  {
   "cell_type": "code",
   "execution_count": null,
   "metadata": {},
   "outputs": [],
   "source": [
    "J = X.shape[1]\n",
    "k = X_1.shape[1]\n",
    "N1 = X_1.shape[0]\n",
    "N2 = X_2.shape[0]"
   ]
  },
  {
   "cell_type": "code",
   "execution_count": null,
   "metadata": {},
   "outputs": [],
   "source": [
    "model_dummy = sm.OLS(Y,X).fit()\n",
    "RSSd = model_dummy.ssr\n",
    "\n",
    "model_b = sm.OLS(Y_1,X_1).fit()\n",
    "RSSb = model_b.ssr\n",
    "\n",
    "model_nb = sm.OLS(Y_2,X_2).fit()\n",
    "RSSnb = model_nb.ssr"
   ]
  },
  {
   "cell_type": "code",
   "execution_count": null,
   "metadata": {},
   "outputs": [],
   "source": [
    "# result is the p-value : null hypothesis: there are no break points (hypothesis is accepted (p-value: 0.999999))\n",
    "\n",
    "chow = ((RSSd-(RSSb+RSSnb))/J)/((RSSb+RSSnb)/(N1+N2-2*k))\n",
    "import scipy\n",
    "scipy.stats.f.cdf(chow, J, N1+N2-2*k)"
   ]
  },
  {
   "cell_type": "markdown",
   "metadata": {},
   "source": [
    "#### Rolling regression most promising AUD"
   ]
  },
  {
   "cell_type": "code",
   "execution_count": null,
   "metadata": {},
   "outputs": [],
   "source": [
    "x_data=pd.DataFrame(x_data[['10Y US Bond Yield', 'CPI', 'Fed Funds Rate', 'GDP Growth Monthly', 'Non-Farm Payrolls', 'Oil Prices', 'PMI', 'Unemployment Rate', 'US Trade Balance']])\n",
    "x_data['const']=1\n",
    "X= x_data[['10Y US Bond Yield', 'CPI', 'Fed Funds Rate', 'GDP Growth Monthly', 'Non-Farm Payrolls', 'Oil Prices', 'PMI', 'Unemployment Rate', 'US Trade Balance']]\n",
    "Y= y_data['AUD']"
   ]
  },
  {
   "cell_type": "code",
   "execution_count": null,
   "metadata": {},
   "outputs": [],
   "source": [
    "rolling_ols = rolling_regression(Y,X,60)\n",
    "rolling_ols = pd.DataFrame.from_dict(dict(zip(rolling_ols.index, rolling_ols.values)))\n",
    "rolling_ols_transposed = rolling_ols.T\n",
    "rolling_ols_transposed.columns=[\"Beta_1\",\"Beta_2\",\"Beta_3\",\"Beta_4\",\"Beta_5\",\"Beta_6\",\"Beta_7\",\"Beta_8\",\"Beta_9\"]\n",
    "rolling_ols_transposed.head()"
   ]
  },
  {
   "cell_type": "code",
   "execution_count": null,
   "metadata": {},
   "outputs": [],
   "source": [
    "plt.plot(rolling_ols_transposed[['Beta_1','Beta_2','Beta_3']])\n",
    "labels=[['Beta_1','Beta_2','Beta_3']]\n",
    "plt.legend(labels)\n",
    "plt.title('AUD Rolling Betas 1 - 3')\n",
    "plt.savefig('Betas1_'+ 'AUD' +'.png')\n",
    "plt.show"
   ]
  },
  {
   "cell_type": "code",
   "execution_count": null,
   "metadata": {},
   "outputs": [],
   "source": [
    "plt.plot(rolling_ols_transposed[['Beta_4','Beta_5','Beta_6']])\n",
    "labels=[['Beta_4','Beta_5','Beta_6']]\n",
    "plt.legend(labels)\n",
    "plt.title('AUD Rolling Betas 4 - 6')\n",
    "plt.savefig('Betas2_'+ 'AUD' +'.png')\n",
    "plt.show"
   ]
  },
  {
   "cell_type": "code",
   "execution_count": null,
   "metadata": {},
   "outputs": [],
   "source": [
    "plt.plot(rolling_ols_transposed[['Beta_7','Beta_8','Beta_9']])\n",
    "labels=[['Beta_7','Beta_8','Beta_9']]\n",
    "plt.legend(labels)\n",
    "plt.title('AUD Rolling Betas 7 - 9')\n",
    "plt.savefig('Betas3_'+ 'AUD' +'.png')\n",
    "plt.show"
   ]
  },
  {
   "cell_type": "markdown",
   "metadata": {},
   "source": [
    "#### OLS Loop for CAD"
   ]
  },
  {
   "cell_type": "code",
   "execution_count": null,
   "metadata": {},
   "outputs": [],
   "source": [
    "y=y_data['CAD']\n",
    "x1=x_data[['10Y US Bond Yield', 'CPI', 'Fed Funds Rate', 'GDP Growth Monthly', 'New_Home_Sales', 'US Trade Balance']]\n",
    "x2=x_data[['10Y US Bond Yield', 'CPI', 'Fed Funds Rate', 'GDP Growth Monthly', 'New_Home_Sales', 'Unemployment Rate', 'US Trade Balance']]\n",
    "x3=x_data[['10Y US Bond Yield', 'CPI', 'Fed Funds Rate', 'GDP Growth Monthly', 'New_Home_Sales', 'PMI', 'Unemployment Rate', 'US Trade Balance']]\n",
    "x4=x_data[['10Y US Bond Yield', 'CPI', 'Fed Funds Rate', 'GDP Growth Monthly', 'New_Home_Sales', 'Oil Prices', 'PMI', 'Unemployment Rate', 'US Trade Balance']]\n",
    "x5=x_data[['10Y US Bond Yield', 'CPI', 'Fed Funds Rate', 'GDP Growth Monthly', 'New_Home_Sales', 'Non-Farm Payrolls', 'Oil Prices', 'PMI', 'Unemployment Rate', 'US Trade Balance']]\n",
    "\n",
    "x_list = [x1, x2, x3, x4, x5]\n",
    "\n",
    "\n",
    "for i in range(len(x_list)):\n",
    "\n",
    "    Y = y\n",
    "    X = x_list[i]\n",
    "    X = sm.add_constant(X)\n",
    "    model = sm.OLS(Y,X)\n",
    "    results = model.fit()\n",
    "    print(results.summary())"
   ]
  },
  {
   "cell_type": "markdown",
   "metadata": {},
   "source": [
    "#### Chow-Test most promising CAD"
   ]
  },
  {
   "cell_type": "code",
   "execution_count": null,
   "metadata": {},
   "outputs": [],
   "source": [
    "# code for Chow-Test\n",
    "\n",
    "# Model for the entire period\n",
    "Y = y_data['CAD']\n",
    "X = x_data[['10Y US Bond Yield', 'CPI', 'Fed Funds Rate', 'GDP Growth Monthly', 'New_Home_Sales', 'Non-Farm Payrolls', 'Oil Prices', 'PMI', 'Unemployment Rate', 'US Trade Balance']]\n",
    "X = sm.add_constant(X)\n",
    "\n",
    "# Model for the first 5 years\n",
    "Y_1 = y_data['CAD'][0:120]\n",
    "X_1 = x_data[['10Y US Bond Yield', 'CPI', 'Fed Funds Rate', 'GDP Growth Monthly', 'New_Home_Sales', 'Non-Farm Payrolls', 'Oil Prices', 'PMI', 'Unemployment Rate', 'US Trade Balance']][0:120]\n",
    "X_1 = sm.add_constant(X_1)\n",
    "\n",
    "# Model for the following 4 years\n",
    "Y_2 = y_data['CAD'][120:]\n",
    "X_2 = x_data[['10Y US Bond Yield', 'CPI', 'Fed Funds Rate', 'GDP Growth Monthly', 'New_Home_Sales', 'Non-Farm Payrolls', 'Oil Prices', 'PMI', 'Unemployment Rate', 'US Trade Balance']][120:]\n",
    "X_2 = sm.add_constant(X_2)"
   ]
  },
  {
   "cell_type": "code",
   "execution_count": null,
   "metadata": {},
   "outputs": [],
   "source": [
    "model = sm.OLS(Y_1,X_1)\n",
    "results = model.fit()\n",
    "results.summary()"
   ]
  },
  {
   "cell_type": "code",
   "execution_count": null,
   "metadata": {},
   "outputs": [],
   "source": [
    "model = sm.OLS(Y_2,X_2)\n",
    "results = model.fit()\n",
    "results.summary()"
   ]
  },
  {
   "cell_type": "code",
   "execution_count": null,
   "metadata": {},
   "outputs": [],
   "source": [
    "J = X.shape[1]\n",
    "k = X_1.shape[1]\n",
    "N1 = X_1.shape[0]\n",
    "N2 = X_2.shape[0]"
   ]
  },
  {
   "cell_type": "code",
   "execution_count": null,
   "metadata": {},
   "outputs": [],
   "source": [
    "model_dummy = sm.OLS(Y,X).fit()\n",
    "RSSd = model_dummy.ssr\n",
    "\n",
    "model_b = sm.OLS(Y_1,X_1).fit()\n",
    "RSSb = model_b.ssr\n",
    "\n",
    "model_nb = sm.OLS(Y_2,X_2).fit()\n",
    "RSSnb = model_nb.ssr"
   ]
  },
  {
   "cell_type": "code",
   "execution_count": null,
   "metadata": {},
   "outputs": [],
   "source": [
    "# result is the p-value : null hypothesis: there are no break points (hypothesis is accepted (p-value: 0.999999))\n",
    "\n",
    "chow = ((RSSd-(RSSb+RSSnb))/J)/((RSSb+RSSnb)/(N1+N2-2*k))\n",
    "import scipy\n",
    "scipy.stats.f.cdf(chow, J, N1+N2-2*k)"
   ]
  },
  {
   "cell_type": "markdown",
   "metadata": {},
   "source": [
    "#### Rolling regression most promising CAD"
   ]
  },
  {
   "cell_type": "code",
   "execution_count": null,
   "metadata": {},
   "outputs": [],
   "source": [
    "x_data=pd.DataFrame(x_data[['10Y US Bond Yield', 'CPI', 'Fed Funds Rate', 'GDP Growth Monthly', 'New_Home_Sales', 'Non-Farm Payrolls', 'Oil Prices', 'PMI', 'Unemployment Rate', 'US Trade Balance']])\n",
    "x_data['const']=1\n",
    "X= x_data[['10Y US Bond Yield', 'CPI', 'Fed Funds Rate', 'GDP Growth Monthly', 'New_Home_Sales', 'Non-Farm Payrolls', 'Oil Prices', 'PMI', 'Unemployment Rate', 'US Trade Balance']]\n",
    "Y= y_data['CAD']"
   ]
  },
  {
   "cell_type": "code",
   "execution_count": null,
   "metadata": {},
   "outputs": [],
   "source": [
    "rolling_ols = rolling_regression(Y,X,60)\n",
    "rolling_ols = pd.DataFrame.from_dict(dict(zip(rolling_ols.index, rolling_ols.values)))\n",
    "rolling_ols_transposed = rolling_ols.T\n",
    "rolling_ols_transposed.columns=[\"Beta_1\",\"Beta_2\",\"Beta_3\",\"Beta_4\",\"Beta_5\",\"Beta_6\",\"Beta_7\",\"Beta_8\",\"Beta_9\",\"Beta_10\"]\n",
    "rolling_ols_transposed.head()"
   ]
  },
  {
   "cell_type": "code",
   "execution_count": null,
   "metadata": {},
   "outputs": [],
   "source": [
    "plt.plot(rolling_ols_transposed[['Beta_1','Beta_2','Beta_3']])\n",
    "labels=[['Beta_1','Beta_2','Beta_3']]\n",
    "plt.legend(labels)\n",
    "plt.title('CAD Rolling Betas 1 - 3')\n",
    "plt.savefig('Betas1_'+ 'CAD' +'.png')\n",
    "plt.show"
   ]
  },
  {
   "cell_type": "code",
   "execution_count": null,
   "metadata": {},
   "outputs": [],
   "source": [
    "plt.plot(rolling_ols_transposed[['Beta_4','Beta_5','Beta_6']])\n",
    "labels=[['Beta_4','Beta_5','Beta_6']]\n",
    "plt.legend(labels)\n",
    "plt.title('CAD Rolling Betas 4 - 6')\n",
    "plt.savefig('Betas2_'+ 'CAD' +'.png')\n",
    "plt.show"
   ]
  },
  {
   "cell_type": "code",
   "execution_count": null,
   "metadata": {},
   "outputs": [],
   "source": [
    "plt.plot(rolling_ols_transposed[['Beta_7','Beta_8','Beta_9']])\n",
    "labels=[['Beta_7','Beta_8','Beta_9']]\n",
    "plt.legend(labels)\n",
    "plt.title('CAD Rolling Betas 7 - 9')\n",
    "plt.savefig('Betas3_'+ 'CAD' +'.png')\n",
    "plt.show"
   ]
  },
  {
   "cell_type": "code",
   "execution_count": null,
   "metadata": {},
   "outputs": [],
   "source": [
    "plt.plot(rolling_ols_transposed['Beta_10'])\n",
    "labels=['Beta_10']\n",
    "plt.legend(labels)\n",
    "plt.title('CAD Rolling Beta 10')\n",
    "plt.savefig('Betas4_'+ 'CAD' +'.png')\n",
    "plt.show"
   ]
  },
  {
   "cell_type": "markdown",
   "metadata": {},
   "source": [
    "#### OLS Loop for CNY"
   ]
  },
  {
   "cell_type": "code",
   "execution_count": null,
   "metadata": {},
   "outputs": [],
   "source": [
    "y=y_data['CNY']\n",
    "x1=x_data[['10Y US Bond Yield', 'CPI', 'Fed Funds Rate', 'GDP Growth Monthly', 'New_Home_Sales', 'Non-Farm Payrolls']]\n",
    "x2=x_data[['10Y US Bond Yield', 'CPI', 'Fed Funds Rate', 'GDP Growth Monthly', 'New_Home_Sales', 'Non-Farm Payrolls', 'US Trade Balance']]\n",
    "x3=x_data[['10Y US Bond Yield', 'CPI', 'Fed Funds Rate', 'GDP Growth Monthly', 'New_Home_Sales', 'Non-Farm Payrolls', 'Unemployment Rate', 'US Trade Balance']]\n",
    "x4=x_data[['10Y US Bond Yield', 'CPI', 'Fed Funds Rate', 'GDP Growth Monthly', 'New_Home_Sales', 'Non-Farm Payrolls', 'PMI', 'Unemployment Rate', 'US Trade Balance']]\n",
    "x5=x_data[['10Y US Bond Yield', 'CPI', 'Fed Funds Rate', 'GDP Growth Monthly', 'New_Home_Sales', 'Non-Farm Payrolls', 'Oil Prices', 'PMI', 'Unemployment Rate', 'US Trade Balance']]\n",
    "\n",
    "x_list = [x1, x2, x3, x4, x5]\n",
    "\n",
    "\n",
    "for i in range(len(x_list)):\n",
    "\n",
    "    Y = y\n",
    "    X = x_list[i]\n",
    "    X = sm.add_constant(X)\n",
    "    model = sm.OLS(Y,X)\n",
    "    results = model.fit()\n",
    "    print(results.summary())"
   ]
  },
  {
   "cell_type": "markdown",
   "metadata": {},
   "source": [
    "#### Chow-Test most promising CNY"
   ]
  },
  {
   "cell_type": "code",
   "execution_count": null,
   "metadata": {},
   "outputs": [],
   "source": [
    "# code for Chow-Test\n",
    "\n",
    "# Model for the entire period\n",
    "Y = y_data['CNY']\n",
    "X = x_data[['10Y US Bond Yield', 'CPI', 'Fed Funds Rate', 'GDP Growth Monthly', 'New_Home_Sales', 'Non-Farm Payrolls', 'Oil Prices', 'PMI', 'Unemployment Rate', 'US Trade Balance']]\n",
    "X = sm.add_constant(X)\n",
    "\n",
    "# Model for the first 5 years\n",
    "Y_1 = y_data['CNY'][0:120]\n",
    "X_1 = x_data[['10Y US Bond Yield', 'CPI', 'Fed Funds Rate', 'GDP Growth Monthly', 'New_Home_Sales', 'Non-Farm Payrolls', 'Oil Prices', 'PMI', 'Unemployment Rate', 'US Trade Balance']][0:120]\n",
    "X_1 = sm.add_constant(X_1)\n",
    "\n",
    "# Model for the following 4 years\n",
    "Y_2 = y_data['CNY'][120:]\n",
    "X_2 = x_data[['10Y US Bond Yield', 'CPI', 'Fed Funds Rate', 'GDP Growth Monthly', 'New_Home_Sales', 'Non-Farm Payrolls', 'Oil Prices', 'PMI', 'Unemployment Rate', 'US Trade Balance']][120:]\n",
    "X_2 = sm.add_constant(X_2)"
   ]
  },
  {
   "cell_type": "code",
   "execution_count": null,
   "metadata": {},
   "outputs": [],
   "source": [
    "model = sm.OLS(Y_1,X_1)\n",
    "results = model.fit()\n",
    "results.summary()"
   ]
  },
  {
   "cell_type": "code",
   "execution_count": null,
   "metadata": {},
   "outputs": [],
   "source": [
    "model = sm.OLS(Y_2,X_2)\n",
    "results = model.fit()\n",
    "results.summary()"
   ]
  },
  {
   "cell_type": "code",
   "execution_count": null,
   "metadata": {},
   "outputs": [],
   "source": [
    "J = X.shape[1]\n",
    "k = X_1.shape[1]\n",
    "N1 = X_1.shape[0]\n",
    "N2 = X_2.shape[0]"
   ]
  },
  {
   "cell_type": "code",
   "execution_count": null,
   "metadata": {},
   "outputs": [],
   "source": [
    "model_dummy = sm.OLS(Y,X).fit()\n",
    "RSSd = model_dummy.ssr\n",
    "\n",
    "model_b = sm.OLS(Y_1,X_1).fit()\n",
    "RSSb = model_b.ssr\n",
    "\n",
    "model_nb = sm.OLS(Y_2,X_2).fit()\n",
    "RSSnb = model_nb.ssr"
   ]
  },
  {
   "cell_type": "code",
   "execution_count": null,
   "metadata": {},
   "outputs": [],
   "source": [
    "# result is the p-value : null hypothesis: there are no break points (hypothesis is accepted (p-value: 0.999999))\n",
    "\n",
    "chow = ((RSSd-(RSSb+RSSnb))/J)/((RSSb+RSSnb)/(N1+N2-2*k))\n",
    "import scipy\n",
    "scipy.stats.f.cdf(chow, J, N1+N2-2*k)"
   ]
  },
  {
   "cell_type": "markdown",
   "metadata": {},
   "source": [
    "#### Rolling regression most promising CNY"
   ]
  },
  {
   "cell_type": "code",
   "execution_count": null,
   "metadata": {},
   "outputs": [],
   "source": [
    "x_data=pd.DataFrame(x_data[['10Y US Bond Yield', 'CPI', 'Fed Funds Rate', 'GDP Growth Monthly', 'New_Home_Sales', 'Non-Farm Payrolls', 'Oil Prices', 'PMI', 'Unemployment Rate', 'US Trade Balance']])\n",
    "x_data['const']=1\n",
    "X= x_data[['10Y US Bond Yield', 'CPI', 'Fed Funds Rate', 'GDP Growth Monthly', 'New_Home_Sales', 'Non-Farm Payrolls', 'Oil Prices', 'PMI', 'Unemployment Rate', 'US Trade Balance']]\n",
    "Y= y_data['CNY']"
   ]
  },
  {
   "cell_type": "code",
   "execution_count": null,
   "metadata": {},
   "outputs": [],
   "source": [
    "rolling_ols = rolling_regression(Y,X,60)\n",
    "rolling_ols = pd.DataFrame.from_dict(dict(zip(rolling_ols.index, rolling_ols.values)))\n",
    "rolling_ols_transposed = rolling_ols.T\n",
    "rolling_ols_transposed.columns=[\"Beta_1\",\"Beta_2\",\"Beta_3\",\"Beta_4\",\"Beta_5\",\"Beta_6\",\"Beta_7\",\"Beta_8\",\"Beta_9\",\"Beta_10\"]\n",
    "rolling_ols_transposed.head()"
   ]
  },
  {
   "cell_type": "code",
   "execution_count": null,
   "metadata": {},
   "outputs": [],
   "source": [
    "plt.plot(rolling_ols_transposed[['Beta_1','Beta_2','Beta_3']])\n",
    "labels=[['Beta_1','Beta_2','Beta_3']]\n",
    "plt.legend(labels)\n",
    "plt.title('CNY Rolling Betas 1 - 3')\n",
    "plt.savefig('Betas1_'+ 'CNY' +'.png')\n",
    "plt.show"
   ]
  },
  {
   "cell_type": "code",
   "execution_count": null,
   "metadata": {},
   "outputs": [],
   "source": [
    "plt.plot(rolling_ols_transposed[['Beta_4','Beta_5','Beta_6']])\n",
    "labels=[['Beta_4','Beta_5','Beta_6']]\n",
    "plt.legend(labels)\n",
    "plt.title('CNY Rolling Betas 4 - 6')\n",
    "plt.savefig('Betas2_'+ 'CNY' +'.png')\n",
    "plt.show"
   ]
  },
  {
   "cell_type": "code",
   "execution_count": null,
   "metadata": {},
   "outputs": [],
   "source": [
    "plt.plot(rolling_ols_transposed[['Beta_7','Beta_8','Beta_9']])\n",
    "labels=[['Beta_7','Beta_8','Beta_9']]\n",
    "plt.legend(labels)\n",
    "plt.title('CNY Rolling Betas 7 - 9')\n",
    "plt.savefig('Betas3_'+ 'CNY' +'.png')\n",
    "plt.show"
   ]
  },
  {
   "cell_type": "code",
   "execution_count": null,
   "metadata": {},
   "outputs": [],
   "source": [
    "plt.plot(rolling_ols_transposed['Beta_10'])\n",
    "labels=['Beta_10']\n",
    "plt.legend(labels)\n",
    "plt.title('CNY Rolling Beta 10')\n",
    "plt.savefig('Betas4_'+ 'CNY' +'.png')\n",
    "plt.show"
   ]
  },
  {
   "cell_type": "markdown",
   "metadata": {},
   "source": [
    "#### OLS Loop for NZD"
   ]
  },
  {
   "cell_type": "code",
   "execution_count": null,
   "metadata": {},
   "outputs": [],
   "source": [
    "y=y_data['NZD']\n",
    "x1=x_data[['CPI', 'Fed Funds Rate', 'GDP Growth Monthly', 'New_Home_Sales', 'Non-Farm Payrolls', 'Oil Prices']]\n",
    "x2=x_data[['10Y US Bond Yield', 'CPI', 'Fed Funds Rate', 'GDP Growth Monthly', 'New_Home_Sales', 'Non-Farm Payrolls', 'Oil Prices',]]\n",
    "x3=x_data[['10Y US Bond Yield', 'CPI', 'Fed Funds Rate', 'GDP Growth Monthly', 'New_Home_Sales', 'Non-Farm Payrolls', 'Oil Prices', 'US Trade Balance']]\n",
    "x4=x_data[['10Y US Bond Yield', 'CPI', 'Fed Funds Rate', 'GDP Growth Monthly', 'New_Home_Sales', 'Non-Farm Payrolls', 'Oil Prices', 'Unemployment Rate', 'US Trade Balance']]\n",
    "x5=x_data[['10Y US Bond Yield', 'CPI', 'Fed Funds Rate', 'GDP Growth Monthly', 'New_Home_Sales', 'Non-Farm Payrolls', 'Oil Prices', 'PMI', 'Unemployment Rate', 'US Trade Balance']]\n",
    "\n",
    "x_list = [x1, x2, x3, x4, x5]\n",
    "\n",
    "\n",
    "for i in range(len(x_list)):\n",
    "\n",
    "    Y = y\n",
    "    X = x_list[i]\n",
    "    X = sm.add_constant(X)\n",
    "    model = sm.OLS(Y,X)\n",
    "    results = model.fit()\n",
    "    print(results.summary())"
   ]
  },
  {
   "cell_type": "markdown",
   "metadata": {},
   "source": [
    "#### Chow-Test most promising NZD"
   ]
  },
  {
   "cell_type": "code",
   "execution_count": null,
   "metadata": {},
   "outputs": [],
   "source": [
    "# code for Chow-Test\n",
    "\n",
    "# Model for the entire period\n",
    "Y = y_data['NZD']\n",
    "X = x_data[['10Y US Bond Yield', 'CPI', 'Fed Funds Rate', 'GDP Growth Monthly', 'New_Home_Sales', 'Non-Farm Payrolls', 'Oil Prices', 'PMI', 'Unemployment Rate', 'US Trade Balance']]\n",
    "X = sm.add_constant(X)\n",
    "\n",
    "# Model for the first 5 years\n",
    "Y_1 = y_data['NZD'][0:120]\n",
    "X_1 = x_data[['10Y US Bond Yield', 'CPI', 'Fed Funds Rate', 'GDP Growth Monthly', 'New_Home_Sales', 'Non-Farm Payrolls', 'Oil Prices', 'PMI', 'Unemployment Rate', 'US Trade Balance']][0:120]\n",
    "X_1 = sm.add_constant(X_1)\n",
    "\n",
    "# Model for the following 4 years\n",
    "Y_2 = y_data['NZD'][120:]\n",
    "X_2 = x_data[['10Y US Bond Yield', 'CPI', 'Fed Funds Rate', 'GDP Growth Monthly', 'New_Home_Sales', 'Non-Farm Payrolls', 'Oil Prices', 'PMI', 'Unemployment Rate', 'US Trade Balance']][120:]\n",
    "X_2 = sm.add_constant(X_2)"
   ]
  },
  {
   "cell_type": "code",
   "execution_count": null,
   "metadata": {},
   "outputs": [],
   "source": [
    "model = sm.OLS(Y_1,X_1)\n",
    "results = model.fit()\n",
    "results.summary()"
   ]
  },
  {
   "cell_type": "code",
   "execution_count": null,
   "metadata": {},
   "outputs": [],
   "source": [
    "model = sm.OLS(Y_2,X_2)\n",
    "results = model.fit()\n",
    "results.summary()"
   ]
  },
  {
   "cell_type": "code",
   "execution_count": null,
   "metadata": {},
   "outputs": [],
   "source": [
    "J = X.shape[1]\n",
    "k = X_1.shape[1]\n",
    "N1 = X_1.shape[0]\n",
    "N2 = X_2.shape[0]"
   ]
  },
  {
   "cell_type": "code",
   "execution_count": null,
   "metadata": {},
   "outputs": [],
   "source": [
    "model_dummy = sm.OLS(Y,X).fit()\n",
    "RSSd = model_dummy.ssr\n",
    "\n",
    "model_b = sm.OLS(Y_1,X_1).fit()\n",
    "RSSb = model_b.ssr\n",
    "\n",
    "model_nb = sm.OLS(Y_2,X_2).fit()\n",
    "RSSnb = model_nb.ssr"
   ]
  },
  {
   "cell_type": "code",
   "execution_count": null,
   "metadata": {},
   "outputs": [],
   "source": [
    "# result is the p-value : null hypothesis: there are no break points (hypothesis is accepted (p-value: 0.999999))\n",
    "\n",
    "chow = ((RSSd-(RSSb+RSSnb))/J)/((RSSb+RSSnb)/(N1+N2-2*k))\n",
    "import scipy\n",
    "scipy.stats.f.cdf(chow, J, N1+N2-2*k)"
   ]
  },
  {
   "cell_type": "markdown",
   "metadata": {},
   "source": [
    "#### Rolling regression most promising NZD"
   ]
  },
  {
   "cell_type": "code",
   "execution_count": null,
   "metadata": {},
   "outputs": [],
   "source": [
    "x_data=pd.DataFrame(x_data[['10Y US Bond Yield', 'CPI', 'Fed Funds Rate', 'GDP Growth Monthly', 'New_Home_Sales', 'Non-Farm Payrolls', 'Oil Prices', 'PMI', 'Unemployment Rate', 'US Trade Balance']])\n",
    "x_data['const']=1\n",
    "X= x_data[['10Y US Bond Yield', 'CPI', 'Fed Funds Rate', 'GDP Growth Monthly', 'New_Home_Sales', 'Non-Farm Payrolls', 'Oil Prices', 'PMI', 'Unemployment Rate', 'US Trade Balance']]\n",
    "Y= y_data['NZD']"
   ]
  },
  {
   "cell_type": "code",
   "execution_count": null,
   "metadata": {},
   "outputs": [],
   "source": [
    "rolling_ols = rolling_regression(Y,X,60)\n",
    "rolling_ols = pd.DataFrame.from_dict(dict(zip(rolling_ols.index, rolling_ols.values)))\n",
    "rolling_ols_transposed = rolling_ols.T\n",
    "rolling_ols_transposed.columns=[\"Beta_1\",\"Beta_2\",\"Beta_3\",\"Beta_4\",\"Beta_5\",\"Beta_6\",\"Beta_7\",\"Beta_8\",\"Beta_9\",\"Beta_10\"]\n",
    "rolling_ols_transposed.head()"
   ]
  },
  {
   "cell_type": "code",
   "execution_count": null,
   "metadata": {},
   "outputs": [],
   "source": [
    "plt.plot(rolling_ols_transposed[['Beta_1','Beta_2','Beta_3']])\n",
    "labels=[['Beta_1','Beta_2','Beta_3']]\n",
    "plt.legend(labels)\n",
    "plt.title('NZD Rolling Betas 1 - 3')\n",
    "plt.savefig('Betas1_'+ 'NZD' +'.png')\n",
    "plt.show"
   ]
  },
  {
   "cell_type": "code",
   "execution_count": null,
   "metadata": {},
   "outputs": [],
   "source": [
    "plt.plot(rolling_ols_transposed[['Beta_4','Beta_5','Beta_6']])\n",
    "labels=[['Beta_4','Beta_5','Beta_6']]\n",
    "plt.legend(labels)\n",
    "plt.title('NZD Rolling Betas 4 - 6')\n",
    "plt.savefig('Betas2_'+ 'NZD' +'.png')\n",
    "plt.show"
   ]
  },
  {
   "cell_type": "code",
   "execution_count": null,
   "metadata": {},
   "outputs": [],
   "source": [
    "plt.plot(rolling_ols_transposed[['Beta_7','Beta_8','Beta_9']])\n",
    "labels=[['Beta_7','Beta_8','Beta_9']]\n",
    "plt.legend(labels)\n",
    "plt.title('NZD Rolling Betas 7 - 9')\n",
    "plt.savefig('Betas3_'+ 'NZD' +'.png')\n",
    "plt.show"
   ]
  },
  {
   "cell_type": "code",
   "execution_count": null,
   "metadata": {},
   "outputs": [],
   "source": [
    "plt.plot(rolling_ols_transposed['Beta_10'])\n",
    "labels=['Beta_10']\n",
    "plt.legend(labels)\n",
    "plt.title('NZD Rolling Beta 10')\n",
    "plt.savefig('Betas4_'+ 'NZD' +'.png')\n",
    "plt.show"
   ]
  },
  {
   "cell_type": "markdown",
   "metadata": {},
   "source": [
    "#### OLS Loop for SEK"
   ]
  },
  {
   "cell_type": "code",
   "execution_count": null,
   "metadata": {},
   "outputs": [],
   "source": [
    "y=y_data['SEK']\n",
    "x1=x_data[['Fed Funds Rate', 'GDP Growth Monthly', 'New_Home_Sales', 'Non-Farm Payrolls', 'Oil Prices', 'PMI']]\n",
    "x2=x_data[['CPI', 'Fed Funds Rate', 'GDP Growth Monthly', 'New_Home_Sales', 'Non-Farm Payrolls', 'Oil Prices', 'PMI']]\n",
    "x3=x_data[['10Y US Bond Yield', 'CPI', 'Fed Funds Rate', 'GDP Growth Monthly', 'New_Home_Sales', 'Non-Farm Payrolls', 'Oil Prices', 'PMI']]\n",
    "x4=x_data[['10Y US Bond Yield', 'CPI', 'Fed Funds Rate', 'GDP Growth Monthly', 'New_Home_Sales', 'Non-Farm Payrolls', 'Oil Prices', 'PMI', 'US Trade Balance']]\n",
    "x5=x_data[['10Y US Bond Yield', 'CPI', 'Fed Funds Rate', 'GDP Growth Monthly', 'New_Home_Sales', 'Non-Farm Payrolls', 'Oil Prices', 'PMI', 'Unemployment Rate', 'US Trade Balance']]\n",
    "\n",
    "x_list = [x1, x2, x3, x4, x5]\n",
    "\n",
    "\n",
    "for i in range(len(x_list)):\n",
    "\n",
    "    Y = y\n",
    "    X = x_list[i]\n",
    "    X = sm.add_constant(X)\n",
    "    model = sm.OLS(Y,X)\n",
    "    results = model.fit()\n",
    "    print(results.summary())"
   ]
  },
  {
   "cell_type": "markdown",
   "metadata": {},
   "source": [
    "#### Chow-Test most promising SEK"
   ]
  },
  {
   "cell_type": "code",
   "execution_count": null,
   "metadata": {},
   "outputs": [],
   "source": [
    "# code for Chow-Test\n",
    "\n",
    "# Model for the entire period\n",
    "Y = y_data['SEK']\n",
    "X = x_data[['10Y US Bond Yield', 'CPI', 'Fed Funds Rate', 'GDP Growth Monthly', 'New_Home_Sales', 'Non-Farm Payrolls', 'Oil Prices', 'PMI', 'Unemployment Rate', 'US Trade Balance']]\n",
    "X = sm.add_constant(X)\n",
    "\n",
    "# Model for the first 5 years\n",
    "Y_1 = y_data['SEK'][0:120]\n",
    "X_1 = x_data[['10Y US Bond Yield', 'CPI', 'Fed Funds Rate', 'GDP Growth Monthly', 'New_Home_Sales', 'Non-Farm Payrolls', 'Oil Prices', 'PMI', 'Unemployment Rate', 'US Trade Balance']][0:120]\n",
    "X_1 = sm.add_constant(X_1)\n",
    "\n",
    "# Model for the following 4 years\n",
    "Y_2 = y_data['SEK'][120:]\n",
    "X_2 = x_data[['10Y US Bond Yield', 'CPI', 'Fed Funds Rate', 'GDP Growth Monthly', 'New_Home_Sales', 'Non-Farm Payrolls', 'Oil Prices', 'PMI', 'Unemployment Rate', 'US Trade Balance']][120:]\n",
    "X_2 = sm.add_constant(X_2)"
   ]
  },
  {
   "cell_type": "code",
   "execution_count": null,
   "metadata": {},
   "outputs": [],
   "source": [
    "model = sm.OLS(Y_1,X_1)\n",
    "results = model.fit()\n",
    "results.summary()"
   ]
  },
  {
   "cell_type": "code",
   "execution_count": null,
   "metadata": {},
   "outputs": [],
   "source": [
    "model = sm.OLS(Y_2,X_2)\n",
    "results = model.fit()\n",
    "results.summary()"
   ]
  },
  {
   "cell_type": "code",
   "execution_count": null,
   "metadata": {},
   "outputs": [],
   "source": [
    "J = X.shape[1]\n",
    "k = X_1.shape[1]\n",
    "N1 = X_1.shape[0]\n",
    "N2 = X_2.shape[0]"
   ]
  },
  {
   "cell_type": "code",
   "execution_count": null,
   "metadata": {},
   "outputs": [],
   "source": [
    "model_dummy = sm.OLS(Y,X).fit()\n",
    "RSSd = model_dummy.ssr\n",
    "\n",
    "model_b = sm.OLS(Y_1,X_1).fit()\n",
    "RSSb = model_b.ssr\n",
    "\n",
    "model_nb = sm.OLS(Y_2,X_2).fit()\n",
    "RSSnb = model_nb.ssr"
   ]
  },
  {
   "cell_type": "code",
   "execution_count": null,
   "metadata": {},
   "outputs": [],
   "source": [
    "# result is the p-value : null hypothesis: there are no break points (hypothesis is accepted (p-value: 0.999999))\n",
    "\n",
    "chow = ((RSSd-(RSSb+RSSnb))/J)/((RSSb+RSSnb)/(N1+N2-2*k))\n",
    "import scipy\n",
    "scipy.stats.f.cdf(chow, J, N1+N2-2*k)"
   ]
  },
  {
   "cell_type": "markdown",
   "metadata": {},
   "source": [
    "#### Rolling regression most promising SEK"
   ]
  },
  {
   "cell_type": "code",
   "execution_count": null,
   "metadata": {},
   "outputs": [],
   "source": [
    "x_data=pd.DataFrame(x_data[['10Y US Bond Yield', 'CPI', 'Fed Funds Rate', 'GDP Growth Monthly', 'New_Home_Sales', 'Non-Farm Payrolls', 'Oil Prices', 'PMI', 'Unemployment Rate', 'US Trade Balance']])\n",
    "x_data['const']=1\n",
    "X= x_data[['10Y US Bond Yield', 'CPI', 'Fed Funds Rate', 'GDP Growth Monthly', 'New_Home_Sales', 'Non-Farm Payrolls', 'Oil Prices', 'PMI', 'Unemployment Rate', 'US Trade Balance']]\n",
    "Y= y_data['SEK']"
   ]
  },
  {
   "cell_type": "code",
   "execution_count": null,
   "metadata": {},
   "outputs": [],
   "source": [
    "rolling_ols = rolling_regression(Y,X,60)\n",
    "rolling_ols = pd.DataFrame.from_dict(dict(zip(rolling_ols.index, rolling_ols.values)))\n",
    "rolling_ols_transposed = rolling_ols.T\n",
    "rolling_ols_transposed.columns=[\"Beta_1\",\"Beta_2\",\"Beta_3\",\"Beta_4\",\"Beta_5\",\"Beta_6\",\"Beta_7\",\"Beta_8\",\"Beta_9\",\"Beta_10\"]\n",
    "rolling_ols_transposed.head()"
   ]
  },
  {
   "cell_type": "code",
   "execution_count": null,
   "metadata": {},
   "outputs": [],
   "source": [
    "plt.plot(rolling_ols_transposed[['Beta_1','Beta_2','Beta_3']])\n",
    "labels=[['Beta_1','Beta_2','Beta_3']]\n",
    "plt.legend(labels)\n",
    "plt.title('SEK Rolling Betas 1 - 3')\n",
    "plt.savefig('Betas1_'+ 'SEK' +'.png')\n",
    "plt.show"
   ]
  },
  {
   "cell_type": "code",
   "execution_count": null,
   "metadata": {},
   "outputs": [],
   "source": [
    "plt.plot(rolling_ols_transposed[['Beta_4','Beta_5','Beta_6']])\n",
    "labels=[['Beta_4','Beta_5','Beta_6']]\n",
    "plt.legend(labels)\n",
    "plt.title('SEK Rolling Betas 4 - 6')\n",
    "plt.savefig('Betas2_'+ 'SEK' +'.png')\n",
    "plt.show"
   ]
  },
  {
   "cell_type": "code",
   "execution_count": null,
   "metadata": {},
   "outputs": [],
   "source": [
    "plt.plot(rolling_ols_transposed[['Beta_7','Beta_8','Beta_9']])\n",
    "labels=[['Beta_7','Beta_8','Beta_9']]\n",
    "plt.legend(labels)\n",
    "plt.title('SEK Rolling Betas 7 - 9')\n",
    "plt.savefig('Betas3_'+ 'SEK' +'.png')\n",
    "plt.show"
   ]
  },
  {
   "cell_type": "code",
   "execution_count": null,
   "metadata": {},
   "outputs": [],
   "source": [
    "plt.plot(rolling_ols_transposed['Beta_10'])\n",
    "labels=['Beta_10']\n",
    "plt.legend(labels)\n",
    "plt.title('SEK Rolling Beta 10')\n",
    "plt.savefig('Betas4_'+ 'SEK' +'.png')\n",
    "plt.show"
   ]
  },
  {
   "cell_type": "markdown",
   "metadata": {},
   "source": [
    "#### OLS Loop for HKD"
   ]
  },
  {
   "cell_type": "code",
   "execution_count": null,
   "metadata": {},
   "outputs": [],
   "source": [
    "y=y_data['HKD']\n",
    "x1=x_data[['GDP Growth Monthly', 'New_Home_Sales', 'Non-Farm Payrolls', 'Oil Prices', 'PMI', 'Unemployment Rate']]\n",
    "x2=x_data[['Fed Funds Rate', 'GDP Growth Monthly', 'New_Home_Sales', 'Non-Farm Payrolls', 'Oil Prices', 'PMI', 'Unemployment Rate']]\n",
    "x3=x_data[['CPI', 'Fed Funds Rate', 'GDP Growth Monthly', 'New_Home_Sales', 'Non-Farm Payrolls', 'Oil Prices', 'PMI', 'Unemployment Rate']]\n",
    "x4=x_data[['10Y US Bond Yield', 'CPI', 'Fed Funds Rate', 'GDP Growth Monthly', 'New_Home_Sales', 'Non-Farm Payrolls', 'Oil Prices', 'PMI', 'Unemployment Rate']]\n",
    "x5=x_data[['10Y US Bond Yield', 'CPI', 'Fed Funds Rate', 'GDP Growth Monthly', 'New_Home_Sales', 'Non-Farm Payrolls', 'Oil Prices', 'PMI', 'Unemployment Rate', 'US Trade Balance']]\n",
    "\n",
    "x_list = [x1, x2, x3, x4, x5]\n",
    "\n",
    "\n",
    "for i in range(len(x_list)):\n",
    "\n",
    "    Y = y\n",
    "    X = x_list[i]\n",
    "    X = sm.add_constant(X)\n",
    "    model = sm.OLS(Y,X)\n",
    "    results = model.fit()\n",
    "    print(results.summary())"
   ]
  },
  {
   "cell_type": "markdown",
   "metadata": {},
   "source": [
    "#### Chow-Test most promising HKD"
   ]
  },
  {
   "cell_type": "code",
   "execution_count": null,
   "metadata": {},
   "outputs": [],
   "source": [
    "# code for Chow-Test\n",
    "\n",
    "# Model for the entire period\n",
    "Y = y_data['HKD']\n",
    "X = x_data[['10Y US Bond Yield', 'CPI', 'Fed Funds Rate', 'GDP Growth Monthly', 'New_Home_Sales', 'Non-Farm Payrolls', 'Oil Prices', 'PMI', 'Unemployment Rate']]\n",
    "X = sm.add_constant(X)\n",
    "\n",
    "# Model for the first 5 years\n",
    "Y_1 = y_data['HKD'][0:120]\n",
    "X_1 = x_data[['10Y US Bond Yield', 'CPI', 'Fed Funds Rate', 'GDP Growth Monthly', 'New_Home_Sales', 'Non-Farm Payrolls', 'Oil Prices', 'PMI', 'Unemployment Rate']][0:120]\n",
    "X_1 = sm.add_constant(X_1)\n",
    "\n",
    "# Model for the following 4 years\n",
    "Y_2 = y_data['HKD'][120:]\n",
    "X_2 = x_data[['10Y US Bond Yield', 'CPI', 'Fed Funds Rate', 'GDP Growth Monthly', 'New_Home_Sales', 'Non-Farm Payrolls', 'Oil Prices', 'PMI', 'Unemployment Rate']][120:]\n",
    "X_2 = sm.add_constant(X_2)"
   ]
  },
  {
   "cell_type": "code",
   "execution_count": null,
   "metadata": {},
   "outputs": [],
   "source": [
    "model = sm.OLS(Y_1,X_1)\n",
    "results = model.fit()\n",
    "results.summary()"
   ]
  },
  {
   "cell_type": "code",
   "execution_count": null,
   "metadata": {},
   "outputs": [],
   "source": [
    "model = sm.OLS(Y_2,X_2)\n",
    "results = model.fit()\n",
    "results.summary()"
   ]
  },
  {
   "cell_type": "code",
   "execution_count": null,
   "metadata": {},
   "outputs": [],
   "source": [
    "J = X.shape[1]\n",
    "k = X_1.shape[1]\n",
    "N1 = X_1.shape[0]\n",
    "N2 = X_2.shape[0]"
   ]
  },
  {
   "cell_type": "code",
   "execution_count": null,
   "metadata": {},
   "outputs": [],
   "source": [
    "model_dummy = sm.OLS(Y,X).fit()\n",
    "RSSd = model_dummy.ssr\n",
    "\n",
    "model_b = sm.OLS(Y_1,X_1).fit()\n",
    "RSSb = model_b.ssr\n",
    "\n",
    "model_nb = sm.OLS(Y_2,X_2).fit()\n",
    "RSSnb = model_nb.ssr"
   ]
  },
  {
   "cell_type": "code",
   "execution_count": null,
   "metadata": {},
   "outputs": [],
   "source": [
    "# result is the p-value : null hypothesis: there are no break points (hypothesis is accepted (p-value: 0.999999))\n",
    "\n",
    "chow = ((RSSd-(RSSb+RSSnb))/J)/((RSSb+RSSnb)/(N1+N2-2*k))\n",
    "import scipy\n",
    "scipy.stats.f.cdf(chow, J, N1+N2-2*k)"
   ]
  },
  {
   "cell_type": "markdown",
   "metadata": {},
   "source": [
    "#### Rolling regression most promising HKD"
   ]
  },
  {
   "cell_type": "code",
   "execution_count": null,
   "metadata": {},
   "outputs": [],
   "source": [
    "x_data=pd.DataFrame(x_data[['10Y US Bond Yield', 'CPI', 'Fed Funds Rate', 'GDP Growth Monthly', 'New_Home_Sales', 'Non-Farm Payrolls', 'Oil Prices', 'PMI', 'Unemployment Rate']])\n",
    "x_data['const']=1\n",
    "X= x_data[['10Y US Bond Yield', 'CPI', 'Fed Funds Rate', 'GDP Growth Monthly', 'New_Home_Sales', 'Non-Farm Payrolls', 'Oil Prices', 'PMI', 'Unemployment Rate']]\n",
    "Y= y_data['HKD']"
   ]
  },
  {
   "cell_type": "code",
   "execution_count": null,
   "metadata": {},
   "outputs": [],
   "source": [
    "rolling_ols = rolling_regression(Y,X,60)\n",
    "rolling_ols = pd.DataFrame.from_dict(dict(zip(rolling_ols.index, rolling_ols.values)))\n",
    "rolling_ols_transposed = rolling_ols.T\n",
    "rolling_ols_transposed.columns=[\"Beta_1\",\"Beta_2\",\"Beta_3\",\"Beta_4\",\"Beta_5\",\"Beta_6\",\"Beta_7\",\"Beta_8\",\"Beta_9\"]\n",
    "rolling_ols_transposed.head()"
   ]
  },
  {
   "cell_type": "code",
   "execution_count": null,
   "metadata": {},
   "outputs": [],
   "source": [
    "plt.plot(rolling_ols_transposed[['Beta_1','Beta_2','Beta_3']])\n",
    "labels=[['Beta_1','Beta_2','Beta_3']]\n",
    "plt.legend(labels)\n",
    "plt.title('HKD Rolling Betas 1 - 3')\n",
    "plt.savefig('Betas1_'+ 'HKD' +'.png')\n",
    "plt.show"
   ]
  },
  {
   "cell_type": "code",
   "execution_count": null,
   "metadata": {},
   "outputs": [],
   "source": [
    "plt.plot(rolling_ols_transposed[['Beta_4','Beta_5','Beta_6']])\n",
    "labels=[['Beta_4','Beta_5','Beta_6']]\n",
    "plt.legend(labels)\n",
    "plt.title('HKD Rolling Betas 4 - 6')\n",
    "plt.savefig('Betas2_'+ 'HKD' +'.png')\n",
    "plt.show"
   ]
  },
  {
   "cell_type": "code",
   "execution_count": null,
   "metadata": {},
   "outputs": [],
   "source": [
    "plt.plot(rolling_ols_transposed[['Beta_7','Beta_8','Beta_9']])\n",
    "labels=[['Beta_7','Beta_8','Beta_9']]\n",
    "plt.legend(labels)\n",
    "plt.title('HKD Rolling Betas 7 - 9')\n",
    "plt.savefig('Betas3_'+ 'HKD' +'.png')\n",
    "plt.show"
   ]
  }
 ],
 "metadata": {
  "kernelspec": {
   "display_name": "Python 3",
   "language": "python",
   "name": "python3"
  },
  "language_info": {
   "codemirror_mode": {
    "name": "ipython",
    "version": 3
   },
   "file_extension": ".py",
   "mimetype": "text/x-python",
   "name": "python",
   "nbconvert_exporter": "python",
   "pygments_lexer": "ipython3",
   "version": "3.8.3"
  }
 },
 "nbformat": 4,
 "nbformat_minor": 2
}
